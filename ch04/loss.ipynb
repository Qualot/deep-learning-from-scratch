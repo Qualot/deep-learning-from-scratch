{
  "nbformat": 4,
  "nbformat_minor": 0,
  "metadata": {
    "colab": {
      "provenance": [],
      "authorship_tag": "ABX9TyNBgX+WjQFsqq0TeamUheIZ",
      "include_colab_link": true
    },
    "kernelspec": {
      "name": "python3",
      "display_name": "Python 3"
    },
    "language_info": {
      "name": "python"
    }
  },
  "cells": [
    {
      "cell_type": "markdown",
      "metadata": {
        "id": "view-in-github",
        "colab_type": "text"
      },
      "source": [
        "<a href=\"https://colab.research.google.com/github/Qualot/deep-learning-from-scratch/blob/colab/ch04/loss.ipynb\" target=\"_parent\"><img src=\"https://colab.research.google.com/assets/colab-badge.svg\" alt=\"Open In Colab\"/></a>"
      ]
    },
    {
      "cell_type": "code",
      "source": [
        "import numpy as np\n",
        "import matplotlib.pyplot as plt\n",
        "from keras.datasets import mnist\n",
        "from keras.utils import to_categorical"
      ],
      "metadata": {
        "id": "m3SFaVqcLbhT"
      },
      "execution_count": 37,
      "outputs": []
    },
    {
      "cell_type": "code",
      "source": [
        "np.set_printoptions(linewidth=10000)"
      ],
      "metadata": {
        "id": "MI1VBmLoZU3L"
      },
      "execution_count": 38,
      "outputs": []
    },
    {
      "cell_type": "code",
      "execution_count": 39,
      "metadata": {
        "id": "fvILzwrGKd-_"
      },
      "outputs": [],
      "source": [
        "y = [0.1, 0.05, 0.6, 0.0, 0.05, 0.1, 0.0, 0.1, 0.0, 0.0]\n",
        "t = [0, 0, 1, 0, 0, 0, 0, 0, 0, 0]"
      ]
    },
    {
      "cell_type": "markdown",
      "source": [
        "#softmax"
      ],
      "metadata": {
        "id": "emZqU9ZKUlPN"
      }
    },
    {
      "cell_type": "code",
      "source": [
        "def softmax(a):\n",
        "  c = np.max(a)\n",
        "  exp_a = np.exp(a-c)\n",
        "  sum_exp_a = np.sum(exp_a)\n",
        "  y = exp_a / sum_exp_a\n",
        "  return y"
      ],
      "metadata": {
        "id": "v-6rRDf9Uh9D"
      },
      "execution_count": 40,
      "outputs": []
    },
    {
      "cell_type": "markdown",
      "source": [
        "#Sum of squared error: 2乗和誤差\n",
        "$$\n",
        "  E = \\sum_{k} \\left(y_k - t_k \\right)^2\n",
        "$$"
      ],
      "metadata": {
        "id": "C2RgqkmcNM1m"
      }
    },
    {
      "cell_type": "code",
      "source": [
        "def sum_squared_error(y, t):\n",
        "  return 0.5 * np.sum((np.array(y) - np.array(t))**2)"
      ],
      "metadata": {
        "id": "1FsHMhPTK1Vy"
      },
      "execution_count": 41,
      "outputs": []
    },
    {
      "cell_type": "markdown",
      "source": [
        "## When the softmax returns \"2\"\n"
      ],
      "metadata": {
        "id": "dxmJIXIoOIIR"
      }
    },
    {
      "cell_type": "code",
      "source": [
        "y = [0.1, 0.05, 0.6, 0.0, 0.05, 0.1, 0.0, 0.1, 0.0, 0.0]\n",
        "t = [0, 0, 1, 0, 0, 0, 0, 0, 0, 0]\n",
        "print(sum_squared_error(y, t))"
      ],
      "metadata": {
        "colab": {
          "base_uri": "https://localhost:8080/"
        },
        "id": "IGHMuNnULQqR",
        "outputId": "6c19ed2b-6300-47af-e9fe-58292201948e"
      },
      "execution_count": 42,
      "outputs": [
        {
          "output_type": "stream",
          "name": "stdout",
          "text": [
            "0.09750000000000003\n"
          ]
        }
      ]
    },
    {
      "cell_type": "markdown",
      "source": [
        "## When the softmax returns \"7\"\n"
      ],
      "metadata": {
        "id": "yL860PA4OVRY"
      }
    },
    {
      "cell_type": "code",
      "source": [
        "y = [0.1, 0.05, 0.1, 0.0, 0.05, 0.1, 0.0, 0.6, 0.0, 0.0]\n",
        "t = [0, 0, 1, 0, 0, 0, 0, 0, 0, 0]\n",
        "print(sum_squared_error(y, t))"
      ],
      "metadata": {
        "colab": {
          "base_uri": "https://localhost:8080/"
        },
        "id": "MUuhq23jLZU8",
        "outputId": "4414de82-db11-4932-c1fc-431899b0944c"
      },
      "execution_count": 43,
      "outputs": [
        {
          "output_type": "stream",
          "name": "stdout",
          "text": [
            "0.5975\n"
          ]
        }
      ]
    },
    {
      "cell_type": "markdown",
      "source": [
        "#Cross entrypy error: 交差エントロピー誤差\n",
        "$$\n",
        "  E = -\\sum_{k} t_k \\mathrm{log} \\left(y_k \\right)\n",
        "$$"
      ],
      "metadata": {
        "id": "I1YizYDiOycE"
      }
    },
    {
      "cell_type": "code",
      "source": [
        "def cross_entropy_error(y, t):\n",
        "  if y.ndim == 1:\n",
        "    t = t.reshape(1, t.size)\n",
        "    y = y.reshape(1, y.size)\n",
        "\n",
        "  delta = 1e-7\n",
        "  batch_size = y.shape[0]\n",
        "  return -np.sum(t * np.log(y + delta)) / batch_size"
      ],
      "metadata": {
        "id": "Ce8K6WrPMQx0"
      },
      "execution_count": 44,
      "outputs": []
    },
    {
      "cell_type": "code",
      "source": [
        "t = [0, 0, 1, 0, 0, 0, 0, 0, 0, 0]\n",
        "y = [0.1, 0.05, 0.6, 0.0, 0.05, 0.1, 0.0, 0.1, 0.0, 0.0]\n",
        "print(cross_entropy_error(np.array(y), np.array(t)))"
      ],
      "metadata": {
        "colab": {
          "base_uri": "https://localhost:8080/"
        },
        "id": "32eMjnpKP9g1",
        "outputId": "09473485-8c40-41fd-e397-b129cc145af4"
      },
      "execution_count": 45,
      "outputs": [
        {
          "output_type": "stream",
          "name": "stdout",
          "text": [
            "0.510825457099338\n"
          ]
        }
      ]
    },
    {
      "cell_type": "code",
      "source": [
        "y = [0.1, 0.05, 0.1, 0.0, 0.05, 0.1, 0.0, 0.6, 0.0, 0.0]\n",
        "print(cross_entropy_error(np.array(y), np.array(t)))"
      ],
      "metadata": {
        "colab": {
          "base_uri": "https://localhost:8080/"
        },
        "id": "DLXuDKItQNx1",
        "outputId": "23267b89-d8ac-41b3-ff2e-85b8a8331bdd"
      },
      "execution_count": 46,
      "outputs": [
        {
          "output_type": "stream",
          "name": "stdout",
          "text": [
            "2.302584092994546\n"
          ]
        }
      ]
    },
    {
      "cell_type": "code",
      "source": [
        "t = np.array([2, 1, 0, 3])\n",
        "# Calculate the number of classes\n",
        "num_classes = np.max(t) + 1\n",
        "\n",
        "# Create a one-hot label array using numpy's eye function\n",
        "t_goal = np.eye(num_classes)[t]\n",
        "\n",
        "print(t_goal)"
      ],
      "metadata": {
        "id": "eQDLmKz7QdNF",
        "outputId": "2fe9b781-1b56-4bdb-f518-b4db56a8f02f",
        "colab": {
          "base_uri": "https://localhost:8080/"
        }
      },
      "execution_count": 47,
      "outputs": [
        {
          "output_type": "stream",
          "name": "stdout",
          "text": [
            "[[0. 0. 1. 0.]\n",
            " [0. 1. 0. 0.]\n",
            " [1. 0. 0. 0.]\n",
            " [0. 0. 0. 1.]]\n"
          ]
        }
      ]
    },
    {
      "cell_type": "markdown",
      "source": [
        "# MNIST のロード"
      ],
      "metadata": {
        "id": "W68T6I-2Y2T3"
      }
    },
    {
      "cell_type": "code",
      "source": [
        "(x_train, t_train), (x_test, t_test) = mnist.load_data()\n",
        "\n",
        "print(x_train[0])"
      ],
      "metadata": {
        "id": "7oJlJF5TZiQI",
        "outputId": "791d089a-3293-490a-cdde-c8936a320223",
        "colab": {
          "base_uri": "https://localhost:8080/"
        }
      },
      "execution_count": 48,
      "outputs": [
        {
          "output_type": "stream",
          "name": "stdout",
          "text": [
            "[[  0   0   0   0   0   0   0   0   0   0   0   0   0   0   0   0   0   0   0   0   0   0   0   0   0   0   0   0]\n",
            " [  0   0   0   0   0   0   0   0   0   0   0   0   0   0   0   0   0   0   0   0   0   0   0   0   0   0   0   0]\n",
            " [  0   0   0   0   0   0   0   0   0   0   0   0   0   0   0   0   0   0   0   0   0   0   0   0   0   0   0   0]\n",
            " [  0   0   0   0   0   0   0   0   0   0   0   0   0   0   0   0   0   0   0   0   0   0   0   0   0   0   0   0]\n",
            " [  0   0   0   0   0   0   0   0   0   0   0   0   0   0   0   0   0   0   0   0   0   0   0   0   0   0   0   0]\n",
            " [  0   0   0   0   0   0   0   0   0   0   0   0   3  18  18  18 126 136 175  26 166 255 247 127   0   0   0   0]\n",
            " [  0   0   0   0   0   0   0   0  30  36  94 154 170 253 253 253 253 253 225 172 253 242 195  64   0   0   0   0]\n",
            " [  0   0   0   0   0   0   0  49 238 253 253 253 253 253 253 253 253 251  93  82  82  56  39   0   0   0   0   0]\n",
            " [  0   0   0   0   0   0   0  18 219 253 253 253 253 253 198 182 247 241   0   0   0   0   0   0   0   0   0   0]\n",
            " [  0   0   0   0   0   0   0   0  80 156 107 253 253 205  11   0  43 154   0   0   0   0   0   0   0   0   0   0]\n",
            " [  0   0   0   0   0   0   0   0   0  14   1 154 253  90   0   0   0   0   0   0   0   0   0   0   0   0   0   0]\n",
            " [  0   0   0   0   0   0   0   0   0   0   0 139 253 190   2   0   0   0   0   0   0   0   0   0   0   0   0   0]\n",
            " [  0   0   0   0   0   0   0   0   0   0   0  11 190 253  70   0   0   0   0   0   0   0   0   0   0   0   0   0]\n",
            " [  0   0   0   0   0   0   0   0   0   0   0   0  35 241 225 160 108   1   0   0   0   0   0   0   0   0   0   0]\n",
            " [  0   0   0   0   0   0   0   0   0   0   0   0   0  81 240 253 253 119  25   0   0   0   0   0   0   0   0   0]\n",
            " [  0   0   0   0   0   0   0   0   0   0   0   0   0   0  45 186 253 253 150  27   0   0   0   0   0   0   0   0]\n",
            " [  0   0   0   0   0   0   0   0   0   0   0   0   0   0   0  16  93 252 253 187   0   0   0   0   0   0   0   0]\n",
            " [  0   0   0   0   0   0   0   0   0   0   0   0   0   0   0   0   0 249 253 249  64   0   0   0   0   0   0   0]\n",
            " [  0   0   0   0   0   0   0   0   0   0   0   0   0   0  46 130 183 253 253 207   2   0   0   0   0   0   0   0]\n",
            " [  0   0   0   0   0   0   0   0   0   0   0   0  39 148 229 253 253 253 250 182   0   0   0   0   0   0   0   0]\n",
            " [  0   0   0   0   0   0   0   0   0   0  24 114 221 253 253 253 253 201  78   0   0   0   0   0   0   0   0   0]\n",
            " [  0   0   0   0   0   0   0   0  23  66 213 253 253 253 253 198  81   2   0   0   0   0   0   0   0   0   0   0]\n",
            " [  0   0   0   0   0   0  18 171 219 253 253 253 253 195  80   9   0   0   0   0   0   0   0   0   0   0   0   0]\n",
            " [  0   0   0   0  55 172 226 253 253 253 253 244 133  11   0   0   0   0   0   0   0   0   0   0   0   0   0   0]\n",
            " [  0   0   0   0 136 253 253 253 212 135 132  16   0   0   0   0   0   0   0   0   0   0   0   0   0   0   0   0]\n",
            " [  0   0   0   0   0   0   0   0   0   0   0   0   0   0   0   0   0   0   0   0   0   0   0   0   0   0   0   0]\n",
            " [  0   0   0   0   0   0   0   0   0   0   0   0   0   0   0   0   0   0   0   0   0   0   0   0   0   0   0   0]\n",
            " [  0   0   0   0   0   0   0   0   0   0   0   0   0   0   0   0   0   0   0   0   0   0   0   0   0   0   0   0]]\n"
          ]
        }
      ]
    },
    {
      "cell_type": "code",
      "source": [
        "plt.figure()\n",
        "plt.imshow(x_train[0])\n",
        "plt.colorbar()\n",
        "plt.grid(False)\n",
        "plt.show()"
      ],
      "metadata": {
        "id": "OWvd8-PPZif1",
        "outputId": "b92eaed8-38b3-43cf-d103-97b6b0f78ff0",
        "colab": {
          "base_uri": "https://localhost:8080/",
          "height": 430
        }
      },
      "execution_count": 49,
      "outputs": [
        {
          "output_type": "display_data",
          "data": {
            "text/plain": [
              "<Figure size 640x480 with 2 Axes>"
            ],
            "image/png": "[encoded data removed]"
          },
          "metadata": {}
        }
      ]
    },
    {
      "cell_type": "code",
      "source": [
        "def get_data():\n",
        "  #when using dataset library\n",
        "  #  (x_train, t_train), (x_test, t_test) = mnist.load_data(normalize=True, flatten=True, one_hot_label=False)\n",
        "  (x_train, t_train), (x_test, t_test) = mnist.load_data()\n",
        "\n",
        "  #normalize\n",
        "  x_train, x_test = x_train / 255.0, x_test / 255.0\n",
        "\n",
        "  #flatten\n",
        "  x_train, t_train, x_test, t_test = [arr.reshape(arr.shape[0], -1) for arr in (x_train, t_train, x_test, t_test)]\n",
        "\n",
        "  #one-hot\n",
        "  t_train = to_categorical(t_train)\n",
        "  t_test = to_categorical(t_test)\n",
        "\n",
        "  print(f\"x_train.shape is ... {x_train.shape}\")\n",
        "  print(f\"t_train.shape is ... {t_train.shape}\")\n",
        "  print(f\"x_test.shape is ... {x_test.shape}\")\n",
        "  print(f\"t_test.shape is ... {t_test.shape}\")\n",
        "\n",
        "  train_size = x_train.shape[0]\n",
        "  batch_size = 10\n",
        "  batch_mask = np.random.choice(train_size, batch_size)\n",
        "  print(f\"batch_mask is ... {batch_mask}\")\n",
        "  print()\n",
        "\n",
        "  print(f\"x_batch is ... \\n{x_train[batch_mask].shape}\")\n",
        "  print()\n",
        "  print(f\"t_batch is ... \\n{t_train[batch_mask]}\")\n",
        "  print()\n",
        "  print()\n",
        "\n",
        "  return x_test, t_test"
      ],
      "metadata": {
        "id": "zPuRblaUgsUv"
      },
      "execution_count": 50,
      "outputs": []
    },
    {
      "cell_type": "code",
      "source": [
        "x, t = get_data()\n",
        "print(t[0])"
      ],
      "metadata": {
        "id": "w2fmAsYlZzvG",
        "colab": {
          "base_uri": "https://localhost:8080/"
        },
        "outputId": "f682d724-84e9-4dd8-e81b-dff0c9498057"
      },
      "execution_count": 51,
      "outputs": [
        {
          "output_type": "stream",
          "name": "stdout",
          "text": [
            "x_train.shape is ... (60000, 784)\n",
            "t_train.shape is ... (60000, 10)\n",
            "x_test.shape is ... (10000, 784)\n",
            "t_test.shape is ... (10000, 10)\n",
            "batch_mask is ... [ 9675 59294  6980  1274 30011 57575 24720  3765 51830  1386]\n",
            "\n",
            "x_batch is ... \n",
            "(10, 784)\n",
            "\n",
            "t_batch is ... \n",
            "[[1. 0. 0. 0. 0. 0. 0. 0. 0. 0.]\n",
            " [0. 0. 0. 0. 0. 0. 0. 0. 1. 0.]\n",
            " [0. 0. 0. 0. 0. 1. 0. 0. 0. 0.]\n",
            " [0. 0. 0. 0. 0. 0. 0. 0. 0. 1.]\n",
            " [0. 0. 0. 1. 0. 0. 0. 0. 0. 0.]\n",
            " [1. 0. 0. 0. 0. 0. 0. 0. 0. 0.]\n",
            " [0. 0. 0. 0. 0. 0. 0. 0. 1. 0.]\n",
            " [0. 0. 1. 0. 0. 0. 0. 0. 0. 0.]\n",
            " [0. 0. 0. 0. 0. 0. 0. 0. 1. 0.]\n",
            " [1. 0. 0. 0. 0. 0. 0. 0. 0. 0.]]\n",
            "\n",
            "\n",
            "[0. 0. 0. 0. 0. 0. 0. 1. 0. 0.]\n"
          ]
        }
      ]
    },
    {
      "cell_type": "code",
      "source": [
        "alist = np.array(range(10))\n",
        "blist = np.array(range(5))\n",
        "print(alist)\n",
        "print(blist)\n",
        "print(alist[blist*2])\n",
        "print(alist.shape)\n",
        "print(alist.reshape(1, alist.size).shape)"
      ],
      "metadata": {
        "id": "aDuw-qEyZ1tN",
        "outputId": "2ffa7870-c692-4d08-a617-94e92c6943cb",
        "colab": {
          "base_uri": "https://localhost:8080/"
        }
      },
      "execution_count": 52,
      "outputs": [
        {
          "output_type": "stream",
          "name": "stdout",
          "text": [
            "[0 1 2 3 4 5 6 7 8 9]\n",
            "[0 1 2 3 4]\n",
            "[0 2 4 6 8]\n",
            "(10,)\n",
            "(1, 10)\n"
          ]
        }
      ]
    },
    {
      "cell_type": "markdown",
      "source": [
        "# Numerical differentials"
      ],
      "metadata": {
        "id": "misI3o-MiJZF"
      }
    },
    {
      "cell_type": "code",
      "source": [
        "def numerical_diff(f, x):\n",
        "  h = 1e-4 #0.0001\n",
        "  return (f(x+h) - f(x-h)) / (2.0 * h)"
      ],
      "metadata": {
        "id": "jaagO13QipQ1"
      },
      "execution_count": 53,
      "outputs": []
    },
    {
      "cell_type": "code",
      "source": [
        "def function_1(x):\n",
        "  return 0.01*x**2 + 0.1 * x"
      ],
      "metadata": {
        "id": "aVzHvhn5iY0m"
      },
      "execution_count": 54,
      "outputs": []
    },
    {
      "cell_type": "code",
      "source": [
        "x = np.arange(0.0, 20.0, 0.1)\n",
        "y = function_1(x)\n",
        "plt.xlabel(\"x\")\n",
        "plt.ylabel(\"f(x)\")\n",
        "plt.plot(x, y)\n",
        "plt.show()"
      ],
      "metadata": {
        "id": "aZOrtVcCxi5V",
        "colab": {
          "base_uri": "https://localhost:8080/",
          "height": 449
        },
        "outputId": "597272da-a095-4e62-85c4-8b5a2e417858"
      },
      "execution_count": 55,
      "outputs": [
        {
          "output_type": "display_data",
          "data": {
            "text/plain": [
              "<Figure size 640x480 with 1 Axes>"
            ],
            "image/png": "[encoded data removed]"
          },
          "metadata": {}
        }
      ]
    },
    {
      "cell_type": "code",
      "source": [
        "print(numerical_diff(function_1, 5))\n",
        "print(numerical_diff(function_1, 10))\n"
      ],
      "metadata": {
        "colab": {
          "base_uri": "https://localhost:8080/"
        },
        "id": "8BpblJPLiVYr",
        "outputId": "9f9a9efc-ea48-482c-a705-b1de22e6772e"
      },
      "execution_count": 56,
      "outputs": [
        {
          "output_type": "stream",
          "name": "stdout",
          "text": [
            "0.1999999999990898\n",
            "0.2999999999986347\n"
          ]
        }
      ]
    },
    {
      "cell_type": "code",
      "source": [
        "def function_2(x):\n",
        "  return np.sum(x**2)"
      ],
      "metadata": {
        "id": "v8koVT0Pi_L6"
      },
      "execution_count": 57,
      "outputs": []
    },
    {
      "cell_type": "code",
      "source": [
        "def _numerical_gradient_wo_batch(f, x):\n",
        "  h = 1e-4\n",
        "  grad = np.zeros_like(x)\n",
        "  #print(f\"x.size is ... {x.size}\")\n",
        "  #for idx in range(np.max(x.shape)):\n",
        "  for idx in range(x.size):\n",
        "    tmp_val = x[idx]\n",
        "    # f(x+h)\n",
        "    x[idx] = tmp_val + h\n",
        "    fxh1 = f(x)\n",
        "\n",
        "    # f(x-h)\n",
        "    x[idx] = tmp_val - h\n",
        "    fxh2 = f(x)\n",
        "\n",
        "    grad[idx] = (fxh1 - fxh2) / (2*h)\n",
        "    x[idx] = tmp_val\n",
        "\n",
        "  return grad"
      ],
      "metadata": {
        "id": "sUFmdBe01KSh"
      },
      "execution_count": 58,
      "outputs": []
    },
    {
      "cell_type": "code",
      "source": [
        "def numerical_gradient(f, x):\n",
        "  if x.ndim == 1:\n",
        "    return _numerical_gradient_wo_batch(f, x)\n",
        "\n",
        "  grad = np.zeros_like(x)\n",
        "  for i, pt in enumerate(x):\n",
        "    #print(f\"x[{i}] is ... {pt}\")\n",
        "    grad[i] = _numerical_gradient_wo_batch(f, pt)\n",
        "\n",
        "  return grad"
      ],
      "metadata": {
        "id": "Wo7V6xN-si-7"
      },
      "execution_count": 59,
      "outputs": []
    },
    {
      "cell_type": "code",
      "source": [
        "print(_numerical_gradient_wo_batch(function_2, np.array([3.0, 4.0])))\n",
        "print(_numerical_gradient_wo_batch(function_2, np.array([0.0, 2.0])))\n",
        "print(_numerical_gradient_wo_batch(function_2, np.array([3.0, 0.0])))\n"
      ],
      "metadata": {
        "id": "D_ooF06r1sZb",
        "outputId": "b0075da1-e14d-47e3-ed02-3980f55e9b2f",
        "colab": {
          "base_uri": "https://localhost:8080/"
        }
      },
      "execution_count": 60,
      "outputs": [
        {
          "output_type": "stream",
          "name": "stdout",
          "text": [
            "[6. 8.]\n",
            "[0. 4.]\n",
            "[6. 0.]\n"
          ]
        }
      ]
    },
    {
      "cell_type": "code",
      "source": [
        "#x0 = np.arange(-2, 2.5, 0.25)\n",
        "#x1 = np.arange(-2, 2.5, 0.25)\n",
        "x0 = np.arange(-2, 2.5, 0.5)\n",
        "x1 = np.arange(-2, 2.5, 0.5)\n",
        "X, Y = np.meshgrid(x0, x1)\n",
        "\n",
        "print(f\"X [size={X.size}] is ... \\n{X}\")\n",
        "print()\n",
        "print(f\"Y [size={Y.size}] is ... \\n{Y}\")\n",
        "print()\n",
        "\n",
        "X = X.flatten()\n",
        "Y = Y.flatten()\n",
        "\n",
        "print(\"After flattening...\")\n",
        "print(f\"X [size={X.size}] is ... \\n{X}\")\n",
        "print()\n",
        "print(f\"Y [size={Y.size}] is ... \\n{Y}\")\n",
        "print()\n",
        "print(f\"np.array([X, Y]) [size={np.array([X, Y]).size}] is ... \\n{np.array([X, Y])}\")\n",
        "print()\n",
        "print(f\"np.array([X, Y]).T [size={np.array([X, Y]).T.size}] is ... \\n{np.array([X, Y]).T}\")\n",
        "print()\n",
        "\n",
        "grad = numerical_gradient(function_2, np.array([X, Y]).T).T\n",
        "\n",
        "plt.figure()\n",
        "plt.quiver(X, Y, -grad[0], -grad[1],  angles=\"xy\",color=\"#666666\")\n",
        "plt.xlim([-2, 2])\n",
        "plt.ylim([-2, 2])\n",
        "plt.xlabel('x0')\n",
        "plt.ylabel('x1')\n",
        "plt.grid()\n",
        "plt.draw()\n",
        "plt.show()"
      ],
      "metadata": {
        "id": "JMweDHn_12op",
        "outputId": "7071e2a6-b998-4269-e2ea-9f53971c73fc",
        "colab": {
          "base_uri": "https://localhost:8080/",
          "height": 1000
        }
      },
      "execution_count": 61,
      "outputs": [
        {
          "output_type": "stream",
          "name": "stdout",
          "text": [
            "X [size=81] is ... \n",
            "[[-2.  -1.5 -1.  -0.5  0.   0.5  1.   1.5  2. ]\n",
            " [-2.  -1.5 -1.  -0.5  0.   0.5  1.   1.5  2. ]\n",
            " [-2.  -1.5 -1.  -0.5  0.   0.5  1.   1.5  2. ]\n",
            " [-2.  -1.5 -1.  -0.5  0.   0.5  1.   1.5  2. ]\n",
            " [-2.  -1.5 -1.  -0.5  0.   0.5  1.   1.5  2. ]\n",
            " [-2.  -1.5 -1.  -0.5  0.   0.5  1.   1.5  2. ]\n",
            " [-2.  -1.5 -1.  -0.5  0.   0.5  1.   1.5  2. ]\n",
            " [-2.  -1.5 -1.  -0.5  0.   0.5  1.   1.5  2. ]\n",
            " [-2.  -1.5 -1.  -0.5  0.   0.5  1.   1.5  2. ]]\n",
            "\n",
            "Y [size=81] is ... \n",
            "[[-2.  -2.  -2.  -2.  -2.  -2.  -2.  -2.  -2. ]\n",
            " [-1.5 -1.5 -1.5 -1.5 -1.5 -1.5 -1.5 -1.5 -1.5]\n",
            " [-1.  -1.  -1.  -1.  -1.  -1.  -1.  -1.  -1. ]\n",
            " [-0.5 -0.5 -0.5 -0.5 -0.5 -0.5 -0.5 -0.5 -0.5]\n",
            " [ 0.   0.   0.   0.   0.   0.   0.   0.   0. ]\n",
            " [ 0.5  0.5  0.5  0.5  0.5  0.5  0.5  0.5  0.5]\n",
            " [ 1.   1.   1.   1.   1.   1.   1.   1.   1. ]\n",
            " [ 1.5  1.5  1.5  1.5  1.5  1.5  1.5  1.5  1.5]\n",
            " [ 2.   2.   2.   2.   2.   2.   2.   2.   2. ]]\n",
            "\n",
            "After flattening...\n",
            "X [size=81] is ... \n",
            "[-2.  -1.5 -1.  -0.5  0.   0.5  1.   1.5  2.  -2.  -1.5 -1.  -0.5  0.   0.5  1.   1.5  2.  -2.  -1.5 -1.  -0.5  0.   0.5  1.   1.5  2.  -2.  -1.5 -1.  -0.5  0.   0.5  1.   1.5  2.  -2.  -1.5 -1.  -0.5  0.   0.5  1.   1.5  2.  -2.  -1.5 -1.  -0.5  0.   0.5  1.   1.5  2.  -2.  -1.5 -1.  -0.5  0.   0.5  1.   1.5  2.  -2.  -1.5 -1.  -0.5  0.   0.5  1.   1.5  2.  -2.  -1.5 -1.  -0.5  0.   0.5  1.   1.5  2. ]\n",
            "\n",
            "Y [size=81] is ... \n",
            "[-2.  -2.  -2.  -2.  -2.  -2.  -2.  -2.  -2.  -1.5 -1.5 -1.5 -1.5 -1.5 -1.5 -1.5 -1.5 -1.5 -1.  -1.  -1.  -1.  -1.  -1.  -1.  -1.  -1.  -0.5 -0.5 -0.5 -0.5 -0.5 -0.5 -0.5 -0.5 -0.5  0.   0.   0.   0.   0.   0.   0.   0.   0.   0.5  0.5  0.5  0.5  0.5  0.5  0.5  0.5  0.5  1.   1.   1.   1.   1.   1.   1.   1.   1.   1.5  1.5  1.5  1.5  1.5  1.5  1.5  1.5  1.5  2.   2.   2.   2.   2.   2.   2.   2.   2. ]\n",
            "\n",
            "np.array([X, Y]) [size=162] is ... \n",
            "[[-2.  -1.5 -1.  -0.5  0.   0.5  1.   1.5  2.  -2.  -1.5 -1.  -0.5  0.   0.5  1.   1.5  2.  -2.  -1.5 -1.  -0.5  0.   0.5  1.   1.5  2.  -2.  -1.5 -1.  -0.5  0.   0.5  1.   1.5  2.  -2.  -1.5 -1.  -0.5  0.   0.5  1.   1.5  2.  -2.  -1.5 -1.  -0.5  0.   0.5  1.   1.5  2.  -2.  -1.5 -1.  -0.5  0.   0.5  1.   1.5  2.  -2.  -1.5 -1.  -0.5  0.   0.5  1.   1.5  2.  -2.  -1.5 -1.  -0.5  0.   0.5  1.   1.5  2. ]\n",
            " [-2.  -2.  -2.  -2.  -2.  -2.  -2.  -2.  -2.  -1.5 -1.5 -1.5 -1.5 -1.5 -1.5 -1.5 -1.5 -1.5 -1.  -1.  -1.  -1.  -1.  -1.  -1.  -1.  -1.  -0.5 -0.5 -0.5 -0.5 -0.5 -0.5 -0.5 -0.5 -0.5  0.   0.   0.   0.   0.   0.   0.   0.   0.   0.5  0.5  0.5  0.5  0.5  0.5  0.5  0.5  0.5  1.   1.   1.   1.   1.   1.   1.   1.   1.   1.5  1.5  1.5  1.5  1.5  1.5  1.5  1.5  1.5  2.   2.   2.   2.   2.   2.   2.   2.   2. ]]\n",
            "\n",
            "np.array([X, Y]).T [size=162] is ... \n",
            "[[-2.  -2. ]\n",
            " [-1.5 -2. ]\n",
            " [-1.  -2. ]\n",
            " [-0.5 -2. ]\n",
            " [ 0.  -2. ]\n",
            " [ 0.5 -2. ]\n",
            " [ 1.  -2. ]\n",
            " [ 1.5 -2. ]\n",
            " [ 2.  -2. ]\n",
            " [-2.  -1.5]\n",
            " [-1.5 -1.5]\n",
            " [-1.  -1.5]\n",
            " [-0.5 -1.5]\n",
            " [ 0.  -1.5]\n",
            " [ 0.5 -1.5]\n",
            " [ 1.  -1.5]\n",
            " [ 1.5 -1.5]\n",
            " [ 2.  -1.5]\n",
            " [-2.  -1. ]\n",
            " [-1.5 -1. ]\n",
            " [-1.  -1. ]\n",
            " [-0.5 -1. ]\n",
            " [ 0.  -1. ]\n",
            " [ 0.5 -1. ]\n",
            " [ 1.  -1. ]\n",
            " [ 1.5 -1. ]\n",
            " [ 2.  -1. ]\n",
            " [-2.  -0.5]\n",
            " [-1.5 -0.5]\n",
            " [-1.  -0.5]\n",
            " [-0.5 -0.5]\n",
            " [ 0.  -0.5]\n",
            " [ 0.5 -0.5]\n",
            " [ 1.  -0.5]\n",
            " [ 1.5 -0.5]\n",
            " [ 2.  -0.5]\n",
            " [-2.   0. ]\n",
            " [-1.5  0. ]\n",
            " [-1.   0. ]\n",
            " [-0.5  0. ]\n",
            " [ 0.   0. ]\n",
            " [ 0.5  0. ]\n",
            " [ 1.   0. ]\n",
            " [ 1.5  0. ]\n",
            " [ 2.   0. ]\n",
            " [-2.   0.5]\n",
            " [-1.5  0.5]\n",
            " [-1.   0.5]\n",
            " [-0.5  0.5]\n",
            " [ 0.   0.5]\n",
            " [ 0.5  0.5]\n",
            " [ 1.   0.5]\n",
            " [ 1.5  0.5]\n",
            " [ 2.   0.5]\n",
            " [-2.   1. ]\n",
            " [-1.5  1. ]\n",
            " [-1.   1. ]\n",
            " [-0.5  1. ]\n",
            " [ 0.   1. ]\n",
            " [ 0.5  1. ]\n",
            " [ 1.   1. ]\n",
            " [ 1.5  1. ]\n",
            " [ 2.   1. ]\n",
            " [-2.   1.5]\n",
            " [-1.5  1.5]\n",
            " [-1.   1.5]\n",
            " [-0.5  1.5]\n",
            " [ 0.   1.5]\n",
            " [ 0.5  1.5]\n",
            " [ 1.   1.5]\n",
            " [ 1.5  1.5]\n",
            " [ 2.   1.5]\n",
            " [-2.   2. ]\n",
            " [-1.5  2. ]\n",
            " [-1.   2. ]\n",
            " [-0.5  2. ]\n",
            " [ 0.   2. ]\n",
            " [ 0.5  2. ]\n",
            " [ 1.   2. ]\n",
            " [ 1.5  2. ]\n",
            " [ 2.   2. ]]\n",
            "\n"
          ]
        },
        {
          "output_type": "display_data",
          "data": {
            "text/plain": [
              "<Figure size 640x480 with 1 Axes>"
            ],
            "image/png": "[encoded data removed]"
          },
          "metadata": {}
        }
      ]
    },
    {
      "cell_type": "code",
      "source": [
        "y_single = np.array([0.6, 0.2, 0.2])\n",
        "\n",
        "y_single.reshape(1, y_single.size)\n",
        "print(y_single)\n",
        "print(y_single.shape)\n",
        "\n",
        "print(y_single.reshape(1, y_single.size))\n",
        "print(y_single.reshape(1, y_single.size).shape)\n"
      ],
      "metadata": {
        "id": "CFGfDuYS3fFZ",
        "outputId": "00387bf8-fd9e-40c1-8e08-782b4195c993",
        "colab": {
          "base_uri": "https://localhost:8080/"
        }
      },
      "execution_count": 62,
      "outputs": [
        {
          "output_type": "stream",
          "name": "stdout",
          "text": [
            "[0.6 0.2 0.2]\n",
            "(3,)\n",
            "[[0.6 0.2 0.2]]\n",
            "(1, 3)\n"
          ]
        }
      ]
    },
    {
      "cell_type": "code",
      "source": [
        "alist = np.array([[1, 2, 3], [4, 5, 6]])\n",
        "print(np.max(alist.shape))"
      ],
      "metadata": {
        "id": "XYX0dPvg4UCv",
        "outputId": "92a34955-59c0-4913-ec92-ad9f6e4a6494",
        "colab": {
          "base_uri": "https://localhost:8080/"
        }
      },
      "execution_count": 63,
      "outputs": [
        {
          "output_type": "stream",
          "name": "stdout",
          "text": [
            "3\n"
          ]
        }
      ]
    },
    {
      "cell_type": "code",
      "source": [
        "alist = np.arange(-2, 2.5, 0.25)\n",
        "print(list(alist))"
      ],
      "metadata": {
        "id": "ka0Zzp5FdEJs",
        "colab": {
          "base_uri": "https://localhost:8080/"
        },
        "outputId": "edb7d07c-e5d1-4e1b-e329-67916060065c"
      },
      "execution_count": 64,
      "outputs": [
        {
          "output_type": "stream",
          "name": "stdout",
          "text": [
            "[-2.0, -1.75, -1.5, -1.25, -1.0, -0.75, -0.5, -0.25, 0.0, 0.25, 0.5, 0.75, 1.0, 1.25, 1.5, 1.75, 2.0, 2.25]\n"
          ]
        }
      ]
    },
    {
      "cell_type": "markdown",
      "source": [
        "# Gradient descent"
      ],
      "metadata": {
        "id": "gwjLWf3vEwCq"
      }
    },
    {
      "cell_type": "code",
      "source": [
        "def gradient_descent(f, init_x, lr=0.01, step_num=100):\n",
        "  x = init_x\n",
        "\n",
        "  for i in range(step_num):\n",
        "    grad = numerical_gradient(f, x)\n",
        "    x -= lr * grad\n",
        "  return x"
      ],
      "metadata": {
        "id": "7c_ON-SDEpRE"
      },
      "execution_count": 65,
      "outputs": []
    },
    {
      "cell_type": "code",
      "source": [
        "init_x = np.array([-3.0, 4.0])\n",
        "print(gradient_descent(function_2, init_x=init_x, lr=0.1, step_num=100))"
      ],
      "metadata": {
        "id": "EQPLniBAFF5J",
        "outputId": "f3de6dd6-c2b5-497a-98ec-5e897bfb017a",
        "colab": {
          "base_uri": "https://localhost:8080/"
        }
      },
      "execution_count": 66,
      "outputs": [
        {
          "output_type": "stream",
          "name": "stdout",
          "text": [
            "[-6.11110793e-10  8.14814391e-10]\n"
          ]
        }
      ]
    },
    {
      "cell_type": "code",
      "source": [
        "init_x = np.array([-3.0, 4.0])\n",
        "print(gradient_descent(function_2, init_x=init_x, lr=10, step_num=100))"
      ],
      "metadata": {
        "id": "2hjUKi5tFoRc",
        "outputId": "f9522490-2181-48e8-f2e7-ec77b5a10a51",
        "colab": {
          "base_uri": "https://localhost:8080/"
        }
      },
      "execution_count": 67,
      "outputs": [
        {
          "output_type": "stream",
          "name": "stdout",
          "text": [
            "[-2.58983747e+13 -1.29524862e+12]\n"
          ]
        }
      ]
    },
    {
      "cell_type": "code",
      "source": [
        "init_x = np.array([-3.0, 4.0])\n",
        "print(gradient_descent(function_2, init_x=init_x, lr=0.001, step_num=100))"
      ],
      "metadata": {
        "id": "u1rjGmEeGY2R",
        "outputId": "e85114d2-0550-4c68-efb9-b603f177477e",
        "colab": {
          "base_uri": "https://localhost:8080/"
        }
      },
      "execution_count": 68,
      "outputs": [
        {
          "output_type": "stream",
          "name": "stdout",
          "text": [
            "[-2.45570041  3.27426722]\n"
          ]
        }
      ]
    },
    {
      "cell_type": "markdown",
      "source": [
        "#simpleNet"
      ],
      "metadata": {
        "id": "3ilWbz2OLykA"
      }
    },
    {
      "cell_type": "code",
      "source": [
        "class simpleNet:\n",
        "  def __init__(self):\n",
        "    self.W = np.random.randn(2, 3) #initialized w/ Gaussian distribution\n",
        "\n",
        "  def predict(self, x):\n",
        "    return np.dot(x, self.W)\n",
        "\n",
        "  def loss(self, x, t):\n",
        "    z = self.predict(x)\n",
        "    y = softmax(z)\n",
        "    loss = cross_entropy_error(y, t)\n",
        "\n",
        "    return loss"
      ],
      "metadata": {
        "id": "OOUas2_RGZUN"
      },
      "execution_count": 69,
      "outputs": []
    }
  ]
}