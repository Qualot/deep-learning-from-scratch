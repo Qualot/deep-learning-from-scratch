{
  "nbformat": 4,
  "nbformat_minor": 0,
  "metadata": {
    "colab": {
      "provenance": [],
      "authorship_tag": "ABX9TyM8lHJlInALKtAKzK4Osk9a",
      "include_colab_link": true
    },
    "kernelspec": {
      "name": "python3",
      "display_name": "Python 3"
    },
    "language_info": {
      "name": "python"
    }
  },
  "cells": [
    {
      "cell_type": "markdown",
      "metadata": {
        "id": "view-in-github",
        "colab_type": "text"
      },
      "source": [
        "<a href=\"https://colab.research.google.com/github/Qualot/deep-learning-from-scratch/blob/colab/ch04/loss.ipynb\" target=\"_parent\"><img src=\"https://colab.research.google.com/assets/colab-badge.svg\" alt=\"Open In Colab\"/></a>"
      ]
    },
    {
      "cell_type": "code",
      "source": [
        "import numpy as np\n",
        "import matplotlib.pyplot as plt\n",
        "from keras.datasets import mnist\n",
        "from keras.utils import to_categorical"
      ],
      "metadata": {
        "id": "m3SFaVqcLbhT"
      },
      "execution_count": 1,
      "outputs": []
    },
    {
      "cell_type": "code",
      "source": [
        "np.set_printoptions(linewidth=10000)"
      ],
      "metadata": {
        "id": "MI1VBmLoZU3L"
      },
      "execution_count": 2,
      "outputs": []
    },
    {
      "cell_type": "code",
      "execution_count": 3,
      "metadata": {
        "id": "fvILzwrGKd-_"
      },
      "outputs": [],
      "source": [
        "y = [0.1, 0.05, 0.6, 0.0, 0.05, 0.1, 0.0, 0.1, 0.0, 0.0]\n",
        "t = [0, 0, 1, 0, 0, 0, 0, 0, 0, 0]"
      ]
    },
    {
      "cell_type": "markdown",
      "source": [
        "#Sum of squared error: 2乗和誤差\n",
        "$$\n",
        "  E = \\sum_{k} \\left(y_k - t_k \\right)^2\n",
        "$$"
      ],
      "metadata": {
        "id": "C2RgqkmcNM1m"
      }
    },
    {
      "cell_type": "code",
      "source": [
        "def sum_squared_error(y, t):\n",
        "  return 0.5 * np.sum((np.array(y) - np.array(t))**2)"
      ],
      "metadata": {
        "id": "1FsHMhPTK1Vy"
      },
      "execution_count": 4,
      "outputs": []
    },
    {
      "cell_type": "markdown",
      "source": [
        "## When the softmax returns \"2\"\n"
      ],
      "metadata": {
        "id": "dxmJIXIoOIIR"
      }
    },
    {
      "cell_type": "code",
      "source": [
        "y = [0.1, 0.05, 0.6, 0.0, 0.05, 0.1, 0.0, 0.1, 0.0, 0.0]\n",
        "t = [0, 0, 1, 0, 0, 0, 0, 0, 0, 0]\n",
        "print(sum_squared_error(y, t))"
      ],
      "metadata": {
        "colab": {
          "base_uri": "https://localhost:8080/"
        },
        "id": "IGHMuNnULQqR",
        "outputId": "b45eee61-3d26-45f3-8a59-bbac17e89139"
      },
      "execution_count": 5,
      "outputs": [
        {
          "output_type": "stream",
          "name": "stdout",
          "text": [
            "0.09750000000000003\n"
          ]
        }
      ]
    },
    {
      "cell_type": "markdown",
      "source": [
        "## When the softmax returns \"7\"\n"
      ],
      "metadata": {
        "id": "yL860PA4OVRY"
      }
    },
    {
      "cell_type": "code",
      "source": [
        "y = [0.1, 0.05, 0.1, 0.0, 0.05, 0.1, 0.0, 0.6, 0.0, 0.0]\n",
        "t = [0, 0, 1, 0, 0, 0, 0, 0, 0, 0]\n",
        "print(sum_squared_error(y, t))"
      ],
      "metadata": {
        "colab": {
          "base_uri": "https://localhost:8080/"
        },
        "id": "MUuhq23jLZU8",
        "outputId": "b9fded01-6ce2-41f0-a051-4c2c9dd74ba7"
      },
      "execution_count": 6,
      "outputs": [
        {
          "output_type": "stream",
          "name": "stdout",
          "text": [
            "0.5975\n"
          ]
        }
      ]
    },
    {
      "cell_type": "markdown",
      "source": [
        "#Cross entrypy error: 交差エントロピー誤差\n",
        "$$\n",
        "  E = -\\sum_{k} t_k \\mathrm{log} \\left(y_k \\right)\n",
        "$$"
      ],
      "metadata": {
        "id": "I1YizYDiOycE"
      }
    },
    {
      "cell_type": "code",
      "source": [
        "def cross_entropy_error(y, t):\n",
        "  if y.ndim == 1:\n",
        "    t = t.reshape(1, t.size)\n",
        "    y = y.reshape(1, y.size)\n",
        "\n",
        "  delta = 1e-7\n",
        "  batch_size = y.shape[0]\n",
        "  return -np.sum(t * np.log(y + delta)) / batch_size"
      ],
      "metadata": {
        "id": "Ce8K6WrPMQx0"
      },
      "execution_count": 7,
      "outputs": []
    },
    {
      "cell_type": "code",
      "source": [
        "t = [0, 0, 1, 0, 0, 0, 0, 0, 0, 0]\n",
        "y = [0.1, 0.05, 0.6, 0.0, 0.05, 0.1, 0.0, 0.1, 0.0, 0.0]\n",
        "print(cross_entropy_error(np.array(y), np.array(t)))"
      ],
      "metadata": {
        "colab": {
          "base_uri": "https://localhost:8080/"
        },
        "id": "32eMjnpKP9g1",
        "outputId": "e000d966-0834-45ba-c608-298bf1b853f8"
      },
      "execution_count": 8,
      "outputs": [
        {
          "output_type": "stream",
          "name": "stdout",
          "text": [
            "0.510825457099338\n"
          ]
        }
      ]
    },
    {
      "cell_type": "code",
      "source": [
        "y = [0.1, 0.05, 0.1, 0.0, 0.05, 0.1, 0.0, 0.6, 0.0, 0.0]\n",
        "print(cross_entropy_error(np.array(y), np.array(t)))"
      ],
      "metadata": {
        "colab": {
          "base_uri": "https://localhost:8080/"
        },
        "id": "DLXuDKItQNx1",
        "outputId": "ebf47dc0-0210-42e2-8125-2eb2cf60d5b0"
      },
      "execution_count": 9,
      "outputs": [
        {
          "output_type": "stream",
          "name": "stdout",
          "text": [
            "2.302584092994546\n"
          ]
        }
      ]
    },
    {
      "cell_type": "code",
      "source": [
        "t = np.array([2, 1, 0, 3])\n",
        "# Calculate the number of classes\n",
        "num_classes = np.max(t) + 1\n",
        "\n",
        "# Create a one-hot label array using numpy's eye function\n",
        "t_goal = np.eye(num_classes)[t]\n",
        "\n",
        "print(t_goal)"
      ],
      "metadata": {
        "id": "eQDLmKz7QdNF",
        "outputId": "92516b47-89ee-4c46-87e1-d9d0cb400c56",
        "colab": {
          "base_uri": "https://localhost:8080/"
        }
      },
      "execution_count": 10,
      "outputs": [
        {
          "output_type": "stream",
          "name": "stdout",
          "text": [
            "[[0. 0. 1. 0.]\n",
            " [0. 1. 0. 0.]\n",
            " [1. 0. 0. 0.]\n",
            " [0. 0. 0. 1.]]\n"
          ]
        }
      ]
    },
    {
      "cell_type": "markdown",
      "source": [
        "# MNIST のロード"
      ],
      "metadata": {
        "id": "W68T6I-2Y2T3"
      }
    },
    {
      "cell_type": "code",
      "source": [
        "(x_train, t_train), (x_test, t_test) = mnist.load_data()\n",
        "\n",
        "print(x_train[0])"
      ],
      "metadata": {
        "id": "7oJlJF5TZiQI",
        "outputId": "4f5e9ccf-8aab-4c4c-f234-2db0f5f6c70a",
        "colab": {
          "base_uri": "https://localhost:8080/"
        }
      },
      "execution_count": 11,
      "outputs": [
        {
          "output_type": "stream",
          "name": "stdout",
          "text": [
            "Downloading data from https://storage.googleapis.com/tensorflow/tf-keras-datasets/mnist.npz\n",
            "11490434/11490434 [==============================] - 0s 0us/step\n",
            "[[  0   0   0   0   0   0   0   0   0   0   0   0   0   0   0   0   0   0   0   0   0   0   0   0   0   0   0   0]\n",
            " [  0   0   0   0   0   0   0   0   0   0   0   0   0   0   0   0   0   0   0   0   0   0   0   0   0   0   0   0]\n",
            " [  0   0   0   0   0   0   0   0   0   0   0   0   0   0   0   0   0   0   0   0   0   0   0   0   0   0   0   0]\n",
            " [  0   0   0   0   0   0   0   0   0   0   0   0   0   0   0   0   0   0   0   0   0   0   0   0   0   0   0   0]\n",
            " [  0   0   0   0   0   0   0   0   0   0   0   0   0   0   0   0   0   0   0   0   0   0   0   0   0   0   0   0]\n",
            " [  0   0   0   0   0   0   0   0   0   0   0   0   3  18  18  18 126 136 175  26 166 255 247 127   0   0   0   0]\n",
            " [  0   0   0   0   0   0   0   0  30  36  94 154 170 253 253 253 253 253 225 172 253 242 195  64   0   0   0   0]\n",
            " [  0   0   0   0   0   0   0  49 238 253 253 253 253 253 253 253 253 251  93  82  82  56  39   0   0   0   0   0]\n",
            " [  0   0   0   0   0   0   0  18 219 253 253 253 253 253 198 182 247 241   0   0   0   0   0   0   0   0   0   0]\n",
            " [  0   0   0   0   0   0   0   0  80 156 107 253 253 205  11   0  43 154   0   0   0   0   0   0   0   0   0   0]\n",
            " [  0   0   0   0   0   0   0   0   0  14   1 154 253  90   0   0   0   0   0   0   0   0   0   0   0   0   0   0]\n",
            " [  0   0   0   0   0   0   0   0   0   0   0 139 253 190   2   0   0   0   0   0   0   0   0   0   0   0   0   0]\n",
            " [  0   0   0   0   0   0   0   0   0   0   0  11 190 253  70   0   0   0   0   0   0   0   0   0   0   0   0   0]\n",
            " [  0   0   0   0   0   0   0   0   0   0   0   0  35 241 225 160 108   1   0   0   0   0   0   0   0   0   0   0]\n",
            " [  0   0   0   0   0   0   0   0   0   0   0   0   0  81 240 253 253 119  25   0   0   0   0   0   0   0   0   0]\n",
            " [  0   0   0   0   0   0   0   0   0   0   0   0   0   0  45 186 253 253 150  27   0   0   0   0   0   0   0   0]\n",
            " [  0   0   0   0   0   0   0   0   0   0   0   0   0   0   0  16  93 252 253 187   0   0   0   0   0   0   0   0]\n",
            " [  0   0   0   0   0   0   0   0   0   0   0   0   0   0   0   0   0 249 253 249  64   0   0   0   0   0   0   0]\n",
            " [  0   0   0   0   0   0   0   0   0   0   0   0   0   0  46 130 183 253 253 207   2   0   0   0   0   0   0   0]\n",
            " [  0   0   0   0   0   0   0   0   0   0   0   0  39 148 229 253 253 253 250 182   0   0   0   0   0   0   0   0]\n",
            " [  0   0   0   0   0   0   0   0   0   0  24 114 221 253 253 253 253 201  78   0   0   0   0   0   0   0   0   0]\n",
            " [  0   0   0   0   0   0   0   0  23  66 213 253 253 253 253 198  81   2   0   0   0   0   0   0   0   0   0   0]\n",
            " [  0   0   0   0   0   0  18 171 219 253 253 253 253 195  80   9   0   0   0   0   0   0   0   0   0   0   0   0]\n",
            " [  0   0   0   0  55 172 226 253 253 253 253 244 133  11   0   0   0   0   0   0   0   0   0   0   0   0   0   0]\n",
            " [  0   0   0   0 136 253 253 253 212 135 132  16   0   0   0   0   0   0   0   0   0   0   0   0   0   0   0   0]\n",
            " [  0   0   0   0   0   0   0   0   0   0   0   0   0   0   0   0   0   0   0   0   0   0   0   0   0   0   0   0]\n",
            " [  0   0   0   0   0   0   0   0   0   0   0   0   0   0   0   0   0   0   0   0   0   0   0   0   0   0   0   0]\n",
            " [  0   0   0   0   0   0   0   0   0   0   0   0   0   0   0   0   0   0   0   0   0   0   0   0   0   0   0   0]]\n"
          ]
        }
      ]
    },
    {
      "cell_type": "code",
      "source": [
        "plt.figure()\n",
        "plt.imshow(x_train[0])\n",
        "plt.colorbar()\n",
        "plt.grid(False)\n",
        "plt.show()"
      ],
      "metadata": {
        "id": "OWvd8-PPZif1",
        "outputId": "ca4a04c7-f387-488b-f849-69fca333e3c8",
        "colab": {
          "base_uri": "https://localhost:8080/",
          "height": 430
        }
      },
      "execution_count": 12,
      "outputs": [
        {
          "output_type": "display_data",
          "data": {
            "text/plain": [
              "<Figure size 640x480 with 2 Axes>"
            ],
            "image/png": "[encoded data removed]"
          },
          "metadata": {}
        }
      ]
    },
    {
      "cell_type": "code",
      "source": [
        "def get_data():\n",
        "  #when using dataset library\n",
        "  #  (x_train, t_train), (x_test, t_test) = mnist.load_data(normalize=True, flatten=True, one_hot_label=False)\n",
        "  (x_train, t_train), (x_test, t_test) = mnist.load_data()\n",
        "\n",
        "  #normalize\n",
        "  x_train, x_test = x_train / 255.0, x_test / 255.0\n",
        "\n",
        "  #flatten\n",
        "  x_train, t_train, x_test, t_test = [arr.reshape(arr.shape[0], -1) for arr in (x_train, t_train, x_test, t_test)]\n",
        "\n",
        "  #one-hot\n",
        "  t_train = to_categorical(t_train)\n",
        "  t_test = to_categorical(t_test)\n",
        "\n",
        "  print(f\"x_train.shape is ... {x_train.shape}\")\n",
        "  print(f\"t_train.shape is ... {t_train.shape}\")\n",
        "  print(f\"x_test.shape is ... {x_test.shape}\")\n",
        "  print(f\"t_test.shape is ... {t_test.shape}\")\n",
        "\n",
        "  train_size = x_train.shape[0]\n",
        "  batch_size = 10\n",
        "  batch_mask = np.random.choice(train_size, batch_size)\n",
        "  print(f\"batch_mask is ... {batch_mask}\")\n",
        "  print()\n",
        "\n",
        "  print(f\"x_batch is ... \\n{x_train[batch_mask].shape}\")\n",
        "  print()\n",
        "  print(f\"t_batch is ... \\n{t_train[batch_mask]}\")\n",
        "  print()\n",
        "  print()\n",
        "\n",
        "  return x_test, t_test"
      ],
      "metadata": {
        "id": "zPuRblaUgsUv"
      },
      "execution_count": 13,
      "outputs": []
    },
    {
      "cell_type": "code",
      "source": [
        "x, t = get_data()\n",
        "print(t[0])"
      ],
      "metadata": {
        "id": "w2fmAsYlZzvG",
        "colab": {
          "base_uri": "https://localhost:8080/"
        },
        "outputId": "f977f731-5d55-4bec-b541-68608847302b"
      },
      "execution_count": 14,
      "outputs": [
        {
          "output_type": "stream",
          "name": "stdout",
          "text": [
            "x_train.shape is ... (60000, 784)\n",
            "t_train.shape is ... (60000, 10)\n",
            "x_test.shape is ... (10000, 784)\n",
            "t_test.shape is ... (10000, 10)\n",
            "batch_mask is ... [21213 46833 56546 44378 42793 27787 40840  9591 46442 53167]\n",
            "\n",
            "x_batch is ... \n",
            "(10, 784)\n",
            "\n",
            "t_batch is ... \n",
            "[[0. 0. 0. 0. 0. 0. 0. 0. 0. 1.]\n",
            " [0. 0. 1. 0. 0. 0. 0. 0. 0. 0.]\n",
            " [0. 0. 0. 0. 0. 0. 0. 1. 0. 0.]\n",
            " [0. 0. 0. 0. 0. 0. 0. 1. 0. 0.]\n",
            " [0. 0. 0. 0. 1. 0. 0. 0. 0. 0.]\n",
            " [0. 0. 1. 0. 0. 0. 0. 0. 0. 0.]\n",
            " [0. 0. 0. 0. 0. 1. 0. 0. 0. 0.]\n",
            " [0. 0. 0. 0. 0. 0. 0. 0. 1. 0.]\n",
            " [0. 0. 0. 1. 0. 0. 0. 0. 0. 0.]\n",
            " [0. 0. 0. 1. 0. 0. 0. 0. 0. 0.]]\n",
            "\n",
            "\n",
            "[0. 0. 0. 0. 0. 0. 0. 1. 0. 0.]\n"
          ]
        }
      ]
    },
    {
      "cell_type": "code",
      "source": [
        "alist = np.array(range(10))\n",
        "blist = np.array(range(5))\n",
        "print(alist)\n",
        "print(blist)\n",
        "print(alist[blist*2])\n",
        "print(alist.shape)\n",
        "print(alist.reshape(1, alist.size).shape)"
      ],
      "metadata": {
        "id": "aDuw-qEyZ1tN",
        "outputId": "f70d63c7-9b34-4418-bcc9-ec4fc3fbbe35",
        "colab": {
          "base_uri": "https://localhost:8080/"
        }
      },
      "execution_count": 15,
      "outputs": [
        {
          "output_type": "stream",
          "name": "stdout",
          "text": [
            "[0 1 2 3 4 5 6 7 8 9]\n",
            "[0 1 2 3 4]\n",
            "[0 2 4 6 8]\n",
            "(10,)\n",
            "(1, 10)\n"
          ]
        }
      ]
    },
    {
      "cell_type": "markdown",
      "source": [
        "# Numerical differentials"
      ],
      "metadata": {
        "id": "misI3o-MiJZF"
      }
    },
    {
      "cell_type": "code",
      "source": [
        "def numerical_diff(f, x):\n",
        "  h = 1e-4 #0.0001\n",
        "  return (f(x+h) - f(x-h)) / (2.0 * h)"
      ],
      "metadata": {
        "id": "jaagO13QipQ1"
      },
      "execution_count": 16,
      "outputs": []
    },
    {
      "cell_type": "code",
      "source": [
        "def function_1(x):\n",
        "  return 0.01*x**2 + 0.1 * x"
      ],
      "metadata": {
        "id": "aVzHvhn5iY0m"
      },
      "execution_count": 17,
      "outputs": []
    },
    {
      "cell_type": "code",
      "source": [
        "x = np.arange(0.0, 20.0, 0.1)\n",
        "y = function_1(x)\n",
        "plt.xlabel(\"x\")\n",
        "plt.ylabel(\"f(x)\")\n",
        "plt.plot(x, y)\n",
        "plt.show()"
      ],
      "metadata": {
        "id": "aZOrtVcCxi5V",
        "colab": {
          "base_uri": "https://localhost:8080/",
          "height": 449
        },
        "outputId": "a95aa57b-d7c4-4584-933b-a67c8d775072"
      },
      "execution_count": 18,
      "outputs": [
        {
          "output_type": "display_data",
          "data": {
            "text/plain": [
              "<Figure size 640x480 with 1 Axes>"
            ],
            "image/png": "[encoded data removed]"
          },
          "metadata": {}
        }
      ]
    },
    {
      "cell_type": "code",
      "source": [
        "print(numerical_diff(function_1, 5))\n",
        "print(numerical_diff(function_1, 10))\n"
      ],
      "metadata": {
        "colab": {
          "base_uri": "https://localhost:8080/"
        },
        "id": "8BpblJPLiVYr",
        "outputId": "5899d515-4946-498c-bac0-248f37da36e1"
      },
      "execution_count": 19,
      "outputs": [
        {
          "output_type": "stream",
          "name": "stdout",
          "text": [
            "0.1999999999990898\n",
            "0.2999999999986347\n"
          ]
        }
      ]
    },
    {
      "cell_type": "code",
      "source": [
        "def function_2(x):\n",
        "  return np.sum(x**2)"
      ],
      "metadata": {
        "id": "v8koVT0Pi_L6"
      },
      "execution_count": 20,
      "outputs": []
    },
    {
      "cell_type": "code",
      "source": [
        "def numerical_gradient(f, x):\n",
        "  h = 1e-4\n",
        "  grad = np.zeros_like(x)\n",
        "  print(f\"x.size is ... {x.size}\")\n",
        "  for idx in range(np.max(x.shape)):\n",
        "    tmp_val = x[idx]\n",
        "    # f(x+h)\n",
        "    x[idx] = tmp_val + h\n",
        "    fxh1 = f(x)\n",
        "\n",
        "    # f(x-h)\n",
        "    x[idx] = tmp_val - h\n",
        "    fxh2 = f(x)\n",
        "\n",
        "    grad[idx] = (fxh1 - fxh2) / (2*h)\n",
        "    x[idx] = tmp_val\n",
        "\n",
        "  return grad"
      ],
      "metadata": {
        "id": "sUFmdBe01KSh"
      },
      "execution_count": 24,
      "outputs": []
    },
    {
      "cell_type": "code",
      "source": [
        "print(numerical_gradient(function_2, np.array([3.0, 4.0])))\n",
        "print(numerical_gradient(function_2, np.array([0.0, 2.0])))\n",
        "print(numerical_gradient(function_2, np.array([3.0, 0.0])))\n"
      ],
      "metadata": {
        "id": "D_ooF06r1sZb",
        "outputId": "aa0da56f-bcdb-46cb-e6cd-36e876263261",
        "colab": {
          "base_uri": "https://localhost:8080/"
        }
      },
      "execution_count": 25,
      "outputs": [
        {
          "output_type": "stream",
          "name": "stdout",
          "text": [
            "x.size is ... 2\n",
            "[6. 8.]\n",
            "x.size is ... 2\n",
            "[0. 4.]\n",
            "x.size is ... 2\n",
            "[6. 0.]\n"
          ]
        }
      ]
    },
    {
      "cell_type": "code",
      "source": [
        "#x0 = np.arange(-2, 2.5, 0.25)\n",
        "#x1 = np.arange(-2, 2.5, 0.25)\n",
        "x0 = np.arange(-2, 2.5, 0.5)\n",
        "x1 = np.arange(-2, 2.5, 0.5)\n",
        "X, Y = np.meshgrid(x0, x1)\n",
        "\n",
        "print(f\"X [size={X.size}] is ... \\n{X}\")\n",
        "print()\n",
        "print(f\"Y [size={Y.size}] is ... \\n{Y}\")\n",
        "print()\n",
        "\n",
        "X = X.flatten()\n",
        "Y = Y.flatten()\n",
        "\n",
        "print(\"After flattening...\")\n",
        "print(f\"X [size={X.size}] is ... \\n{X}\")\n",
        "print()\n",
        "print(f\"Y [size={Y.size}] is ... \\n{Y}\")\n",
        "print()\n",
        "print(f\"np.array([X, Y]) [size={np.array([X, Y]).size}] is ... \\n{np.array([X, Y])}\")\n",
        "print()\n",
        "print(f\"np.array([X, Y]).T [size={np.array([X, Y]).T.size}] is ... \\n{np.array([X, Y]).T}\")\n",
        "print()\n",
        "\n",
        "grad = numerical_gradient(function_2, np.array([X, Y]).T).T\n",
        "\n",
        "plt.figure()\n",
        "plt.quiver(X, Y, -grad[0], -grad[1],  angles=\"xy\",color=\"#666666\")\n",
        "plt.xlim([-2, 2])\n",
        "plt.ylim([-2, 2])\n",
        "plt.xlabel('x0')\n",
        "plt.ylabel('x1')\n",
        "plt.grid()\n",
        "plt.draw()\n",
        "plt.show()"
      ],
      "metadata": {
        "id": "JMweDHn_12op",
        "outputId": "e3af1dc3-76b0-4a6c-c001-370773a3cbf2",
        "colab": {
          "base_uri": "https://localhost:8080/",
          "height": 1000
        }
      },
      "execution_count": 29,
      "outputs": [
        {
          "output_type": "stream",
          "name": "stdout",
          "text": [
            "X [size=81] is ... \n",
            "[[-2.  -1.5 -1.  -0.5  0.   0.5  1.   1.5  2. ]\n",
            " [-2.  -1.5 -1.  -0.5  0.   0.5  1.   1.5  2. ]\n",
            " [-2.  -1.5 -1.  -0.5  0.   0.5  1.   1.5  2. ]\n",
            " [-2.  -1.5 -1.  -0.5  0.   0.5  1.   1.5  2. ]\n",
            " [-2.  -1.5 -1.  -0.5  0.   0.5  1.   1.5  2. ]\n",
            " [-2.  -1.5 -1.  -0.5  0.   0.5  1.   1.5  2. ]\n",
            " [-2.  -1.5 -1.  -0.5  0.   0.5  1.   1.5  2. ]\n",
            " [-2.  -1.5 -1.  -0.5  0.   0.5  1.   1.5  2. ]\n",
            " [-2.  -1.5 -1.  -0.5  0.   0.5  1.   1.5  2. ]]\n",
            "\n",
            "Y [size=81] is ... \n",
            "[[-2.  -2.  -2.  -2.  -2.  -2.  -2.  -2.  -2. ]\n",
            " [-1.5 -1.5 -1.5 -1.5 -1.5 -1.5 -1.5 -1.5 -1.5]\n",
            " [-1.  -1.  -1.  -1.  -1.  -1.  -1.  -1.  -1. ]\n",
            " [-0.5 -0.5 -0.5 -0.5 -0.5 -0.5 -0.5 -0.5 -0.5]\n",
            " [ 0.   0.   0.   0.   0.   0.   0.   0.   0. ]\n",
            " [ 0.5  0.5  0.5  0.5  0.5  0.5  0.5  0.5  0.5]\n",
            " [ 1.   1.   1.   1.   1.   1.   1.   1.   1. ]\n",
            " [ 1.5  1.5  1.5  1.5  1.5  1.5  1.5  1.5  1.5]\n",
            " [ 2.   2.   2.   2.   2.   2.   2.   2.   2. ]]\n",
            "\n",
            "After flattening...\n",
            "X [size=81] is ... \n",
            "[-2.  -1.5 -1.  -0.5  0.   0.5  1.   1.5  2.  -2.  -1.5 -1.  -0.5  0.   0.5  1.   1.5  2.  -2.  -1.5 -1.  -0.5  0.   0.5  1.   1.5  2.  -2.  -1.5 -1.  -0.5  0.   0.5  1.   1.5  2.  -2.  -1.5 -1.  -0.5  0.   0.5  1.   1.5  2.  -2.  -1.5 -1.  -0.5  0.   0.5  1.   1.5  2.  -2.  -1.5 -1.  -0.5  0.   0.5  1.   1.5  2.  -2.  -1.5 -1.  -0.5  0.   0.5  1.   1.5  2.  -2.  -1.5 -1.  -0.5  0.   0.5  1.   1.5  2. ]\n",
            "\n",
            "Y [size=81] is ... \n",
            "[-2.  -2.  -2.  -2.  -2.  -2.  -2.  -2.  -2.  -1.5 -1.5 -1.5 -1.5 -1.5 -1.5 -1.5 -1.5 -1.5 -1.  -1.  -1.  -1.  -1.  -1.  -1.  -1.  -1.  -0.5 -0.5 -0.5 -0.5 -0.5 -0.5 -0.5 -0.5 -0.5  0.   0.   0.   0.   0.   0.   0.   0.   0.   0.5  0.5  0.5  0.5  0.5  0.5  0.5  0.5  0.5  1.   1.   1.   1.   1.   1.   1.   1.   1.   1.5  1.5  1.5  1.5  1.5  1.5  1.5  1.5  1.5  2.   2.   2.   2.   2.   2.   2.   2.   2. ]\n",
            "\n",
            "np.array([X, Y]) [size=162] is ... \n",
            "[[-2.  -1.5 -1.  -0.5  0.   0.5  1.   1.5  2.  -2.  -1.5 -1.  -0.5  0.   0.5  1.   1.5  2.  -2.  -1.5 -1.  -0.5  0.   0.5  1.   1.5  2.  -2.  -1.5 -1.  -0.5  0.   0.5  1.   1.5  2.  -2.  -1.5 -1.  -0.5  0.   0.5  1.   1.5  2.  -2.  -1.5 -1.  -0.5  0.   0.5  1.   1.5  2.  -2.  -1.5 -1.  -0.5  0.   0.5  1.   1.5  2.  -2.  -1.5 -1.  -0.5  0.   0.5  1.   1.5  2.  -2.  -1.5 -1.  -0.5  0.   0.5  1.   1.5  2. ]\n",
            " [-2.  -2.  -2.  -2.  -2.  -2.  -2.  -2.  -2.  -1.5 -1.5 -1.5 -1.5 -1.5 -1.5 -1.5 -1.5 -1.5 -1.  -1.  -1.  -1.  -1.  -1.  -1.  -1.  -1.  -0.5 -0.5 -0.5 -0.5 -0.5 -0.5 -0.5 -0.5 -0.5  0.   0.   0.   0.   0.   0.   0.   0.   0.   0.5  0.5  0.5  0.5  0.5  0.5  0.5  0.5  0.5  1.   1.   1.   1.   1.   1.   1.   1.   1.   1.5  1.5  1.5  1.5  1.5  1.5  1.5  1.5  1.5  2.   2.   2.   2.   2.   2.   2.   2.   2. ]]\n",
            "\n",
            "np.array([X, Y]).T [size=162] is ... \n",
            "[[-2.  -2. ]\n",
            " [-1.5 -2. ]\n",
            " [-1.  -2. ]\n",
            " [-0.5 -2. ]\n",
            " [ 0.  -2. ]\n",
            " [ 0.5 -2. ]\n",
            " [ 1.  -2. ]\n",
            " [ 1.5 -2. ]\n",
            " [ 2.  -2. ]\n",
            " [-2.  -1.5]\n",
            " [-1.5 -1.5]\n",
            " [-1.  -1.5]\n",
            " [-0.5 -1.5]\n",
            " [ 0.  -1.5]\n",
            " [ 0.5 -1.5]\n",
            " [ 1.  -1.5]\n",
            " [ 1.5 -1.5]\n",
            " [ 2.  -1.5]\n",
            " [-2.  -1. ]\n",
            " [-1.5 -1. ]\n",
            " [-1.  -1. ]\n",
            " [-0.5 -1. ]\n",
            " [ 0.  -1. ]\n",
            " [ 0.5 -1. ]\n",
            " [ 1.  -1. ]\n",
            " [ 1.5 -1. ]\n",
            " [ 2.  -1. ]\n",
            " [-2.  -0.5]\n",
            " [-1.5 -0.5]\n",
            " [-1.  -0.5]\n",
            " [-0.5 -0.5]\n",
            " [ 0.  -0.5]\n",
            " [ 0.5 -0.5]\n",
            " [ 1.  -0.5]\n",
            " [ 1.5 -0.5]\n",
            " [ 2.  -0.5]\n",
            " [-2.   0. ]\n",
            " [-1.5  0. ]\n",
            " [-1.   0. ]\n",
            " [-0.5  0. ]\n",
            " [ 0.   0. ]\n",
            " [ 0.5  0. ]\n",
            " [ 1.   0. ]\n",
            " [ 1.5  0. ]\n",
            " [ 2.   0. ]\n",
            " [-2.   0.5]\n",
            " [-1.5  0.5]\n",
            " [-1.   0.5]\n",
            " [-0.5  0.5]\n",
            " [ 0.   0.5]\n",
            " [ 0.5  0.5]\n",
            " [ 1.   0.5]\n",
            " [ 1.5  0.5]\n",
            " [ 2.   0.5]\n",
            " [-2.   1. ]\n",
            " [-1.5  1. ]\n",
            " [-1.   1. ]\n",
            " [-0.5  1. ]\n",
            " [ 0.   1. ]\n",
            " [ 0.5  1. ]\n",
            " [ 1.   1. ]\n",
            " [ 1.5  1. ]\n",
            " [ 2.   1. ]\n",
            " [-2.   1.5]\n",
            " [-1.5  1.5]\n",
            " [-1.   1.5]\n",
            " [-0.5  1.5]\n",
            " [ 0.   1.5]\n",
            " [ 0.5  1.5]\n",
            " [ 1.   1.5]\n",
            " [ 1.5  1.5]\n",
            " [ 2.   1.5]\n",
            " [-2.   2. ]\n",
            " [-1.5  2. ]\n",
            " [-1.   2. ]\n",
            " [-0.5  2. ]\n",
            " [ 0.   2. ]\n",
            " [ 0.5  2. ]\n",
            " [ 1.   2. ]\n",
            " [ 1.5  2. ]\n",
            " [ 2.   2. ]]\n",
            "\n",
            "x.size is ... 162\n"
          ]
        },
        {
          "output_type": "display_data",
          "data": {
            "text/plain": [
              "<Figure size 640x480 with 1 Axes>"
            ],
            "image/png": "[encoded data removed]"
          },
          "metadata": {}
        }
      ]
    },
    {
      "cell_type": "code",
      "source": [
        "y_single = np.array([0.6, 0.2, 0.2])\n",
        "\n",
        "y_single.reshape(1, y_single.size)\n",
        "print(y_single)\n",
        "print(y_single.shape)\n",
        "\n",
        "print(y_single.reshape(1, y_single.size))\n",
        "print(y_single.reshape(1, y_single.size).shape)\n"
      ],
      "metadata": {
        "id": "CFGfDuYS3fFZ",
        "outputId": "9c942ec2-2a55-424b-c80f-8be4a70a6f45",
        "colab": {
          "base_uri": "https://localhost:8080/"
        }
      },
      "execution_count": 30,
      "outputs": [
        {
          "output_type": "stream",
          "name": "stdout",
          "text": [
            "[0.6 0.2 0.2]\n",
            "(3,)\n",
            "[[0.6 0.2 0.2]]\n",
            "(1, 3)\n"
          ]
        }
      ]
    },
    {
      "cell_type": "code",
      "source": [
        "alist = np.array([[1, 2, 3], [4, 5, 6]])\n",
        "print(np.max(alist.shape))"
      ],
      "metadata": {
        "id": "XYX0dPvg4UCv"
      },
      "execution_count": null,
      "outputs": []
    },
    {
      "cell_type": "code",
      "source": [
        "alist = np.arange(-2, 2.5, 0.25)\n",
        "print(list(alist))"
      ],
      "metadata": {
        "id": "ka0Zzp5FdEJs",
        "colab": {
          "base_uri": "https://localhost:8080/"
        },
        "outputId": "db67f940-f5b4-4b28-f9cd-9612caa976da"
      },
      "execution_count": 27,
      "outputs": [
        {
          "output_type": "stream",
          "name": "stdout",
          "text": [
            "[-2.0, -1.75, -1.5, -1.25, -1.0, -0.75, -0.5, -0.25, 0.0, 0.25, 0.5, 0.75, 1.0, 1.25, 1.5, 1.75, 2.0, 2.25]\n"
          ]
        }
      ]
    },
    {
      "cell_type": "code",
      "source": [],
      "metadata": {
        "id": "0gtG1iR3Y1Ly"
      },
      "execution_count": null,
      "outputs": []
    }
  ]
}