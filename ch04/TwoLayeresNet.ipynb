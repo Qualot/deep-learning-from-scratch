{
  "nbformat": 4,
  "nbformat_minor": 0,
  "metadata": {
    "colab": {
      "provenance": [],
      "authorship_tag": "ABX9TyNhP/a5GBzeVatTPQVZQXlh",
      "include_colab_link": true
    },
    "kernelspec": {
      "name": "python3",
      "display_name": "Python 3"
    },
    "language_info": {
      "name": "python"
    }
  },
  "cells": [
    {
      "cell_type": "markdown",
      "metadata": {
        "id": "view-in-github",
        "colab_type": "text"
      },
      "source": [
        "<a href=\"https://colab.research.google.com/github/Qualot/deep-learning-from-scratch/blob/colab/ch04/TwoLayeresNet.ipynb\" target=\"_parent\"><img src=\"https://colab.research.google.com/assets/colab-badge.svg\" alt=\"Open In Colab\"/></a>"
      ]
    },
    {
      "cell_type": "code",
      "source": [
        "import numpy as np\n",
        "import matplotlib.pyplot as plt"
      ],
      "metadata": {
        "id": "j8iubxQx7icM"
      },
      "execution_count": 5,
      "outputs": []
    },
    {
      "cell_type": "markdown",
      "source": [
        "#common functions"
      ],
      "metadata": {
        "id": "z_e1zjhEHeEO"
      }
    },
    {
      "cell_type": "code",
      "source": [
        "def sigmoid(x):\n",
        "  return 1/(1 + np.exp(-x))"
      ],
      "metadata": {
        "id": "XuvvxaRAmytg"
      },
      "execution_count": 6,
      "outputs": []
    },
    {
      "cell_type": "code",
      "source": [
        "def softmax(a):\n",
        "  c = np.max(a)\n",
        "  exp_a = np.exp(a-c) #prevents overflow\n",
        "  sum_exp_a = np.sum(exp_a)\n",
        "  y = exp_a / sum_exp_a\n",
        "  return y"
      ],
      "metadata": {
        "id": "_I_nI8Cbm8GL"
      },
      "execution_count": 7,
      "outputs": []
    },
    {
      "cell_type": "code",
      "source": [
        "def cross_entropy_error(y, t):\n",
        "  if y.ndim == 1:\n",
        "    t = t.reshape(1, t.size)\n",
        "    y = y.reshape(1, y.size)\n",
        "\n",
        "  batch_size = y.shape[0]\n",
        "  return -np.sum(t * np.log(y + 1e-7)) / batch_size"
      ],
      "metadata": {
        "id": "RneQ_5TEs4Wr"
      },
      "execution_count": 8,
      "outputs": []
    },
    {
      "cell_type": "code",
      "source": [
        "def _numerical_gradient_wo_batch(f, x):\n",
        "  h = 1e-4\n",
        "  grad = np.zeros_like(x)\n",
        "\n",
        "  for idx in range(x.size):\n",
        "    tmp_val = x[idx]\n",
        "\n",
        "    #f(x+h)\n",
        "    x[idx] = tmp_val + h\n",
        "    fxh1 = f(x)\n",
        "\n",
        "    #f(x+h)\n",
        "    x[idx] = tmp_val - h\n",
        "    fxh2 = f(x)\n",
        "\n",
        "    grad[idx] = (fxh1 - fxh2) / (2*h)\n",
        "    x[idx] = tmp_val\n",
        "\n",
        "  return grad"
      ],
      "metadata": {
        "id": "RY9uC3g_Jnq4"
      },
      "execution_count": 9,
      "outputs": []
    },
    {
      "cell_type": "code",
      "source": [
        "def numerical_gradient(f, x):\n",
        "  if x.ndim == 1:\n",
        "    return _numerical_gradient_wo_batch(f, x)\n",
        "\n",
        "  grad = np.zeros_like(x)\n",
        "  for key, xvec in enumerate(x):\n",
        "    grad[key] = _numerical_gradient_wo_batch(f, xvec)\n",
        "\n",
        "  return grad"
      ],
      "metadata": {
        "id": "C6ps1gGXKRr7"
      },
      "execution_count": 10,
      "outputs": []
    },
    {
      "cell_type": "code",
      "execution_count": 11,
      "metadata": {
        "id": "AGWO_ULDK0Hv"
      },
      "outputs": [],
      "source": [
        "class TwoLayerNet:\n",
        "  def __init__(self, input_size, hidden_size, output_size, weight_init_std=0.01):\n",
        "    #initialize weights and biasses\n",
        "    self.params = {}\n",
        "    self.params['W1'] = weight_init_std * np.random.randn(input_size, hidden_size)\n",
        "    self.params['b1'] = np.zeros(hidden_size)\n",
        "    self.params['W2'] = weight_init_std * np.random.randn(hidden_size, output_size)\n",
        "    self.params['b2'] = np.zeros(output_size)\n",
        "\n",
        "  def predict(self, x):\n",
        "    W1, W2 = self.params['W1'], self.params['W2']\n",
        "    b1, b2 = self.params['b1'], self.params['b2']\n",
        "\n",
        "    a1 = np.dot(x, W1) + b1\n",
        "    z1 = sigmoid(a1)\n",
        "    a2 = np.dot(z1, W2) + b2\n",
        "    y = softmax(a2)\n",
        "\n",
        "    return y\n",
        "\n",
        "  #x: input data, t: teacher data\n",
        "  def loss(self, x, t):\n",
        "    y = self.predict(x)\n",
        "\n",
        "    return cross_entropy_error(y, t)\n",
        "\n",
        "  def accuracy(self, x, t):\n",
        "    y = self.predict(x)\n",
        "    y = np.argmax(y, axis=1)\n",
        "    t = np.argmax(t, axis=1)\n",
        "\n",
        "    accuracy = np.sum(y == t) / float(x.shape[0])\n",
        "    return accuracy\n",
        "\n",
        "  #x: input, t: teacher\n",
        "  def numerical_gradient(self, x, t):\n",
        "    loss_W = lambda W: self.loss(x, t)\n",
        "\n",
        "    grads = {}\n",
        "    grads['W1'] = numerical_gradient(loss_W, self.params['W1'])\n",
        "    grads['b1'] = numerical_gradient(loss_W, self.params['b1'])\n",
        "    grads['W2'] = numerical_gradient(loss_W, self.params['W2'])\n",
        "    grads['b2'] = numerical_gradient(loss_W, self.params['b2'])\n",
        "    return grads"
      ]
    },
    {
      "cell_type": "markdown",
      "source": [
        "#Practice part (argmax() for accuracy)"
      ],
      "metadata": {
        "id": "zyI6CgdZEmXK"
      }
    },
    {
      "cell_type": "code",
      "source": [
        "a = np.random.randn(10, 5)\n",
        "print(a)\n",
        "b = np.random.randn(10, 5)\n",
        "print(b)\n",
        "\n",
        "a = np.argmax(a, axis=1)\n",
        "b = np.argmax(b, axis=1)\n",
        "print(a)\n",
        "print(b)\n",
        "print(a==b)"
      ],
      "metadata": {
        "id": "p9asTKYp7p2E",
        "colab": {
          "base_uri": "https://localhost:8080/"
        },
        "outputId": "1a92c118-8ee5-4d8a-b8d9-9a4be27d2c20"
      },
      "execution_count": 12,
      "outputs": [
        {
          "output_type": "stream",
          "name": "stdout",
          "text": [
            "[[-4.40098944e-01  1.01506697e+00  4.75240090e-01 -8.09481248e-01\n",
            "  -7.35222725e-02]\n",
            " [ 1.92537672e+00  1.46082539e+00 -7.96724455e-01 -3.40468130e-01\n",
            "  -5.56172532e-02]\n",
            " [ 8.27299851e-02  1.35465382e-01 -8.21453570e-01  1.23620687e+00\n",
            "   4.46699079e-01]\n",
            " [-8.90099041e-01 -1.66670761e-01  1.85060837e+00 -4.28194338e-01\n",
            "  -4.94758980e-01]\n",
            " [-7.44370484e-01  1.17304773e+00 -2.36839692e+00  1.17359748e+00\n",
            "  -6.31464740e-01]\n",
            " [-1.13404709e+00  2.80192855e-01 -6.51578067e-01 -1.79151394e-01\n",
            "  -4.82956648e-01]\n",
            " [-2.73989067e-01 -3.13937246e-01 -1.69592515e+00  6.74475137e-01\n",
            "  -3.84430554e-01]\n",
            " [ 2.00465336e+00 -2.51342138e+00 -3.85966695e-01  1.12496311e+00\n",
            "  -4.83004326e-01]\n",
            " [-5.34233647e-02 -4.75246927e-01  8.93721287e-04  4.58918434e-01\n",
            "   4.09413575e-01]\n",
            " [ 1.04926737e-01  2.14891061e+00  9.72473357e-01  6.57825160e-01\n",
            "  -5.83275721e-01]]\n",
            "[[ 0.54708588 -0.03016445 -2.39357691  0.36102322 -0.31093912]\n",
            " [-0.05700301 -0.99902865  0.39380328 -0.62916598 -0.05526616]\n",
            " [ 0.56392866 -0.56636418  1.13951855 -0.17336246 -0.58439728]\n",
            " [-2.59895945 -1.54979507 -0.25260714 -0.10967266  2.56447038]\n",
            " [-0.38502439 -0.06943981 -1.47069842  0.86849418 -1.08481388]\n",
            " [ 0.36377454  1.29143378 -0.19014242 -0.78158351 -2.23275098]\n",
            " [-1.07661749 -0.68979117  0.18298257  1.38267041 -0.28198117]\n",
            " [-0.21381377  1.03924067 -0.48051407  0.81524048 -0.06955338]\n",
            " [-0.50472254  0.90089866  1.13028426 -1.16899629  1.55365882]\n",
            " [ 1.13300974 -0.09367514 -0.99551344  0.1163943  -0.49689063]]\n",
            "[1 0 3 2 3 1 3 0 3 1]\n",
            "[0 2 2 4 3 1 3 1 4 0]\n",
            "[False False False False  True  True  True False False False]\n"
          ]
        }
      ]
    },
    {
      "cell_type": "code",
      "source": [
        "alist = np.random.randn(10, 2)\n",
        "print(alist)\n",
        "for key, avec in enumerate(alist):\n",
        "  print(f\"{key} th ... {avec}\")"
      ],
      "metadata": {
        "colab": {
          "base_uri": "https://localhost:8080/"
        },
        "id": "ZMchvbClKtyW",
        "outputId": "1a3f4cc5-d35e-4520-86c9-251000d8d95f"
      },
      "execution_count": 13,
      "outputs": [
        {
          "output_type": "stream",
          "name": "stdout",
          "text": [
            "[[-0.78311628  0.5000375 ]\n",
            " [-0.597761    1.78072889]\n",
            " [-0.28579855 -0.43017572]\n",
            " [-0.81465686 -0.82184514]\n",
            " [-2.27492803 -0.62649002]\n",
            " [-0.2670409   1.2524933 ]\n",
            " [ 0.59981983  0.01029244]\n",
            " [ 0.29699048  0.04323425]\n",
            " [ 0.10527408  0.36435918]\n",
            " [ 0.30785953 -0.33464247]]\n",
            "0 th ... [-0.78311628  0.5000375 ]\n",
            "1 th ... [-0.597761    1.78072889]\n",
            "2 th ... [-0.28579855 -0.43017572]\n",
            "3 th ... [-0.81465686 -0.82184514]\n",
            "4 th ... [-2.27492803 -0.62649002]\n",
            "5 th ... [-0.2670409  1.2524933]\n",
            "6 th ... [0.59981983 0.01029244]\n",
            "7 th ... [0.29699048 0.04323425]\n",
            "8 th ... [0.10527408 0.36435918]\n",
            "9 th ... [ 0.30785953 -0.33464247]\n"
          ]
        }
      ]
    },
    {
      "cell_type": "markdown",
      "source": [
        "#Practice part (TwoLayerNet)"
      ],
      "metadata": {
        "id": "Fpefgq9gF9li"
      }
    },
    {
      "cell_type": "code",
      "source": [
        "net = TwoLayerNet(input_size=784, hidden_size=100, output_size=10)\n",
        "print(net.params['W1'].shape)\n",
        "print(net.params['b1'].shape)\n",
        "print(net.params['W2'].shape)\n",
        "print(net.params['b2'].shape)"
      ],
      "metadata": {
        "id": "FGscvHzi8OC0",
        "colab": {
          "base_uri": "https://localhost:8080/"
        },
        "outputId": "8e48b319-ab0e-4bef-ed23-3fd984e150e0"
      },
      "execution_count": 18,
      "outputs": [
        {
          "output_type": "stream",
          "name": "stdout",
          "text": [
            "(784, 100)\n",
            "(100,)\n",
            "(100, 10)\n",
            "(10,)\n"
          ]
        }
      ]
    },
    {
      "cell_type": "code",
      "source": [
        "x = np.random.rand(100, 784)\n",
        "y = net.predict(x)"
      ],
      "metadata": {
        "id": "04uPc4_VGNjv"
      },
      "execution_count": 19,
      "outputs": []
    },
    {
      "cell_type": "code",
      "source": [
        "t = np.random.rand(100, 10)\n",
        "grads = net.numerical_gradient(x, t)"
      ],
      "metadata": {
        "id": "98fEjXDbGpp4"
      },
      "execution_count": 21,
      "outputs": []
    }
  ]
}