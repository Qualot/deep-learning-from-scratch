{
  "nbformat": 4,
  "nbformat_minor": 0,
  "metadata": {
    "colab": {
      "provenance": [],
      "authorship_tag": "ABX9TyPFs0Lk1fMpB+7IPZHqzvUm",
      "include_colab_link": true
    },
    "kernelspec": {
      "name": "python3",
      "display_name": "Python 3"
    },
    "language_info": {
      "name": "python"
    }
  },
  "cells": [
    {
      "cell_type": "markdown",
      "metadata": {
        "id": "view-in-github",
        "colab_type": "text"
      },
      "source": [
        "<a href=\"https://colab.research.google.com/github/Qualot/deep-learning-from-scratch/blob/colab/ch04/TwoLayeresNet.ipynb\" target=\"_parent\"><img src=\"https://colab.research.google.com/assets/colab-badge.svg\" alt=\"Open In Colab\"/></a>"
      ]
    },
    {
      "cell_type": "code",
      "source": [
        "import numpy as np\n",
        "import matplotlib.pyplot as plt"
      ],
      "metadata": {
        "id": "j8iubxQx7icM"
      },
      "execution_count": 5,
      "outputs": []
    },
    {
      "cell_type": "markdown",
      "source": [
        "#common functions"
      ],
      "metadata": {
        "id": "z_e1zjhEHeEO"
      }
    },
    {
      "cell_type": "code",
      "source": [
        "def sigmoid(x):\n",
        "  return 1/(1 + np.exp(-x))"
      ],
      "metadata": {
        "id": "XuvvxaRAmytg"
      },
      "execution_count": 6,
      "outputs": []
    },
    {
      "cell_type": "code",
      "source": [
        "def softmax(a):\n",
        "  c = np.max(a)\n",
        "  exp_a = np.exp(a-c) #prevents overflow\n",
        "  sum_exp_a = np.sum(exp_a)\n",
        "  y = exp_a / sum_exp_a\n",
        "  return y"
      ],
      "metadata": {
        "id": "_I_nI8Cbm8GL"
      },
      "execution_count": 7,
      "outputs": []
    },
    {
      "cell_type": "code",
      "source": [
        "def cross_entropy_error(y, t):\n",
        "  if y.ndim == 1:\n",
        "    t = t.reshape(1, t.size)\n",
        "    y = y.reshape(1, y.size)\n",
        "\n",
        "  batch_size = y.shape[0]\n",
        "  return -np.sum(t * np.log(y + 1e-7)) / batch_size"
      ],
      "metadata": {
        "id": "RneQ_5TEs4Wr"
      },
      "execution_count": 8,
      "outputs": []
    },
    {
      "cell_type": "code",
      "source": [
        "def _numerical_gradient_wo_batch(f, x):\n",
        "  h = 1e-4\n",
        "  grad = np.zeros_like(x)\n",
        "\n",
        "  for idx in range(x.size):\n",
        "    tmp_val = x[idx]\n",
        "\n",
        "    #f(x+h)\n",
        "    x[idx] = tmp_val + h\n",
        "    fxh1 = f(x)\n",
        "\n",
        "    #f(x+h)\n",
        "    x[idx] = tmp_val - h\n",
        "    fxh2 = f(x)\n",
        "\n",
        "    grad[idx] = (fxh1 - fxh2) / (2*h)\n",
        "    x[idx] = tmp_val\n",
        "\n",
        "  return grad"
      ],
      "metadata": {
        "id": "RY9uC3g_Jnq4"
      },
      "execution_count": 9,
      "outputs": []
    },
    {
      "cell_type": "code",
      "source": [
        "def numerical_gradient(f, x):\n",
        "  if x.ndim == 1:\n",
        "    return _numerical_gradient_wo_batch(f, x)\n",
        "\n",
        "  grad = np.zeros_like(x)\n",
        "  for key, xvec in enumerate(x):\n",
        "    grad[key] = _numerical_gradient_wo_batch(f, xvec)\n",
        "\n",
        "  return grad"
      ],
      "metadata": {
        "id": "C6ps1gGXKRr7"
      },
      "execution_count": 10,
      "outputs": []
    },
    {
      "cell_type": "code",
      "execution_count": 11,
      "metadata": {
        "id": "AGWO_ULDK0Hv"
      },
      "outputs": [],
      "source": [
        "class TwoLayerNet:\n",
        "  def __init__(self, input_size, hidden_size, output_size, weight_init_std=0.01):\n",
        "    #initialize weights and biasses\n",
        "    self.params = {}\n",
        "    self.params['W1'] = weight_init_std * np.random.randn(input_size, hidden_size)\n",
        "    self.params['b1'] = np.zeros(hidden_size)\n",
        "    self.params['W2'] = weight_init_std * np.random.randn(hidden_size, output_size)\n",
        "    self.params['b2'] = np.zeros(output_size)\n",
        "\n",
        "  def predict(self, x):\n",
        "    W1, W2 = self.params['W1'], self.params['W2']\n",
        "    b1, b2 = self.params['b1'], self.params['b2']\n",
        "\n",
        "    a1 = np.dot(x, W1) + b1\n",
        "    z1 = sigmoid(a1)\n",
        "    a2 = np.dot(z1, W2) + b2\n",
        "    y = softmax(a2)\n",
        "\n",
        "    return y\n",
        "\n",
        "  #x: input data, t: teacher data\n",
        "  def loss(self, x, t):\n",
        "    y = self.predict(x)\n",
        "\n",
        "    return cross_entropy_error(y, t)\n",
        "\n",
        "  def accuracy(self, x, t):\n",
        "    y = self.predict(x)\n",
        "    y = np.argmax(y, axis=1)\n",
        "    t = np.argmax(t, axis=1)\n",
        "\n",
        "    accuracy = np.sum(y == t) / float(x.shape[0])\n",
        "    return accuracy\n",
        "\n",
        "  #x: input, t: teacher\n",
        "  def numerical_gradient(self, x, t):\n",
        "    loss_W = lambda W: self.loss(x, t)\n",
        "\n",
        "    grads = {}\n",
        "    grads['W1'] = numerical_gradient(loss_W, self.params['W1'])\n",
        "    grads['b1'] = numerical_gradient(loss_W, self.params['b1'])\n",
        "    grads['W2'] = numerical_gradient(loss_W, self.params['W2'])\n",
        "    grads['b2'] = numerical_gradient(loss_W, self.params['b2'])\n",
        "    return grads"
      ]
    },
    {
      "cell_type": "markdown",
      "source": [
        "#Testing part (argmax() for accuracy)"
      ],
      "metadata": {
        "id": "zyI6CgdZEmXK"
      }
    },
    {
      "cell_type": "code",
      "source": [
        "a = np.random.randn(10, 5)\n",
        "print(a)\n",
        "b = np.random.randn(10, 5)\n",
        "print(b)\n",
        "\n",
        "a = np.argmax(a, axis=1)\n",
        "b = np.argmax(b, axis=1)\n",
        "print(a)\n",
        "print(b)\n",
        "print(a==b)"
      ],
      "metadata": {
        "id": "p9asTKYp7p2E",
        "colab": {
          "base_uri": "https://localhost:8080/"
        },
        "outputId": "1a92c118-8ee5-4d8a-b8d9-9a4be27d2c20"
      },
      "execution_count": 12,
      "outputs": [
        {
          "output_type": "stream",
          "name": "stdout",
          "text": [
            "[[-4.40098944e-01  1.01506697e+00  4.75240090e-01 -8.09481248e-01\n",
            "  -7.35222725e-02]\n",
            " [ 1.92537672e+00  1.46082539e+00 -7.96724455e-01 -3.40468130e-01\n",
            "  -5.56172532e-02]\n",
            " [ 8.27299851e-02  1.35465382e-01 -8.21453570e-01  1.23620687e+00\n",
            "   4.46699079e-01]\n",
            " [-8.90099041e-01 -1.66670761e-01  1.85060837e+00 -4.28194338e-01\n",
            "  -4.94758980e-01]\n",
            " [-7.44370484e-01  1.17304773e+00 -2.36839692e+00  1.17359748e+00\n",
            "  -6.31464740e-01]\n",
            " [-1.13404709e+00  2.80192855e-01 -6.51578067e-01 -1.79151394e-01\n",
            "  -4.82956648e-01]\n",
            " [-2.73989067e-01 -3.13937246e-01 -1.69592515e+00  6.74475137e-01\n",
            "  -3.84430554e-01]\n",
            " [ 2.00465336e+00 -2.51342138e+00 -3.85966695e-01  1.12496311e+00\n",
            "  -4.83004326e-01]\n",
            " [-5.34233647e-02 -4.75246927e-01  8.93721287e-04  4.58918434e-01\n",
            "   4.09413575e-01]\n",
            " [ 1.04926737e-01  2.14891061e+00  9.72473357e-01  6.57825160e-01\n",
            "  -5.83275721e-01]]\n",
            "[[ 0.54708588 -0.03016445 -2.39357691  0.36102322 -0.31093912]\n",
            " [-0.05700301 -0.99902865  0.39380328 -0.62916598 -0.05526616]\n",
            " [ 0.56392866 -0.56636418  1.13951855 -0.17336246 -0.58439728]\n",
            " [-2.59895945 -1.54979507 -0.25260714 -0.10967266  2.56447038]\n",
            " [-0.38502439 -0.06943981 -1.47069842  0.86849418 -1.08481388]\n",
            " [ 0.36377454  1.29143378 -0.19014242 -0.78158351 -2.23275098]\n",
            " [-1.07661749 -0.68979117  0.18298257  1.38267041 -0.28198117]\n",
            " [-0.21381377  1.03924067 -0.48051407  0.81524048 -0.06955338]\n",
            " [-0.50472254  0.90089866  1.13028426 -1.16899629  1.55365882]\n",
            " [ 1.13300974 -0.09367514 -0.99551344  0.1163943  -0.49689063]]\n",
            "[1 0 3 2 3 1 3 0 3 1]\n",
            "[0 2 2 4 3 1 3 1 4 0]\n",
            "[False False False False  True  True  True False False False]\n"
          ]
        }
      ]
    },
    {
      "cell_type": "code",
      "source": [
        "alist = np.random.randn(10, 2)\n",
        "print(alist)\n",
        "for key, avec in enumerate(alist):\n",
        "  print(f\"{key} th ... {avec}\")"
      ],
      "metadata": {
        "id": "ZMchvbClKtyW",
        "outputId": "1a3f4cc5-d35e-4520-86c9-251000d8d95f",
        "colab": {
          "base_uri": "https://localhost:8080/"
        }
      },
      "execution_count": 13,
      "outputs": [
        {
          "output_type": "stream",
          "name": "stdout",
          "text": [
            "[[-0.78311628  0.5000375 ]\n",
            " [-0.597761    1.78072889]\n",
            " [-0.28579855 -0.43017572]\n",
            " [-0.81465686 -0.82184514]\n",
            " [-2.27492803 -0.62649002]\n",
            " [-0.2670409   1.2524933 ]\n",
            " [ 0.59981983  0.01029244]\n",
            " [ 0.29699048  0.04323425]\n",
            " [ 0.10527408  0.36435918]\n",
            " [ 0.30785953 -0.33464247]]\n",
            "0 th ... [-0.78311628  0.5000375 ]\n",
            "1 th ... [-0.597761    1.78072889]\n",
            "2 th ... [-0.28579855 -0.43017572]\n",
            "3 th ... [-0.81465686 -0.82184514]\n",
            "4 th ... [-2.27492803 -0.62649002]\n",
            "5 th ... [-0.2670409  1.2524933]\n",
            "6 th ... [0.59981983 0.01029244]\n",
            "7 th ... [0.29699048 0.04323425]\n",
            "8 th ... [0.10527408 0.36435918]\n",
            "9 th ... [ 0.30785953 -0.33464247]\n"
          ]
        }
      ]
    },
    {
      "cell_type": "markdown",
      "source": [
        "#Testing part (TwoLayerNet)"
      ],
      "metadata": {
        "id": "Fpefgq9gF9li"
      }
    },
    {
      "cell_type": "code",
      "source": [
        "net = TwoLayerNet(input_size=784, hidden_size=100, output_size=10)\n",
        "print(net.params['W1'].shape)\n",
        "print(net.params['b1'].shape)\n",
        "print(net.params['W2'].shape)\n",
        "print(net.params['b2'].shape)"
      ],
      "metadata": {
        "id": "FGscvHzi8OC0",
        "colab": {
          "base_uri": "https://localhost:8080/"
        },
        "outputId": "a9a44895-65ae-43bb-820b-4cdc2d819a21"
      },
      "execution_count": 14,
      "outputs": [
        {
          "output_type": "stream",
          "name": "stdout",
          "text": [
            "(256, 10)\n",
            "(10,)\n",
            "(10, 10)\n",
            "(10,)\n"
          ]
        }
      ]
    },
    {
      "cell_type": "code",
      "source": [
        "x = np.random.rand(100, 784)\n",
        "y = net.predict(x)"
      ],
      "metadata": {
        "id": "04uPc4_VGNjv"
      },
      "execution_count": 15,
      "outputs": []
    },
    {
      "cell_type": "code",
      "source": [
        "t = np.random.rand(100, 10)\n",
        "grads = net.numerical_gradient(x, t)\n",
        "print(grads)"
      ],
      "metadata": {
        "colab": {
          "base_uri": "https://localhost:8080/"
        },
        "id": "98fEjXDbGpp4",
        "outputId": "360dc83c-5321-490a-def0-ecd21a12af35"
      },
      "execution_count": 17,
      "outputs": [
        {
          "output_type": "stream",
          "name": "stdout",
          "text": [
            "{'W1': array([[ 2.23453611e-04, -4.39264269e-05, -1.56730096e-05, ...,\n",
            "         7.49107798e-05, -1.93813676e-05, -2.21120899e-07],\n",
            "       [ 2.07657216e-04, -6.86491219e-05,  1.07170450e-05, ...,\n",
            "         6.69221123e-06, -2.66252442e-05,  6.19163387e-06],\n",
            "       [ 2.70883085e-04, -5.43849765e-05, -2.87721846e-05, ...,\n",
            "         4.53970372e-05, -2.44404319e-05, -2.65794853e-05],\n",
            "       ...,\n",
            "       [ 2.19167866e-04, -3.93973565e-05, -7.15380466e-05, ...,\n",
            "         5.43246514e-05, -9.31975563e-05, -1.70402146e-04],\n",
            "       [ 3.13620774e-04, -8.70796057e-05,  8.39101233e-06, ...,\n",
            "         5.27894173e-05, -8.24199731e-05,  4.79570161e-05],\n",
            "       [ 1.60417741e-04, -9.84682913e-05, -1.17772068e-04, ...,\n",
            "        -5.18528864e-05,  5.45903944e-05,  7.62248931e-06]]), 'b1': array([ 4.32009735e-04, -9.44344336e-05, -3.33209016e-06,  3.74189213e-05,\n",
            "        2.33019257e-04,  1.30077780e-04,  1.36873126e-04,  9.00665853e-05,\n",
            "       -5.56758906e-05, -5.66753755e-05]), 'W2': array([[-0.00434966, -0.00325783, -0.0179006 , -0.02098862,  0.01305987,\n",
            "        -0.0088948 ,  0.00738792,  0.01304772,  0.01815798,  0.00435852],\n",
            "       [-0.00467614, -0.00262511, -0.01787891, -0.02008404,  0.01197541,\n",
            "        -0.00880836,  0.00804251,  0.01300275,  0.01728281,  0.00419049],\n",
            "       [-0.00532863, -0.00335642, -0.01836633, -0.02128441,  0.01222572,\n",
            "        -0.00802782,  0.00800724,  0.01398311,  0.01813826,  0.00411016],\n",
            "       [-0.00461899, -0.00247349, -0.01712004, -0.02010485,  0.01160417,\n",
            "        -0.00883739,  0.00785105,  0.01229387,  0.01697265,  0.00415276],\n",
            "       [-0.0047016 , -0.00363659, -0.01839797, -0.0212716 ,  0.01277829,\n",
            "        -0.00891045,  0.00831959,  0.01372961,  0.01792113,  0.00375136],\n",
            "       [-0.00460944, -0.0031348 , -0.01776937, -0.02035002,  0.01179143,\n",
            "        -0.00890584,  0.00781935,  0.0132613 ,  0.01719971,  0.00450588],\n",
            "       [-0.00463519, -0.00329196, -0.01818778, -0.0209199 ,  0.01242711,\n",
            "        -0.00824972,  0.0080296 ,  0.01318876,  0.01769556,  0.00452619],\n",
            "       [-0.00508632, -0.0038711 , -0.01874612, -0.02148116,  0.01227145,\n",
            "        -0.00807082,  0.00921121,  0.01381082,  0.01807893,  0.00398979],\n",
            "       [-0.00443344, -0.00340957, -0.01774196, -0.02060795,  0.01280998,\n",
            "        -0.00855952,  0.00771419,  0.0133032 ,  0.01816736,  0.00396159],\n",
            "       [-0.0048018 , -0.00339125, -0.01764927, -0.02103969,  0.01259479,\n",
            "        -0.00853525,  0.00805117,  0.01348924,  0.01796476,  0.00380489]]), 'b2': array([-0.00957169, -0.00644299, -0.0357557 , -0.04168457,  0.02434336,\n",
            "       -0.01699864,  0.01617447,  0.02639801,  0.0353387 ,  0.00819906])}\n"
          ]
        }
      ]
    },
    {
      "cell_type": "code",
      "source": [],
      "metadata": {
        "id": "MuPChIj2MKz6"
      },
      "execution_count": null,
      "outputs": []
    }
  ]
}