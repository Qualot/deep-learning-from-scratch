{
  "nbformat": 4,
  "nbformat_minor": 0,
  "metadata": {
    "colab": {
      "provenance": [],
      "authorship_tag": "ABX9TyOhUcBsxV2gLiv2M8EeZlYZ",
      "include_colab_link": true
    },
    "kernelspec": {
      "name": "python3",
      "display_name": "Python 3"
    },
    "language_info": {
      "name": "python"
    }
  },
  "cells": [
    {
      "cell_type": "markdown",
      "metadata": {
        "id": "view-in-github",
        "colab_type": "text"
      },
      "source": [
        "<a href=\"https://colab.research.google.com/github/Qualot/deep-learning-from-scratch/blob/colab/ch04/TwoLayeresNet.ipynb\" target=\"_parent\"><img src=\"https://colab.research.google.com/assets/colab-badge.svg\" alt=\"Open In Colab\"/></a>"
      ]
    },
    {
      "cell_type": "code",
      "source": [
        "import numpy as np\n",
        "import matplotlib.pyplot as plt"
      ],
      "metadata": {
        "id": "j8iubxQx7icM"
      },
      "execution_count": null,
      "outputs": []
    },
    {
      "cell_type": "code",
      "source": [
        "def sigmoid(x):\n",
        "  return 1/(1 + np.exp(-x))"
      ],
      "metadata": {
        "id": "XuvvxaRAmytg"
      },
      "execution_count": 6,
      "outputs": []
    },
    {
      "cell_type": "code",
      "source": [
        "def softmax(a):\n",
        "  c = np.max(a)\n",
        "  exp_a = np.exp(a-c) #prevents overflow\n",
        "  sum_exp_a = np.sum(exp_a)\n",
        "  y = exp_a / sum_exp_a\n",
        "  return y"
      ],
      "metadata": {
        "id": "_I_nI8Cbm8GL"
      },
      "execution_count": 7,
      "outputs": []
    },
    {
      "cell_type": "code",
      "source": [
        "def cross_entropy_error(y, t):\n",
        "  if y.ndim == 1:\n",
        "    t = t.reshape(1, t.size)\n",
        "    y = y.reshape(1, y.size)\n",
        "\n",
        "  batch_size = y.shape[0]\n",
        "  return -np.sum(t * np.log(y + 1e-7)) / batch_size"
      ],
      "metadata": {
        "id": "RneQ_5TEs4Wr"
      },
      "execution_count": null,
      "outputs": []
    },
    {
      "cell_type": "code",
      "execution_count": 8,
      "metadata": {
        "id": "AGWO_ULDK0Hv"
      },
      "outputs": [],
      "source": [
        "class TwoLayerNet:\n",
        "  def __init__(self, input_size, hidden_size, output_size, weight_init_std=0.01):\n",
        "    #initialize weights and biasses\n",
        "    self.params = {}\n",
        "    self.params['W1'] = weight_init_std * np.random.randn(input_size, hidden_size)\n",
        "    self.params['b1'] = np.zeros(hidden_size)\n",
        "    self.params['W2'] = weight_init_std * np.random.randn(hidden_size, output_size)\n",
        "    self.params['b2'] = np.zeros(output_size)\n",
        "\n",
        "  def predict(self, x):\n",
        "    W1, W2 = self.params['W1'], self.params['W2']\n",
        "    b1, b2 = self.params['b1'], self.params['b2']\n",
        "\n",
        "    a1 = np.dot(x, W1) + b1\n",
        "    z1 = sigmoid(a1)\n",
        "    a2 = np.dot(z1, W2) + b2\n",
        "    y = softmax(a2)\n",
        "\n",
        "    return y\n",
        "\n",
        "  #x: input data, t: teacher data\n",
        "  def loss(self, x, t):\n",
        "    y = self.predict(x)\n",
        "\n",
        "    return cross_entropy_error(y, t)\n",
        "\n",
        "  def accuracy(self, x, t):\n",
        "    y = self.predict(x)\n",
        "    y = np.argmax(y, axis=1)\n",
        "    t = np.argmax(t, axis=1)\n",
        "\n",
        "    accuracy = np.sum(y == t) / float(x.shape[0])\n",
        "    return accuracy\n",
        "\n",
        "  #x: input, t: teacher\n",
        "  def numerical_gradient(self, x, t):\n",
        "    loss_W = lambda W: self.loss(x, t)\n",
        "\n",
        "    grads = {}\n",
        "    grads['W1'] = numerical_gradient(loss_W, self.params['W1'])\n",
        "    grads['b1'] = numerical_gradient(loss_W, self.params['b1'])\n",
        "    grads['W2'] = numerical_gradient(loss_W, self.params['W2'])\n",
        "    grads['b2'] = numerical_gradient(loss_W, self.params['b2'])\n",
        "    return grads"
      ]
    },
    {
      "cell_type": "markdown",
      "source": [
        "#Testing part"
      ],
      "metadata": {
        "id": "zyI6CgdZEmXK"
      }
    },
    {
      "cell_type": "code",
      "source": [
        "a = np.random.randn(10, 5)\n",
        "print(a)\n",
        "b = np.random.randn(10, 5)\n",
        "print(b)\n",
        "\n",
        "a = np.argmax(a, axis=1)\n",
        "b = np.argmax(b, axis=1)\n",
        "print(a)\n",
        "print(b)\n",
        "print(a==b)"
      ],
      "metadata": {
        "id": "p9asTKYp7p2E",
        "colab": {
          "base_uri": "https://localhost:8080/"
        },
        "outputId": "23fd374b-a33b-4a95-cdde-0fe665fb0d6f"
      },
      "execution_count": 16,
      "outputs": [
        {
          "output_type": "stream",
          "name": "stdout",
          "text": [
            "[[ 1.55398611 -1.5625352   0.26405701  0.78497733 -2.02504349]\n",
            " [-0.63353341 -0.73216817  0.4111785   1.23773409 -0.55341871]\n",
            " [-0.97541038  1.47238285  1.73105479 -1.19446728  1.31029978]\n",
            " [-0.13764955  0.14971464 -1.6176078  -0.34585941 -1.97763972]\n",
            " [ 1.82569332  1.19885623 -0.66927943  0.91057178 -1.83706886]\n",
            " [-0.91500902  1.66269707 -0.03807004  2.03979789  0.70442019]\n",
            " [ 0.24414984  1.89347267  1.48252402 -0.22732093 -0.75443784]\n",
            " [ 1.65046615  0.65332137  0.12591594 -0.96367816 -0.4955121 ]\n",
            " [ 1.23195819  1.52342052 -1.76065933  0.2908632  -0.11990235]\n",
            " [ 1.0933422  -0.12469022 -1.51488744 -1.10489281  2.59651427]]\n",
            "[[-0.03108484  0.48559924 -0.21366483 -2.51778696 -0.0380181 ]\n",
            " [-1.38551227 -0.36436333  1.14223142  1.26000476  1.41616356]\n",
            " [ 1.03651942  0.17282124 -0.96426174 -0.97540925  0.34985807]\n",
            " [-0.90616789  0.07773618 -0.03042346  0.55926871  1.27759579]\n",
            " [-0.99259322  0.14153174  0.79428487  0.20330144  2.79248668]\n",
            " [-0.99645494 -0.80088313  1.29916789  0.30599348 -0.63290501]\n",
            " [-0.38955038  0.67153822 -1.25323744  2.09590236 -0.85912023]\n",
            " [-0.51607565  0.25469762  0.06519055 -1.47632932  0.12144799]\n",
            " [-2.40603403 -1.02824507  0.62064518  0.53665224 -1.5638823 ]\n",
            " [ 0.51176684  0.70174702 -0.68309246 -0.51642806  0.01736264]]\n",
            "[0 3 2 1 0 3 1 0 1 4]\n",
            "[1 4 0 4 4 2 3 1 2 1]\n",
            "[False False False False False False False False False False]\n"
          ]
        }
      ]
    },
    {
      "cell_type": "code",
      "source": [],
      "metadata": {
        "id": "FGscvHzi8OC0"
      },
      "execution_count": 14,
      "outputs": []
    }
  ]
}