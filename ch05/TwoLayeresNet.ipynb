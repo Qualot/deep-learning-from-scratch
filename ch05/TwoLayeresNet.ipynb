{
  "nbformat": 4,
  "nbformat_minor": 0,
  "metadata": {
    "colab": {
      "provenance": [],
      "authorship_tag": "ABX9TyPbkhbd53qGRM3UQtZWHEqi",
      "include_colab_link": true
    },
    "kernelspec": {
      "name": "python3",
      "display_name": "Python 3"
    },
    "language_info": {
      "name": "python"
    },
    "accelerator": "TPU"
  },
  "cells": [
    {
      "cell_type": "markdown",
      "metadata": {
        "id": "view-in-github",
        "colab_type": "text"
      },
      "source": [
        "<a href=\"https://colab.research.google.com/github/Qualot/deep-learning-from-scratch/blob/colab/ch05/TwoLayeresNet.ipynb\" target=\"_parent\"><img src=\"https://colab.research.google.com/assets/colab-badge.svg\" alt=\"Open In Colab\"/></a>"
      ]
    },
    {
      "cell_type": "code",
      "source": [
        "import numpy as np\n",
        "import matplotlib.pyplot as plt\n",
        "from collections import OrderedDict\n",
        "from keras.datasets import mnist\n",
        "from keras.utils import to_categorical\n",
        "from tqdm import tqdm"
      ],
      "metadata": {
        "id": "j8iubxQx7icM"
      },
      "execution_count": 105,
      "outputs": []
    },
    {
      "cell_type": "code",
      "source": [
        "np.set_printoptions(linewidth=10000)"
      ],
      "metadata": {
        "id": "CKE5gIbaSPSC"
      },
      "execution_count": 106,
      "outputs": []
    },
    {
      "cell_type": "markdown",
      "source": [
        "#common functions"
      ],
      "metadata": {
        "id": "z_e1zjhEHeEO"
      }
    },
    {
      "cell_type": "code",
      "source": [
        "def sigmoid(x):\n",
        "  return 1/(1 + np.exp(-x))"
      ],
      "metadata": {
        "id": "XuvvxaRAmytg"
      },
      "execution_count": 107,
      "outputs": []
    },
    {
      "cell_type": "code",
      "source": [
        "def softmax(a):\n",
        "  c = np.max(a)\n",
        "  exp_a = np.exp(a-c) #prevents overflow\n",
        "  sum_exp_a = np.sum(exp_a)\n",
        "  y = exp_a / sum_exp_a\n",
        "  return y"
      ],
      "metadata": {
        "id": "_I_nI8Cbm8GL"
      },
      "execution_count": 108,
      "outputs": []
    },
    {
      "cell_type": "code",
      "source": [
        "def cross_entropy_error(y, t):\n",
        "  if y.ndim == 1:\n",
        "    t = t.reshape(1, t.size)\n",
        "    y = y.reshape(1, y.size)\n",
        "\n",
        "  batch_size = y.shape[0]\n",
        "  return -np.sum(t * np.log(y + 1e-7)) / batch_size"
      ],
      "metadata": {
        "id": "RneQ_5TEs4Wr"
      },
      "execution_count": 109,
      "outputs": []
    },
    {
      "cell_type": "markdown",
      "source": [
        "#Numerical gradient functions"
      ],
      "metadata": {
        "id": "a33zr23DMKcX"
      }
    },
    {
      "cell_type": "code",
      "source": [
        "def _numerical_gradient_wo_batch(f, x):\n",
        "  h = 1e-4\n",
        "  grad = np.zeros_like(x)\n",
        "\n",
        "  for idx in range(x.size):\n",
        "    tmp_val = x[idx]\n",
        "\n",
        "    #f(x+h)\n",
        "    x[idx] = tmp_val + h\n",
        "    fxh1 = f(x)\n",
        "\n",
        "    #f(x+h)\n",
        "    x[idx] = tmp_val - h\n",
        "    fxh2 = f(x)\n",
        "\n",
        "    grad[idx] = (fxh1 - fxh2) / (2*h)\n",
        "    x[idx] = tmp_val\n",
        "\n",
        "  return grad"
      ],
      "metadata": {
        "id": "RY9uC3g_Jnq4"
      },
      "execution_count": 110,
      "outputs": []
    },
    {
      "cell_type": "code",
      "source": [
        "def numerical_gradient(f, x):\n",
        "  if x.ndim == 1:\n",
        "    return _numerical_gradient_wo_batch(f, x)\n",
        "\n",
        "  grad = np.zeros_like(x)\n",
        "  for key, xvec in enumerate(x):\n",
        "    grad[key] = _numerical_gradient_wo_batch(f, xvec)\n",
        "\n",
        "  return grad"
      ],
      "metadata": {
        "id": "C6ps1gGXKRr7"
      },
      "execution_count": 111,
      "outputs": []
    },
    {
      "cell_type": "markdown",
      "source": [
        "#Backpropagation using Computational Graph"
      ],
      "metadata": {
        "id": "MTw5EqI1MXDT"
      }
    },
    {
      "cell_type": "code",
      "source": [
        "class MulLayer:\n",
        "  def __init__(self,):\n",
        "    self.x = None\n",
        "    self.y = None\n",
        "\n",
        "  def forward(self, x, y):\n",
        "    self.x = x\n",
        "    self.y = y\n",
        "    out = x * y\n",
        "    return out\n",
        "\n",
        "  def backward(self, dout):\n",
        "    dx = dout * self.y #flip x and y\n",
        "    dy = dout * self.x\n",
        "\n",
        "    return dx, dy"
      ],
      "metadata": {
        "id": "maUF0V75MTcY"
      },
      "execution_count": 112,
      "outputs": []
    },
    {
      "cell_type": "code",
      "source": [
        "class AddLayer:\n",
        "  def __init__(self):\n",
        "    pass\n",
        "\n",
        "  def forward(self, x, y):\n",
        "    out = x + y\n",
        "    return out\n",
        "\n",
        "  def backward(self, dout):\n",
        "    dx = dout * 1\n",
        "    dy = dout * 1\n",
        "    return dx, dy"
      ],
      "metadata": {
        "id": "qMl0ICENMgS3"
      },
      "execution_count": 113,
      "outputs": []
    },
    {
      "cell_type": "code",
      "source": [
        "class Relu:\n",
        "  def __init__(self):\n",
        "    self.mask = None\n",
        "\n",
        "  def forward(self, x):\n",
        "    self.mask = (x <= 0)\n",
        "    out = x.copy()\n",
        "    out[self.mask] = 0\n",
        "\n",
        "    return out\n",
        "\n",
        "  def backward(self, dout):\n",
        "    dout[self.mask] = 0\n",
        "    dx = dout\n",
        "\n",
        "    return dx"
      ],
      "metadata": {
        "id": "GRSujySLMnKz"
      },
      "execution_count": 114,
      "outputs": []
    },
    {
      "cell_type": "code",
      "source": [
        "class Sigmoid:\n",
        "  def __init__(self):\n",
        "    self.out = None\n",
        "\n",
        "  def forward(self, x):\n",
        "    out = 1 / (1 + np.exp(-x))\n",
        "    self.out = out\n",
        "    return out\n",
        "\n",
        "  def backward(self, dout):\n",
        "    dx = dout * (1.0 - self.out) * self.out\n",
        "    return dx"
      ],
      "metadata": {
        "id": "yfBY7w_UMpLK"
      },
      "execution_count": 115,
      "outputs": []
    },
    {
      "cell_type": "code",
      "source": [
        "class Affine:\n",
        "  def __init__(self, W, b):\n",
        "    self.W = W\n",
        "    self.b = b\n",
        "    self.x = None\n",
        "    self.dW = None\n",
        "    self.db = None\n",
        "\n",
        "  def forward(self, x):\n",
        "    self.x = x\n",
        "    out = np.dot(x, self.W) + self.b\n",
        "    return out\n",
        "\n",
        "  def backward(self, dout):\n",
        "    dx = np.dot(dout, self.W.T)\n",
        "    self.dW = np.dot(self.x.T, dout)\n",
        "    self.db = np.sum(dout, axis=0)\n",
        "    return dx"
      ],
      "metadata": {
        "id": "KiaZz9H1MsNi"
      },
      "execution_count": 116,
      "outputs": []
    },
    {
      "cell_type": "code",
      "source": [
        "class SoftmaxWithLoss:\n",
        "  def __init__(self):\n",
        "    self.loss = None\n",
        "    self.y = None\n",
        "    self.t = None\n",
        "\n",
        "  def forward(self, x, t):\n",
        "    self.t = t\n",
        "    self.y = softmax(x)\n",
        "    self.loss = cross_entropy_error(self.y, self.t)\n",
        "    return self.loss\n",
        "\n",
        "  def backward(self, dout=1):\n",
        "    batch_size = self.t.shape[0]\n",
        "    dx = (self.y - self.t) / batch_size\n",
        "    return dx"
      ],
      "metadata": {
        "id": "HVzUFtQ1MuCZ"
      },
      "execution_count": 117,
      "outputs": []
    },
    {
      "cell_type": "markdown",
      "source": [
        "#Load MNIST and postprocessing (normalize, flatten, one-hot)"
      ],
      "metadata": {
        "id": "mWR8vc6IRrqD"
      }
    },
    {
      "cell_type": "code",
      "source": [
        "(x_train, t_train), (x_test, t_test) = mnist.load_data()\n",
        "print(x_train[0])\n",
        "plt.figure()\n",
        "plt.imshow(x_train[0])\n",
        "plt.colorbar()\n",
        "plt.grid(False)\n",
        "plt.show()"
      ],
      "metadata": {
        "colab": {
          "base_uri": "https://localhost:8080/",
          "height": 935
        },
        "id": "iUOb2VzDRv23",
        "outputId": "3ce2cad4-60c0-4ef3-da9a-8afe360c7758"
      },
      "execution_count": 118,
      "outputs": [
        {
          "output_type": "stream",
          "name": "stdout",
          "text": [
            "[[  0   0   0   0   0   0   0   0   0   0   0   0   0   0   0   0   0   0   0   0   0   0   0   0   0   0   0   0]\n",
            " [  0   0   0   0   0   0   0   0   0   0   0   0   0   0   0   0   0   0   0   0   0   0   0   0   0   0   0   0]\n",
            " [  0   0   0   0   0   0   0   0   0   0   0   0   0   0   0   0   0   0   0   0   0   0   0   0   0   0   0   0]\n",
            " [  0   0   0   0   0   0   0   0   0   0   0   0   0   0   0   0   0   0   0   0   0   0   0   0   0   0   0   0]\n",
            " [  0   0   0   0   0   0   0   0   0   0   0   0   0   0   0   0   0   0   0   0   0   0   0   0   0   0   0   0]\n",
            " [  0   0   0   0   0   0   0   0   0   0   0   0   3  18  18  18 126 136 175  26 166 255 247 127   0   0   0   0]\n",
            " [  0   0   0   0   0   0   0   0  30  36  94 154 170 253 253 253 253 253 225 172 253 242 195  64   0   0   0   0]\n",
            " [  0   0   0   0   0   0   0  49 238 253 253 253 253 253 253 253 253 251  93  82  82  56  39   0   0   0   0   0]\n",
            " [  0   0   0   0   0   0   0  18 219 253 253 253 253 253 198 182 247 241   0   0   0   0   0   0   0   0   0   0]\n",
            " [  0   0   0   0   0   0   0   0  80 156 107 253 253 205  11   0  43 154   0   0   0   0   0   0   0   0   0   0]\n",
            " [  0   0   0   0   0   0   0   0   0  14   1 154 253  90   0   0   0   0   0   0   0   0   0   0   0   0   0   0]\n",
            " [  0   0   0   0   0   0   0   0   0   0   0 139 253 190   2   0   0   0   0   0   0   0   0   0   0   0   0   0]\n",
            " [  0   0   0   0   0   0   0   0   0   0   0  11 190 253  70   0   0   0   0   0   0   0   0   0   0   0   0   0]\n",
            " [  0   0   0   0   0   0   0   0   0   0   0   0  35 241 225 160 108   1   0   0   0   0   0   0   0   0   0   0]\n",
            " [  0   0   0   0   0   0   0   0   0   0   0   0   0  81 240 253 253 119  25   0   0   0   0   0   0   0   0   0]\n",
            " [  0   0   0   0   0   0   0   0   0   0   0   0   0   0  45 186 253 253 150  27   0   0   0   0   0   0   0   0]\n",
            " [  0   0   0   0   0   0   0   0   0   0   0   0   0   0   0  16  93 252 253 187   0   0   0   0   0   0   0   0]\n",
            " [  0   0   0   0   0   0   0   0   0   0   0   0   0   0   0   0   0 249 253 249  64   0   0   0   0   0   0   0]\n",
            " [  0   0   0   0   0   0   0   0   0   0   0   0   0   0  46 130 183 253 253 207   2   0   0   0   0   0   0   0]\n",
            " [  0   0   0   0   0   0   0   0   0   0   0   0  39 148 229 253 253 253 250 182   0   0   0   0   0   0   0   0]\n",
            " [  0   0   0   0   0   0   0   0   0   0  24 114 221 253 253 253 253 201  78   0   0   0   0   0   0   0   0   0]\n",
            " [  0   0   0   0   0   0   0   0  23  66 213 253 253 253 253 198  81   2   0   0   0   0   0   0   0   0   0   0]\n",
            " [  0   0   0   0   0   0  18 171 219 253 253 253 253 195  80   9   0   0   0   0   0   0   0   0   0   0   0   0]\n",
            " [  0   0   0   0  55 172 226 253 253 253 253 244 133  11   0   0   0   0   0   0   0   0   0   0   0   0   0   0]\n",
            " [  0   0   0   0 136 253 253 253 212 135 132  16   0   0   0   0   0   0   0   0   0   0   0   0   0   0   0   0]\n",
            " [  0   0   0   0   0   0   0   0   0   0   0   0   0   0   0   0   0   0   0   0   0   0   0   0   0   0   0   0]\n",
            " [  0   0   0   0   0   0   0   0   0   0   0   0   0   0   0   0   0   0   0   0   0   0   0   0   0   0   0   0]\n",
            " [  0   0   0   0   0   0   0   0   0   0   0   0   0   0   0   0   0   0   0   0   0   0   0   0   0   0   0   0]]\n"
          ]
        },
        {
          "output_type": "display_data",
          "data": {
            "text/plain": [
              "<Figure size 640x480 with 2 Axes>"
            ],
            "image/png": "[encoded data removed]"
          },
          "metadata": {}
        }
      ]
    },
    {
      "cell_type": "code",
      "source": [
        "#normalize\n",
        "x_train, x_test = x_train / 255.0, x_test / 255.0\n",
        "\n",
        "#flatten\n",
        "x_train, t_train, x_test, t_test = [arr.reshape(arr.shape[0], -1) for arr in (x_train, t_train, x_test, t_test)]\n",
        "\n",
        "#one-hot\n",
        "t_train = to_categorical(t_train)\n",
        "t_test = to_categorical(t_test)"
      ],
      "metadata": {
        "id": "nflz7PqbShTG"
      },
      "execution_count": 119,
      "outputs": []
    },
    {
      "cell_type": "markdown",
      "source": [
        "#TwoLayerNet class"
      ],
      "metadata": {
        "id": "lA9CQV_5RtNv"
      }
    },
    {
      "cell_type": "code",
      "execution_count": 120,
      "metadata": {
        "id": "AGWO_ULDK0Hv"
      },
      "outputs": [],
      "source": [
        "class TwoLayerNet:\n",
        "  def __init__(self, input_size, hidden_size, output_size, weight_init_std=0.01):\n",
        "    #initialize weights and biasses\n",
        "    self.params = {}\n",
        "    self.params['W1'] = weight_init_std * np.random.randn(input_size, hidden_size)\n",
        "    self.params['b1'] = np.zeros(hidden_size)\n",
        "    self.params['W2'] = weight_init_std * np.random.randn(hidden_size, output_size)\n",
        "    self.params['b2'] = np.zeros(output_size)\n",
        "\n",
        "    #layers\n",
        "    self.layers = OrderedDict()\n",
        "    self.layers['Affine1'] = Affine(self.params['W1'], self.params['b1'])\n",
        "    self.layers['Relu1'] = Relu()\n",
        "    self.layers['Affine2'] = Affine(self.params['W2'], self.params['b2'])\n",
        "    self.lastLayer = SoftmaxWithLoss()\n",
        "\n",
        "\n",
        "  def predict(self, x):\n",
        "    for layer in self.layers.values():\n",
        "      x = layer.forward(x)\n",
        "\n",
        "    return x\n",
        "\n",
        "  #x: input data, t: teacher data\n",
        "  def loss(self, x, t):\n",
        "    y = self.predict(x)\n",
        "\n",
        "    return self.lastLayer.forward(y, t)\n",
        "\n",
        "  def accuracy(self, x, t):\n",
        "    y = self.predict(x)\n",
        "    y = np.argmax(y, axis=1)\n",
        "    if t.ndim != 1:\n",
        "      t = np.argmax(t, axis=1)\n",
        "\n",
        "    accuracy = np.sum(y == t) / float(x.shape[0])\n",
        "    return accuracy\n",
        "\n",
        "  #x: input, t: teacher\n",
        "  def numerical_gradient(self, x, t):\n",
        "    loss_W = lambda W: self.loss(x, t)\n",
        "\n",
        "    grads = {}\n",
        "    grads['W1'] = numerical_gradient(loss_W, self.params['W1'])\n",
        "    grads['b1'] = numerical_gradient(loss_W, self.params['b1'])\n",
        "    grads['W2'] = numerical_gradient(loss_W, self.params['W2'])\n",
        "    grads['b2'] = numerical_gradient(loss_W, self.params['b2'])\n",
        "    return grads\n",
        "\n",
        "  def gradient(self, x, t):\n",
        "    # forward\n",
        "    self.loss(x, t)\n",
        "\n",
        "    # backward\n",
        "    dout = 1\n",
        "    dout = self.lastLayer.backward(dout)\n",
        "\n",
        "    layers = list(self.layers.values())\n",
        "    layers.reverse()\n",
        "    for layer in layers:\n",
        "      dout = layer.backward(dout)\n",
        "\n",
        "    # configuration\n",
        "    grads = {}\n",
        "    grads['W1'] = self.layers['Affine1'].dW\n",
        "    grads['b1'] = self.layers['Affine1'].db\n",
        "    grads['W2'] = self.layers['Affine2'].dW\n",
        "    grads['b2'] = self.layers['Affine2'].db\n",
        "\n",
        "    return grads"
      ]
    },
    {
      "cell_type": "markdown",
      "source": [
        "#Practice part (argmax() for accuracy)"
      ],
      "metadata": {
        "id": "zyI6CgdZEmXK"
      }
    },
    {
      "cell_type": "code",
      "source": [
        "a = np.random.randn(10, 5)\n",
        "print(a)\n",
        "b = np.random.randn(10, 5)\n",
        "print(b)\n",
        "\n",
        "a = np.argmax(a, axis=1)\n",
        "b = np.argmax(b, axis=1)\n",
        "print(a)\n",
        "print(b)\n",
        "print(a==b)"
      ],
      "metadata": {
        "id": "p9asTKYp7p2E",
        "colab": {
          "base_uri": "https://localhost:8080/"
        },
        "outputId": "674af750-eb61-4ff9-8e2a-687470387c23"
      },
      "execution_count": 121,
      "outputs": [
        {
          "output_type": "stream",
          "name": "stdout",
          "text": [
            "[[-1.91740581  0.66221122 -0.03574246 -0.60930201  1.62832527]\n",
            " [-0.45811186  1.11982755  0.69003822 -1.17990706  0.59292945]\n",
            " [-0.45890792  1.09595561 -0.48045712 -1.27315198  2.24844232]\n",
            " [ 0.23503361 -1.32963704  0.72162217  1.50284468 -0.05014598]\n",
            " [-1.3968576  -1.42855819  1.45154921 -0.12921563 -0.17716782]\n",
            " [ 0.91839395 -0.36834117 -3.41320516  0.01162177  0.00813183]\n",
            " [-0.89302358  0.23873803 -0.11193611 -0.81690695 -0.47479379]\n",
            " [ 0.94084809  0.21407435 -0.59489931  0.18249811  2.98517629]\n",
            " [ 0.45046755  0.26689887  0.36549209 -0.64497415  0.69374649]\n",
            " [ 0.80408811  0.52540561  0.74579941  0.67714406 -0.63713003]]\n",
            "[[-0.61066555  1.06889122 -0.65358903  0.79056596  0.03073874]\n",
            " [-1.19666668  1.16196551 -0.0257743  -0.49225195  1.07606434]\n",
            " [ 1.20523821 -0.06677709 -0.46946453  1.88926285 -0.05148297]\n",
            " [ 1.09029957  0.55917727  0.64783883  1.2007276  -0.02563994]\n",
            " [-0.59826907  0.20033945  1.39093973  0.35028045 -1.51906555]\n",
            " [-0.72171675  0.9948769   0.40269183 -0.11452562 -0.09404117]\n",
            " [-0.0043914  -1.10935057 -1.86441975 -0.12763469  0.31771106]\n",
            " [ 0.68723195  0.97421538 -1.57339173  1.44032804  1.36210119]\n",
            " [-0.39785457 -1.42564683 -1.96745897  0.97731488  2.672653  ]\n",
            " [-1.23383626 -0.43606178  2.12093721  1.36642005  0.02308698]]\n",
            "[4 1 4 3 2 0 1 4 4 0]\n",
            "[1 1 3 3 2 1 4 3 4 2]\n",
            "[False  True False  True  True False False False  True False]\n"
          ]
        }
      ]
    },
    {
      "cell_type": "code",
      "source": [
        "alist = np.random.randn(10, 2)\n",
        "print(alist)\n",
        "for key, avec in enumerate(alist):\n",
        "  print(f\"{key} th ... {avec}\")"
      ],
      "metadata": {
        "colab": {
          "base_uri": "https://localhost:8080/"
        },
        "id": "ZMchvbClKtyW",
        "outputId": "3c42d2dc-65e8-4b52-d230-cb37dcfa0de6"
      },
      "execution_count": 122,
      "outputs": [
        {
          "output_type": "stream",
          "name": "stdout",
          "text": [
            "[[-0.80498641  0.1458338 ]\n",
            " [-1.59875976 -0.71113883]\n",
            " [-0.56203816  1.17499157]\n",
            " [-0.86338977  0.58780862]\n",
            " [-1.62565216 -1.06122226]\n",
            " [-1.06340938  0.27724632]\n",
            " [ 0.63080676 -1.64656568]\n",
            " [-0.15747769  1.22407607]\n",
            " [ 0.19221757 -1.27197604]\n",
            " [ 1.56601616  0.01465355]]\n",
            "0 th ... [-0.80498641  0.1458338 ]\n",
            "1 th ... [-1.59875976 -0.71113883]\n",
            "2 th ... [-0.56203816  1.17499157]\n",
            "3 th ... [-0.86338977  0.58780862]\n",
            "4 th ... [-1.62565216 -1.06122226]\n",
            "5 th ... [-1.06340938  0.27724632]\n",
            "6 th ... [ 0.63080676 -1.64656568]\n",
            "7 th ... [-0.15747769  1.22407607]\n",
            "8 th ... [ 0.19221757 -1.27197604]\n",
            "9 th ... [1.56601616 0.01465355]\n"
          ]
        }
      ]
    },
    {
      "cell_type": "markdown",
      "source": [
        "#Practice part (TwoLayerNet)"
      ],
      "metadata": {
        "id": "Fpefgq9gF9li"
      }
    },
    {
      "cell_type": "code",
      "source": [
        "net = TwoLayerNet(input_size=784, hidden_size=100, output_size=10)\n",
        "print(net.params['W1'].shape)\n",
        "print(net.params['b1'].shape)\n",
        "print(net.params['W2'].shape)\n",
        "print(net.params['b2'].shape)"
      ],
      "metadata": {
        "id": "FGscvHzi8OC0",
        "colab": {
          "base_uri": "https://localhost:8080/"
        },
        "outputId": "77d8d8f1-da98-4516-ebe5-c4fa2a2752f5"
      },
      "execution_count": 123,
      "outputs": [
        {
          "output_type": "stream",
          "name": "stdout",
          "text": [
            "(784, 100)\n",
            "(100,)\n",
            "(100, 10)\n",
            "(10,)\n"
          ]
        }
      ]
    },
    {
      "cell_type": "code",
      "source": [
        "x = np.random.rand(100, 784)\n",
        "y = net.predict(x)"
      ],
      "metadata": {
        "id": "04uPc4_VGNjv"
      },
      "execution_count": 124,
      "outputs": []
    },
    {
      "cell_type": "code",
      "source": [
        "t = np.random.rand(100, 10)\n",
        "#grads = net.numerical_gradient(x, t)"
      ],
      "metadata": {
        "id": "98fEjXDbGpp4"
      },
      "execution_count": 125,
      "outputs": []
    },
    {
      "cell_type": "markdown",
      "source": [
        "#Practice part (using MNIST)"
      ],
      "metadata": {
        "id": "v4vZng_qS3NB"
      }
    },
    {
      "cell_type": "code",
      "source": [
        "(x_train, t_train), (x_test, t_test) = mnist.load_data()\n",
        "#normalize\n",
        "x_train, x_test = x_train / 255.0, x_test / 255.0\n",
        "\n",
        "#flatten\n",
        "x_train, t_train, x_test, t_test = [arr.reshape(arr.shape[0], -1) for arr in (x_train, t_train, x_test, t_test)]\n",
        "\n",
        "#one-hot\n",
        "t_train = to_categorical(t_train)\n",
        "t_test = to_categorical(t_test)"
      ],
      "metadata": {
        "id": "Vw5HQA21S2Qo"
      },
      "execution_count": 137,
      "outputs": []
    },
    {
      "cell_type": "markdown",
      "source": [
        "#Gradient check"
      ],
      "metadata": {
        "id": "Dk4I1Ug57YI_"
      }
    },
    {
      "cell_type": "code",
      "source": [
        "network = TwoLayerNet(input_size=784, hidden_size=50, output_size=10)\n",
        "\n",
        "x_batch = x_train[:3]\n",
        "t_batch = t_train[:3]\n",
        "\n",
        "grad_numerical = network.numerical_gradient(x_batch, t_batch)\n",
        "grad_backprop = network.gradient(x_batch, t_batch)\n",
        "\n",
        "for key in grad_numerical.keys():\n",
        "  diff = np.average(np.abs(grad_backprop[key] - grad_numerical[key]))\n",
        "  print(f\"{key} : {str(diff)}\")"
      ],
      "metadata": {
        "id": "2U68_xnf6Oi_",
        "outputId": "fcbb46a4-d960-46dd-950a-da8d934ba77f",
        "colab": {
          "base_uri": "https://localhost:8080/"
        }
      },
      "execution_count": 139,
      "outputs": [
        {
          "output_type": "stream",
          "name": "stdout",
          "text": [
            "W1 : 0.00010308188404318505\n",
            "b1 : 0.0007842604462021781\n",
            "W2 : 0.0026195823790665087\n",
            "b2 : 0.06666666678612665\n"
          ]
        }
      ]
    },
    {
      "cell_type": "code",
      "source": [
        "#hyperparameters\n",
        "iters_num = 10000\n",
        "train_size = x_train.shape[0]\n",
        "batch_size = 100\n",
        "learning_rate = 0.1\n",
        "\n",
        "network = TwoLayerNet(input_size=784, hidden_size=50, output_size=10)\n",
        "\n",
        "\n",
        "train_loss_list = []\n",
        "train_acc_list = []\n",
        "test_acc_list = []\n",
        "iter_per_epoch = max(train_size / batch_size, 1)\n",
        "\n",
        "for i in tqdm(range(iters_num)):\n",
        "  #getting mini batch\n",
        "  batch_mask = np.random.choice(train_size, batch_size)\n",
        "  x_batch = x_train[batch_mask]\n",
        "  t_batch = t_train[batch_mask]\n",
        "\n",
        "  #calculating gradient\n",
        "  #grad = network.numerical_gradient(x_batch, t_batch)\n",
        "  grad = network.gradient(x_batch, t_batch) # high speed using backpropergation\n",
        "\n",
        "  #updating parameters\n",
        "  for key in ('W1', 'b1', 'W2', 'b2'):\n",
        "    network.params[key] -= learning_rate * grad[key]\n",
        "\n",
        "  #recording the learning process\n",
        "  loss = network.loss(x_batch, t_batch)\n",
        "  train_loss_list.append(loss)\n",
        "\n",
        "  if i % iter_per_epoch == 0:\n",
        "    train_acc = network.accuracy(x_train, t_train)\n",
        "    test_acc = network.accuracy(x_test, t_test)\n",
        "    train_acc_list.append(train_acc)\n",
        "    test_acc_list.append(test_acc)\n",
        "    print(train_acc, test_acc)"
      ],
      "metadata": {
        "colab": {
          "base_uri": "https://localhost:8080/"
        },
        "id": "TCFEPu8uTVHz",
        "outputId": "269e6635-a5f8-4a9c-b93e-45fd3cf261a5"
      },
      "execution_count": 135,
      "outputs": [
        {
          "output_type": "stream",
          "name": "stderr",
          "text": [
            "  0%|          | 15/10000 [00:00<07:14, 22.97it/s] "
          ]
        },
        {
          "output_type": "stream",
          "name": "stdout",
          "text": [
            "0.18895 0.1865\n"
          ]
        },
        {
          "output_type": "stream",
          "name": "stderr",
          "text": [
            "  6%|▋         | 625/10000 [00:05<02:21, 66.41it/s]"
          ]
        },
        {
          "output_type": "stream",
          "name": "stdout",
          "text": [
            "0.09751666666666667 0.0974\n"
          ]
        },
        {
          "output_type": "stream",
          "name": "stderr",
          "text": [
            " 13%|█▎        | 1253/10000 [00:08<00:46, 187.60it/s]"
          ]
        },
        {
          "output_type": "stream",
          "name": "stdout",
          "text": [
            "0.09751666666666667 0.0974\n"
          ]
        },
        {
          "output_type": "stream",
          "name": "stderr",
          "text": [
            " 19%|█▊        | 1863/10000 [00:10<00:41, 195.55it/s]"
          ]
        },
        {
          "output_type": "stream",
          "name": "stdout",
          "text": [
            "0.09751666666666667 0.0974\n"
          ]
        },
        {
          "output_type": "stream",
          "name": "stderr",
          "text": [
            " 21%|██        | 2067/10000 [00:11<00:25, 305.13it/s]<ipython-input-108-270f26506ae1>:3: RuntimeWarning: invalid value encountered in subtract\n",
            "  exp_a = np.exp(a-c) #prevents overflow\n",
            " 25%|██▍       | 2458/10000 [00:12<00:39, 191.48it/s]"
          ]
        },
        {
          "output_type": "stream",
          "name": "stdout",
          "text": [
            "0.09871666666666666 0.098\n"
          ]
        },
        {
          "output_type": "stream",
          "name": "stderr",
          "text": [
            " 31%|███       | 3056/10000 [00:14<00:36, 191.47it/s]"
          ]
        },
        {
          "output_type": "stream",
          "name": "stdout",
          "text": [
            "0.09871666666666666 0.098\n"
          ]
        },
        {
          "output_type": "stream",
          "name": "stderr",
          "text": [
            " 36%|███▋      | 3625/10000 [00:17<01:06, 96.20it/s] "
          ]
        },
        {
          "output_type": "stream",
          "name": "stdout",
          "text": [
            "0.09871666666666666 0.098\n"
          ]
        },
        {
          "output_type": "stream",
          "name": "stderr",
          "text": [
            " 42%|████▏     | 4226/10000 [00:21<01:29, 64.25it/s]"
          ]
        },
        {
          "output_type": "stream",
          "name": "stdout",
          "text": [
            "0.09871666666666666 0.098\n"
          ]
        },
        {
          "output_type": "stream",
          "name": "stderr",
          "text": [
            " 48%|████▊     | 4847/10000 [00:25<00:30, 168.50it/s]"
          ]
        },
        {
          "output_type": "stream",
          "name": "stdout",
          "text": [
            "0.09871666666666666 0.098\n"
          ]
        },
        {
          "output_type": "stream",
          "name": "stderr",
          "text": [
            " 55%|█████▍    | 5450/10000 [00:27<00:24, 182.89it/s]"
          ]
        },
        {
          "output_type": "stream",
          "name": "stdout",
          "text": [
            "0.09871666666666666 0.098\n"
          ]
        },
        {
          "output_type": "stream",
          "name": "stderr",
          "text": [
            " 61%|██████    | 6051/10000 [00:30<00:21, 181.17it/s]"
          ]
        },
        {
          "output_type": "stream",
          "name": "stdout",
          "text": [
            "0.09871666666666666 0.098\n"
          ]
        },
        {
          "output_type": "stream",
          "name": "stderr",
          "text": [
            " 66%|██████▋   | 6639/10000 [00:32<00:18, 186.55it/s]"
          ]
        },
        {
          "output_type": "stream",
          "name": "stdout",
          "text": [
            "0.09871666666666666 0.098\n"
          ]
        },
        {
          "output_type": "stream",
          "name": "stderr",
          "text": [
            " 73%|███████▎  | 7260/10000 [00:34<00:14, 187.45it/s]"
          ]
        },
        {
          "output_type": "stream",
          "name": "stdout",
          "text": [
            "0.09871666666666666 0.098\n"
          ]
        },
        {
          "output_type": "stream",
          "name": "stderr",
          "text": [
            " 78%|███████▊  | 7831/10000 [00:38<00:31, 69.77it/s]"
          ]
        },
        {
          "output_type": "stream",
          "name": "stdout",
          "text": [
            "0.09871666666666666 0.098\n"
          ]
        },
        {
          "output_type": "stream",
          "name": "stderr",
          "text": [
            " 84%|████████▍ | 8449/10000 [00:43<00:16, 94.42it/s]"
          ]
        },
        {
          "output_type": "stream",
          "name": "stdout",
          "text": [
            "0.09871666666666666 0.098\n"
          ]
        },
        {
          "output_type": "stream",
          "name": "stderr",
          "text": [
            " 90%|█████████ | 9032/10000 [00:45<00:05, 188.05it/s]"
          ]
        },
        {
          "output_type": "stream",
          "name": "stdout",
          "text": [
            "0.09871666666666666 0.098\n"
          ]
        },
        {
          "output_type": "stream",
          "name": "stderr",
          "text": [
            " 96%|█████████▋| 9634/10000 [00:47<00:02, 164.34it/s]"
          ]
        },
        {
          "output_type": "stream",
          "name": "stdout",
          "text": [
            "0.09871666666666666 0.098\n"
          ]
        },
        {
          "output_type": "stream",
          "name": "stderr",
          "text": [
            "100%|██████████| 10000/10000 [00:48<00:00, 204.49it/s]\n"
          ]
        }
      ]
    },
    {
      "cell_type": "code",
      "source": [
        "x_points = np.arange(iters_num)\n",
        "print(x_points)\n",
        "print(train_loss_list)\n",
        "plt.plot(x_points, train_loss_list)"
      ],
      "metadata": {
        "id": "tEfGl05xT-zI",
        "colab": {
          "base_uri": "https://localhost:8080/",
          "height": 504
        },
        "outputId": "c8503a0b-b378-409a-98b5-0b11479bdd12"
      },
      "execution_count": 136,
      "outputs": [
        {
          "output_type": "stream",
          "name": "stdout",
          "text": [
            "[   0    1    2 ... 9997 9998 9999]\n",
            "[6.905433040935837, 6.9056525763971175, 6.906095368725451, 6.9045694954490395, 6.90395436628218, 6.903425880192181, 6.901941312794113, 6.89953475435718, 6.898110398853845, 6.8974341208647845, 6.8968873099872186, 6.8974171435026115, 6.892051126459231, 6.884431609479087, 6.889945447637614, 6.880723139514154, 6.8963289811261825, 6.892743405067788, 6.945371814132647, 6.997735783074968, 7.126312139166048, 7.244819247728503, 7.965747664444468, 9.432515162153162, 10.627311648913397, 13.386438343716698, 15.181159067704652, 15.925875299445716, 15.808617093591115, 15.811597951271674, 15.978114622869699, 15.822532852537822, 16.07353162089752, 15.956976390551711, 16.11809565095832, 16.118095647073233, 16.11809565095832, 15.95691469344874, 16.11809565095832, 15.956914693448736, 16.11809565095832, 15.95691469344874, 16.11809565095832, 15.956914693448736, 16.11809565095832, 16.11809565095832, 15.956914693448736, 16.11809565095832, 15.95691469344874, 15.95691469344874, 15.95691469344874, 16.11809565095832, 15.956914693448736, 16.11809565095832, 15.95691469344874, 15.956914693448736, 15.95691469344874, 15.95691469344874, 15.956914693448736, 16.11809565095832, 15.95691469344874, 16.11809565095832, 15.95691469344874, 16.11809565095832, 16.11809565095832, 16.11809565095832, 16.11809565095832, 16.11809565095832, 16.11809565095832, 16.11809565095832, 16.11809565095832, 16.11809565095832, 16.11809565095832, 16.11809565095832, 16.11809565095832, 16.11809565095832, 16.11809565095832, 16.11809565095832, 16.11809565095832, 16.11809565095832, 16.11809565095832, 16.11809565095832, 16.11809565095832, 16.11809565095832, 15.95691469344874, 16.11809565095832, 15.956914693448736, 16.11809565095832, 15.95691469344874, 15.95691469344874, 16.11809565095832, 16.11809565095832, 16.11809565095832, 16.11809565095832, 16.11809565095832, 15.95691469344874, 16.11809565095832, 16.11809565095832, 15.956914693448736, 15.956914693448734, 16.11809565095832, 16.11809565095832, 15.956914693448734, 15.95691469344874, 16.11809565095832, 15.956914693448736, 16.11809565095832, 15.956914693448736, 15.956914693448736, 16.11809565095832, 15.95691469344874, 16.11809565095832, 16.11809565095832, 16.11809565095832, 16.11809565095832, 16.11809565095832, 16.11809565095832, 15.956914693448736, 16.11809565095832, 16.11809565095832, 16.11809565095832, 15.95691469344874, 16.11809565095832, 16.11809565095832, 15.956914693448736, 15.956914693448736, 15.956914693448736, 15.95691469344874, 16.11809565095832, 16.11809565095832, 16.11809565095832, 16.11809565095832, 16.11809565095832, 16.11809565095832, 16.11809565095832, 16.11809565095832, 16.11809565095832, 16.11809565095832, 15.956914693448736, 16.11809565095832, 16.11809565095832, 16.11809565095832, 16.11809565095832, 16.11809565095832, 16.11809565095832, 16.11809565095832, 16.11809565095832, 16.11809565095832, 15.95691469344874, 16.11809565095832, 15.95691469344874, 16.11809565095832, 16.11809565095832, 16.11809565095832, 15.956914693448736, 16.11809565095832, 15.956914693448736, 16.11809565095832, 16.11809565095832, 16.11809565095832, 15.95691469344874, 16.11809565095832, 16.11809565095832, 15.95691469344874, 15.95691469344874, 16.11809565095832, 15.95691469344874, 16.11809565095832, 16.11809565095832, 16.11809565095832, 16.11809565095832, 16.11809565095832, 16.11809565095832, 15.956914693448736, 15.956914693448736, 16.11809565095832, 16.11809565095832, 16.11809565095832, 16.11809565095832, 15.956914693448736, 16.11809565095832, 16.11809565095832, 16.11809565095832, 16.11809565095832, 16.11809565095832, 16.11809565095832, 16.11809565095832, 16.11809565095832, 16.11809565095832, 16.11809565095832, 16.11809565095832, 15.956914693448736, 16.11809565095832, 15.95691469344874, 15.95691469344874, 16.11809565095832, 16.11809565095832, 16.11809565095832, 16.11809565095832, 15.956914693448736, 15.95691469344874, 16.11809565095832, 15.95691469344874, 15.956914693448736, 16.11809565095832, 16.11809565095832, 16.11809565095832, 15.956914693448736, 16.11809565095832, 16.11809565095832, 15.956914693448734, 16.11809565095832, 15.956914693448734, 16.11809565095832, 16.11809565095832, 16.11809565095832, 15.95691469344874, 16.11809565095832, 16.11809565095832, 16.11809565095832, 16.11809565095832, 16.11809565095832, 16.11809565095832, 16.11809565095832, 15.956914693448736, 15.95691469344874, 15.95691469344874, 16.11809565095832, 15.956914693448736, 16.11809565095832, 16.11809565095832, 16.11809565095832, 16.11809565095832, 15.95691469344874, 16.11809565095832, 16.11809565095832, 16.11809565095832, 15.956914693448734, 16.11809565095832, 16.11809565095832, 16.11809565095832, 16.11809565095832, 16.11809565095832, 16.11809565095832, 16.11809565095832, 16.11809565095832, 16.11809565095832, 16.11809565095832, 16.11809565095832, 16.11809565095832, 16.11809565095832, 16.11809565095832, 15.95691469344874, 16.11809565095832, 16.11809565095832, 16.11809565095832, 15.956914693448736, 16.11809565095832, 15.956914693448736, 16.11809565095832, 16.11809565095832, 15.956914693448736, 16.11809565095832, 16.11809565095832, 16.11809565095832, 15.956914693448736, 15.95691469344874, 16.11809565095832, 15.95691469344874, 16.11809565095832, 16.11809565095832, 15.95691469344874, 16.11809565095832, 15.956914693448736, 16.11809565095832, 16.11809565095832, 15.956914693448736, 15.95691469344874, 15.95691469344874, 16.11809565095832, 16.11809565095832, 16.11809565095832, 16.11809565095832, 16.11809565095832, 16.11809565095832, 16.11809565095832, 16.11809565095832, 16.11809565095832, 16.11809565095832, 15.95691469344874, 15.95691469344874, 15.956914693448736, 16.11809565095832, 16.11809565095832, 15.956914693448736, 15.95691469344874, 16.11809565095832, 16.11809565095832, 16.11809565095832, 15.956914693448736, 16.11809565095832, 16.11809565095832, 15.956914693448736, 16.11809565095832, 16.11809565095832, 16.11809565095832, 15.956914693448736, 16.11809565095832, 15.956914693448734, 16.11809565095832, 16.11809565095832, 16.11809565095832, 15.95691469344874, 16.11809565095832, 16.11809565095832, 16.11809565095832, 16.11809565095832, 15.95691469344874, 16.11809565095832, 16.11809565095832, 16.11809565095832, 16.11809565095832, 15.956914693448734, 16.11809565095832, 16.11809565095832, 16.11809565095832, 16.11809565095832, 16.11809565095832, 16.11809565095832, 16.11809565095832, 15.95691469344874, 16.11809565095832, 16.11809565095832, 15.95691469344874, 15.95691469344874, 16.11809565095832, 15.95691469344874, 16.11809565095832, 16.11809565095832, 16.11809565095832, 16.11809565095832, 15.95691469344874, 16.11809565095832, 16.11809565095832, 16.11809565095832, 16.11809565095832, 16.11809565095832, 16.11809565095832, 15.95691469344874, 15.956914693448736, 16.11809565095832, 15.95691469344874, 16.11809565095832, 16.11809565095832, 15.95691469344874, 16.11809565095832, 16.11809565095832, 16.11809565095832, 16.11809565095832, 16.11809565095832, 16.11809565095832, 16.11809565095832, 16.11809565095832, 15.956914693448734, 16.11809565095832, 15.95691469344874, 15.956914693448736, 16.11809565095832, 15.95691469344874, 16.11809565095832, 16.11809565095832, 16.11809565095832, 16.11809565095832, 15.95691469344874, 15.95691469344874, 15.95691469344874, 16.11809565095832, 16.11809565095832, 15.956914693448736, 15.956914693448736, 16.11809565095832, 16.11809565095832, 16.11809565095832, 15.956914693448736, 16.11809565095832, 16.11809565095832, 15.956914693448734, 16.11809565095832, 15.956914693448736, 16.11809565095832, 16.11809565095832, 16.11809565095832, 16.11809565095832, 16.11809565095832, 16.11809565095832, 16.11809565095832, 16.11809565095832, 15.95691469344874, 16.11809565095832, 16.11809565095832, 16.11809565095832, 16.11809565095832, 16.11809565095832, 16.11809565095832, 16.11809565095832, 16.11809565095832, 16.11809565095832, 16.11809565095832, 16.11809565095832, 16.11809565095832, 15.956914693448736, 15.95691469344874, 15.95691469344874, 16.11809565095832, 15.956914693448736, 16.11809565095832, 15.956914693448736, 16.11809565095832, 16.11809565095832, 16.11809565095832, 16.11809565095832, 15.956914693448736, 16.11809565095832, 16.11809565095832, 15.95691469344874, 16.11809565095832, 16.11809565095832, 16.11809565095832, 16.11809565095832, 16.11809565095832, 16.11809565095832, 16.11809565095832, 16.11809565095832, 16.11809565095832, 16.11809565095832, 16.11809565095832, 16.11809565095832, 15.956914693448736, 16.11809565095832, 16.11809565095832, 16.11809565095832, 16.11809565095832, 15.95691469344874, 16.11809565095832, 16.11809565095832, 15.956914693448736, 16.11809565095832, 16.11809565095832, 16.11809565095832, 16.11809565095832, 16.11809565095832, 16.11809565095832, 16.11809565095832, 16.11809565095832, 16.11809565095832, 16.11809565095832, 16.11809565095832, 16.11809565095832, 16.11809565095832, 16.11809565095832, 16.11809565095832, 15.95691469344874, 16.11809565095832, 15.956914693448736, 15.956914693448736, 16.11809565095832, 16.11809565095832, 15.95691469344874, 15.95691469344874, 15.95691469344874, 15.956914693448736, 16.11809565095832, 16.11809565095832, 16.11809565095832, 15.956914693448734, 16.11809565095832, 15.95691469344874, 15.95691469344874, 15.95691469344874, 16.11809565095832, 16.11809565095832, 16.11809565095832, 16.11809565095832, 16.11809565095832, 16.11809565095832, 16.11809565095832, 16.11809565095832, 16.11809565095832, 16.11809565095832, 16.11809565095832, 16.11809565095832, 16.11809565095832, 16.11809565095832, 16.11809565095832, 16.11809565095832, 16.11809565095832, 15.95691469344874, 16.11809565095832, 16.11809565095832, 16.11809565095832, 15.95691469344874, 15.95691469344874, 16.11809565095832, 16.11809565095832, 15.95691469344874, 16.11809565095832, 16.11809565095832, 16.11809565095832, 15.956914693448736, 15.956914693448736, 15.956914693448736, 16.11809565095832, 16.11809565095832, 16.11809565095832, 16.11809565095832, 16.11809565095832, 16.11809565095832, 16.11809565095832, 16.11809565095832, 16.11809565095832, 16.11809565095832, 16.11809565095832, 16.11809565095832, 16.11809565095832, 15.95691469344874, 15.95691469344874, 16.11809565095832, 16.11809565095832, 16.11809565095832, 16.11809565095832, 16.11809565095832, 15.95691469344874, 16.11809565095832, 16.11809565095832, 15.956914693448736, 16.11809565095832, 16.11809565095832, 16.11809565095832, 15.95691469344874, 16.11809565095832, 16.11809565095832, 16.11809565095832, 16.11809565095832, 16.11809565095832, 16.11809565095832, 16.11809565095832, 16.11809565095832, 16.11809565095832, 15.956914693448736, 16.11809565095832, 15.95691469344874, 16.11809565095832, 15.95691469344874, 16.11809565095832, 16.11809565095832, 16.11809565095832, 16.11809565095832, 16.11809565095832, 16.11809565095832, 16.11809565095832, 15.95691469344874, 15.95691469344874, 16.11809565095832, 16.11809565095832, 15.956914693448736, 16.11809565095832, 15.956914693448736, 16.11809565095832, 16.11809565095832, 16.11809565095832, 16.11809565095832, 16.11809565095832, 16.11809565095832, 16.11809565095832, 15.956914693448736, 16.11809565095832, 16.11809565095832, 16.11809565095832, 16.11809565095832, 16.11809565095832, 15.956914693448736, 16.11809565095832, 15.956914693448736, 16.11809565095832, 15.95691469344874, 16.11809565095832, 16.11809565095832, 16.11809565095832, 15.95691469344874, 16.11809565095832, 15.956914693448736, 15.95691469344874, 16.11809565095832, 16.11809565095832, 16.11809565095832, 16.11809565095832, 15.95691469344874, 15.956914693448736, 16.11809565095832, 16.11809565095832, 16.11809565095832, 15.956914693448736, 16.11809565095832, 16.11809565095832, 16.11809565095832, 16.11809565095832, 15.956914693448736, 15.95691469344874, 16.11809565095832, 15.95691469344874, 16.11809565095832, 16.11809565095832, 16.11809565095832, 16.11809565095832, 15.95691469344874, 15.956914693448736, 15.95691469344874, 16.11809565095832, 16.11809565095832, 16.11809565095832, 15.956914693448736, 15.95691469344874, 15.95691469344874, 15.95691469344874, 16.11809565095832, 16.11809565095832, 16.11809565095832, 16.11809565095832, 16.11809565095832, 15.956914693448736, 16.11809565095832, 16.11809565095832, 15.956914693448736, 16.11809565095832, 15.956914693448736, 16.11809565095832, 15.95691469344874, 16.11809565095832, 16.11809565095832, 16.11809565095832, 15.95691469344874, 16.11809565095832, 15.956914693448734, 16.11809565095832, 16.11809565095832, 16.11809565095832, 16.11809565095832, 16.11809565095832, 16.11809565095832, 16.11809565095832, 16.11809565095832, 16.11809565095832, 16.11809565095832, 16.11809565095832, 16.11809565095832, 16.11809565095832, 16.11809565095832, 16.11809565095832, 16.11809565095832, 15.956914693448736, 15.95691469344874, 16.11809565095832, 16.11809565095832, 16.11809565095832, 16.11809565095832, 16.11809565095832, 16.11809565095832, 16.11809565095832, 15.956914693448736, 16.11809565095832, 16.11809565095832, 16.11809565095832, 16.11809565095832, 16.11809565095832, 16.11809565095832, 15.95691469344874, 16.11809565095832, 16.11809565095832, 16.11809565095832, 16.11809565095832, 16.11809565095832, 15.956914693448734, 16.11809565095832, 16.11809565095832, 16.11809565095832, 16.11809565095832, 15.95691469344874, 16.11809565095832, 16.11809565095832, 15.95691469344874, 15.956914693448736, 16.11809565095832, 16.11809565095832, 15.956914693448734, 16.11809565095832, 16.11809565095832, 15.95691469344874, 16.11809565095832, 16.11809565095832, 16.11809565095832, 16.11809565095832, 16.11809565095832, 16.11809565095832, 16.11809565095832, 15.95691469344874, 16.11809565095832, 15.95691469344874, 16.11809565095832, 16.11809565095832, 15.956914693448736, 15.95691469344874, 16.11809565095832, 15.956914693448736, 16.11809565095832, 16.11809565095832, 15.95691469344874, 15.956914693448736, 16.11809565095832, 16.11809565095832, 15.95691469344874, 16.11809565095832, 16.11809565095832, 15.956914693448736, 16.11809565095832, 16.11809565095832, 16.11809565095832, 16.11809565095832, 16.11809565095832, 15.956914693448736, 16.11809565095832, 16.11809565095832, 16.11809565095832, 16.11809565095832, 16.11809565095832, 15.956914693448736, 16.11809565095832, 15.95691469344874, 15.956914693448736, 15.809596677550353, 15.95691469344874, 16.11809565095832, 15.956914693448736, 16.11809565095832, 15.956914693448736, 16.11809565095832, 16.11809565095832, 15.956914693448736, 15.95691469344874, 16.11809565095832, 16.11809565095832, 16.11809565095832, 16.11809565095832, 16.11809565095832, 16.11809565095832, 16.11809565095832, 16.11809565095832, 15.956914693448736, 16.11809565095832, 16.11809565095832, 16.11809565095832, 15.95691469344874, 16.11809565095832, 15.956914693448736, 15.95691469344874, 16.11809565095832, 16.11809565095832, 15.95691469344874, 16.11809565095832, 15.956914693448736, 15.956914693448736, 16.11809565095832, 16.11809565095832, 16.11809565095832, 16.11809565095832, 16.11809565095832, 16.11809565095832, 15.95691469344874, 16.11809565095832, 16.11809565095832, 16.11809565095832, 16.11809565095832, 16.11809565095832, 16.11809565095832, 16.11809565095832, 16.11809565095832, 15.956914693448736, 16.11809565095832, 15.95691469344874, 15.956914693448736, 15.95691469344874, 15.956914693448736, 16.11809565095832, 15.956914693448736, 16.11809565095832, 16.11809565095832, 15.956914693448736, 16.11809565095832, 15.95691469344874, 16.11809565095832, 16.11809565095832, 15.95691469344874, 16.11809565095832, 16.11809565095832, 15.956914693448736, 16.11809565095832, 16.11809565095832, 16.11809565095832, 16.11809565095832, 15.956914693448736, 16.11809565095832, 16.11809565095832, 16.11809565095832, 15.95691469344874, 15.956914693448736, 15.95691469344874, 16.11809565095832, 16.11809565095832, 16.11809565095832, 16.11809565095832, 15.956914693448736, 16.11809565095832, 16.11809565095832, 15.95691469344874, 15.95691469344874, 16.11809565095832, 16.11809565095832, 16.11809565095832, 16.11809565095832, 16.11809565095832, 16.11809565095832, 16.11809565095832, 16.11809565095832, 16.11809565095832, 16.11809565095832, 16.11809565095832, 15.956914693448736, 15.956914693448736, 15.956914693448736, 15.95691469344874, 16.11809565095832, 16.11809565095832, 16.11809565095832, 16.11809565095832, 15.956914693448736, 16.11809565095832, 16.11809565095832, 16.11809565095832, 16.11809565095832, 16.11809565095832, 16.11809565095832, 16.11809565095832, 16.11809565095832, 16.11809565095832, 15.956914693448736, 16.11809565095832, 16.11809565095832, 16.11809565095832, 16.11809565095832, 16.11809565095832, 16.11809565095832, 16.11809565095832, 15.956914693448736, 16.11809565095832, 15.95691469344874, 15.95691469344874, 15.956914693448736, 15.956914693448736, 15.95691469344874, 16.11809565095832, 16.11809565095832, 15.956914693448736, 16.11809565095832, 15.95691469344874, 16.11809565095832, 16.11809565095832, 16.11809565095832, 15.956914693448736, 15.95691469344874, 15.95691469344874, 16.11809565095832, 16.11809565095832, 16.11809565095832, 15.95691469344874, 15.95691469344874, 16.11809565095832, 16.11809565095832, 16.11809565095832, 15.956914693448736, 15.956914693448736, 15.956914693448736, 15.956914693448736, 16.11809565095832, 15.956914693448736, 15.95691469344874, 16.11809565095832, 15.95691469344874, 16.11809565095832, 16.11809565095832, 16.11809565095832, 15.95691469344874, 16.11809565095832, 15.956914693448736, 15.956914693448736, 16.11809565095832, 16.11809565095832, 16.11809565095832, 16.11809565095832, 15.956914693448736, 16.11809565095832, 15.956914693448736, 15.956914693448736, 16.11809565095832, 16.11809565095832, 16.11809565095832, 16.11809565095832, 16.11809565095832, 16.11809565095832, 15.95691469344874, 16.11809565095832, 16.11809565095832, 16.11809565095832, 16.11809565095832, 16.11809565095832, 15.956914693448736, 16.11809565095832, 16.11809565095832, 16.11809565095832, 15.956914693448734, 16.11809565095832, 15.95691469344874, 15.95691469344874, 15.956914693448736, 16.11809565095832, 16.11809565095832, 16.11809565095832, 16.11809565095832, 15.95691469344874, 16.11809565095832, 16.11809565095832, 15.956914693448736, 16.11809565095832, 15.95691469344874, 15.95691469344874, 16.11809565095832, 16.11809565095832, 15.95691469344874, 16.11809565095832, 15.956914693448736, 16.11809565095832, 16.11809565095832, 15.956914693448736, 16.11809565095832, 16.11809565095832, 15.956914693448736, 15.956914693448736, 16.11809565095832, 16.11809565095832, 15.95691469344874, 16.11809565095832, 16.11809565095832, 15.956914693448736, 16.11809565095832, 16.11809565095832, 16.11809565095832, 15.95691469344874, 16.11809565095832, 16.11809565095832, 16.11809565095832, 15.95691469344874, 15.956914693448736, 16.11809565095832, 15.95691469344874, 15.956914693448736, 16.11809565095832, 15.95691469344874, 16.11809565095832, 16.11809565095832, 15.956914693448736, 15.95691469344874, 15.956914693448734, 16.11809565095832, 15.95691469344874, 15.95691469344874, 16.11809565095832, 16.11809565095832, 16.11809565095832, 16.11809565095832, 15.95691469344874, 15.956914693448736, 15.95691469344874, 16.11809565095832, 16.11809565095832, 15.956914693448736, 15.95691469344874, 15.956914693448736, 15.956914693448736, 16.11809565095832, 16.11809565095832, 16.11809565095832, 16.11809565095832, 15.956914693448736, 16.11809565095832, 15.95691469344874, 16.11809565095832, 16.11809565095832, 16.11809565095832, 15.95691469344874, 16.11809565095832, 15.956914693448736, 16.11809565095832, 16.11809565095832, 15.95691469344874, 15.956914693448734, 15.956914693448736, 16.11809565095832, 16.11809565095832, 16.11809565095832, 16.11809565095832, 15.95691469344874, 16.11809565095832, 16.11809565095832, 16.11809565095832, 16.11809565095832, 16.11809565095832, 16.11809565095832, 16.11809565095832, 15.956914693448736, 16.11809565095832, 16.11809565095832, 16.11809565095832, 15.956914693448736, 15.956914693448736, 15.956914693448736, 16.11809565095832, 16.11809565095832, 16.11809565095832, 15.956914693448736, 16.11809565095832, 15.956914693448736, 16.11809565095832, 16.11809565095832, 16.11809565095832, 15.956914693448736, 16.11809565095832, 16.11809565095832, 16.11809565095832, 16.11809565095832, 16.11809565095832, 16.11809565095832, 16.11809565095832, 16.11809565095832, 15.95691469344874, 16.11809565095832, 16.11809565095832, 16.11809565095832, 16.11809565095832, 15.956914693448736, 16.11809565095832, 16.11809565095832, 16.11809565095832, 16.11809565095832, 16.11809565095832, 16.11809565095832, 16.11809565095832, 16.11809565095832, 16.11809565095832, 15.95691469344874, 15.95691469344874, 16.11809565095832, 15.95691469344874, 16.11809565095832, 16.11809565095832, 15.956914693448736, 16.11809565095832, 15.956914693448736, 15.956914693448736, 16.11809565095832, 15.956914693448734, 16.11809565095832, 16.11809565095832, 16.11809565095832, 16.11809565095832, 16.11809565095832, 15.95691469344874, 16.11809565095832, 16.11809565095832, 15.95691469344874, 16.11809565095832, 16.11809565095832, 16.11809565095832, 16.11809565095832, 16.11809565095832, 16.11809565095832, 16.11809565095832, 16.11809565095832, 15.956914693448734, 16.11809565095832, 16.11809565095832, 15.956914693448736, 16.11809565095832, 16.11809565095832, 16.11809565095832, 16.11809565095832, 16.11809565095832, 15.956914693448736, 16.11809565095832, 16.11809565095832, 15.95691469344874, 15.956914693448736, 16.11809565095832, 15.956914693448736, 16.11809565095832, 16.11809565095832, 16.11809565095832, 16.11809565095832, 15.956914693448736, 16.11809565095832, 16.11809565095832, 16.11809565095832, 16.11809565095832, 15.95691469344874, 16.11809565095832, 16.11809565095832, 16.11809565095832, 16.11809565095832, 16.11809565095832, 15.956914693448736, 16.11809565095832, 16.11809565095832, 16.11809565095832, 16.11809565095832, 15.95691469344874, 16.11809565095832, 16.11809565095832, 15.95691469344874, 16.11809565095832, 16.11809565095832, 15.95691469344874, 16.11809565095832, 16.11809565095832, 15.956914693448736, 15.956914693448736, 15.95691469344874, 16.11809565095832, 16.11809565095832, 16.11809565095832, 16.11809565095832, 16.11809565095832, 16.11809565095832, 16.11809565095832, 16.11809565095832, 16.11809565095832, 16.11809565095832, 16.11809565095832, 15.956914693448736, 16.11809565095832, 16.11809565095832, 15.956914693448736, 16.11809565095832, 15.95691469344874, 16.11809565095832, 16.11809565095832, 16.11809565095832, 16.11809565095832, 15.95691469344874, 16.11809565095832, 15.95691469344874, 15.956914693448736, 16.11809565095832, 15.956914693448736, 16.11809565095832, 15.95691469344874, 15.956914693448736, 15.956914693448736, 16.11809565095832, 16.11809565095832, 16.11809565095832, 16.11809565095832, 15.95691469344874, 16.11809565095832, 15.956914693448736, 15.95691469344874, 16.11809565095832, 16.11809565095832, 15.956914693448736, 16.11809565095832, 16.11809565095832, 16.11809565095832, 15.956914693448736, 16.11809565095832, 16.11809565095832, 16.11809565095832, 15.956914693448736, 15.95691469344874, 16.11809565095832, 16.11809565095832, 16.11809565095832, 16.11809565095832, 16.11809565095832, 16.11809565095832, 16.11809565095832, 16.11809565095832, 16.11809565095832, 16.11809565095832, 15.95691469344874, 15.95691469344874, 15.95691469344874, 16.11809565095832, 15.956914693448736, 16.11809565095832, 16.11809565095832, 16.11809565095832, 15.956914693448736, 15.95691469344874, 16.11809565095832, 15.956914693448736, 16.11809565095832, 16.11809565095832, 16.11809565095832, 16.11809565095832, 15.956914693448736, 15.95691469344874, 15.956914693448736, 16.11809565095832, 16.11809565095832, 15.956914693448736, 15.95691469344874, 16.11809565095832, 16.11809565095832, 15.95691469344874, 16.11809565095832, 16.11809565095832, 15.956914693448736, 16.11809565095832, 16.11809565095832, 16.11809565095832, 16.11809565095832, 16.11809565095832, 15.95691469344874, 16.11809565095832, 16.11809565095832, 15.956914693448736, 15.95691469344874, 16.11809565095832, 16.11809565095832, 16.11809565095832, 16.11809565095832, 16.11809565095832, 16.11809565095832, 16.11809565095832, 16.11809565095832, 15.956914693448736, 16.11809565095832, 16.11809565095832, 15.95691469344874, 15.95691469344874, 15.95691469344874, 15.956914693448736, 15.956914693448734, 16.11809565095832, 16.11809565095832, 16.11809565095832, 16.11809565095832, 16.11809565095832, 16.11809565095832, 16.11809565095832, 16.11809565095832, 16.11809565095832, 16.11809565095832, 16.11809565095832, 16.11809565095832, 15.95691469344874, 16.11809565095832, 16.11809565095832, 16.11809565095832, 15.95691469344874, 16.11809565095832, 15.95691469344874, 16.11809565095832, 16.11809565095832, 16.11809565095832, 16.11809565095832, 15.956914693448736, 15.95691469344874, 15.956914693448736, 15.956914693448736, 16.11809565095832, 16.11809565095832, 16.11809565095832, 15.95691469344874, 16.11809565095832, 15.956914693448736, 16.11809565095832, 16.11809565095832, 15.956914693448736, 15.95691469344874, 15.956914693448736, 16.11809565095832, 15.95691469344874, 16.11809565095832, 16.11809565095832, 16.11809565095832, 16.11809565095832, 16.11809565095832, 16.11809565095832, 16.11809565095832, 15.95691469344874, 16.11809565095832, 16.11809565095832, 16.11809565095832, 16.11809565095832, 15.956914693448736, 15.956914693448736, 16.11809565095832, 15.956914693448736, 16.11809565095832, 16.11809565095832, 16.11809565095832, 16.11809565095832, 16.11809565095832, 15.95691469344874, 16.11809565095832, 15.956914693448736, 16.11809565095832, 16.11809565095832, 16.11809565095832, 16.11809565095832, 16.11809565095832, 16.11809565095832, 15.956914693448736, 16.11809565095832, 16.11809565095832, 15.95691469344874, 15.95691469344874, 16.11809565095832, 16.11809565095832, 16.11809565095832, 15.956914693448736, 16.11809565095832, 16.11809565095832, 16.11809565095832, 16.11809565095832, 16.11809565095832, 16.11809565095832, 15.95691469344874, 16.11809565095832, 15.956914693448736, 16.11809565095832, 16.11809565095832, 15.95691469344874, 16.11809565095832, 16.11809565095832, 15.95691469344874, 16.11809565095832, 16.11809565095832, 16.11809565095832, 16.11809565095832, 16.11809565095832, 16.11809565095832, 16.11809565095832, 16.11809565095832, 16.11809565095832, 15.956914693448736, 16.11809565095832, 16.11809565095832, 16.11809565095832, 16.11809565095832, 15.95691469344874, 15.95691469344874, 16.11809565095832, 16.11809565095832, 16.11809565095832, 16.11809565095832, 16.11809565095832, 16.11809565095832, 16.11809565095832, 15.95691469344874, 16.11809565095832, 16.11809565095832, 16.11809565095832, 16.11809565095832, 16.11809565095832, 16.11809565095832, 16.11809565095832, 15.956914693448736, 16.11809565095832, 16.11809565095832, 16.11809565095832, 15.95691469344874, 15.95691469344874, 16.11809565095832, 15.95691469344874, 16.11809565095832, 16.11809565095832, 16.11809565095832, 16.11809565095832, 15.956914693448736, 15.956914693448736, 16.11809565095832, 16.11809565095832, 16.11809565095832, 16.11809565095832, 16.11809565095832, 16.11809565095832, 15.95691469344874, 16.11809565095832, 15.95691469344874, 16.11809565095832, 16.11809565095832, 16.11809565095832, 15.956914693448736, 16.11809565095832, 16.11809565095832, 16.11809565095832, 16.11809565095832, 16.11809565095832, 15.95691469344874, 15.95691469344874, 15.95691469344874, 15.956914693448736, 15.95691469344874, 15.956914693448736, 15.956914693448736, 16.11809565095832, 16.11809565095832, 16.11809565095832, 15.95691469344874, 15.956914693448736, 16.11809565095832, 16.11809565095832, 16.11809565095832, 16.11809565095832, 16.11809565095832, 15.956914693448736, 16.11809565095832, 16.11809565095832, 15.95691469344874, 16.11809565095832, 16.11809565095832, 16.11809565095832, 15.95691469344874, 16.11809565095832, 16.11809565095832, 16.11809565095832, 16.11809565095832, 16.11809565095832, 16.11809565095832, 16.11809565095832, 15.956914693448736, 15.956914693448736, 16.11809565095832, 16.11809565095832, 16.11809565095832, 15.956914693448736, 15.95691469344874, 16.11809565095832, 15.95691469344874, 16.11809565095832, 16.11809565095832, 16.11809565095832, 16.11809565095832, 15.95691469344874, 15.95691469344874, 16.11809565095832, 16.11809565095832, 16.11809565095832, 16.11809565095832, 16.11809565095832, 15.95691469344874, 15.956914693448736, 15.956914693448736, 16.11809565095832, 16.11809565095832, 16.11809565095832, 16.11809565095832, 16.11809565095832, 15.95691469344874, 15.95691469344874, 16.11809565095832, 16.11809565095832, 16.11809565095832, 15.95691469344874, 16.11809565095832, 16.11809565095832, 15.956914693448736, 15.95691469344874, 16.11809565095832, 16.11809565095832, 16.11809565095832, 15.956914693448736, 16.11809565095832, 15.95691469344874, 16.11809565095832, 16.11809565095832, 16.11809565095832, 15.95691469344874, 16.11809565095832, 16.11809565095832, 15.956914693448736, 16.11809565095832, 16.11809565095832, 16.11809565095832, 15.956914693448736, 16.11809565095832, 15.956914693448734, 15.956914693448736, 16.11809565095832, 15.956914693448736, 16.11809565095832, 16.11809565095832, 15.95691469344874, 15.95691469344874, 16.11809565095832, 16.11809565095832, 16.11809565095832, 16.11809565095832, 15.956914693448736, 16.11809565095832, 16.11809565095832, 16.11809565095832, 16.11809565095832, 16.11809565095832, 16.11809565095832, 16.11809565095832, 16.11809565095832, 15.95691469344874, 15.95691469344874, 16.11809565095832, 15.95691469344874, 15.956914693448734, 16.11809565095832, 15.956914693448736, 15.956914693448736, 16.11809565095832, 16.11809565095832, 15.95691469344874, 16.11809565095832, 16.11809565095832, 16.11809565095832, 16.11809565095832, 15.956914693448734, 16.11809565095832, 16.11809565095832, 16.11809565095832, 16.11809565095832, 16.11809565095832, 15.95691469344874, 15.95691469344874, 15.956914693448736, 16.11809565095832, 16.11809565095832, 16.11809565095832, 16.11809565095832, 16.11809565095832, 16.11809565095832, 16.11809565095832, 16.11809565095832, 16.11809565095832, 16.11809565095832, 16.11809565095832, 16.11809565095832, 16.11809565095832, 16.11809565095832, 16.11809565095832, 16.11809565095832, 16.11809565095832, 16.11809565095832, 16.11809565095832, 16.11809565095832, 16.11809565095832, 15.95691469344874, 16.11809565095832, 15.95691469344874, 16.11809565095832, 16.11809565095832, 15.956914693448736, 16.11809565095832, 15.95691469344874, 16.11809565095832, 16.11809565095832, 16.11809565095832, 16.11809565095832, 16.11809565095832, 15.956914693448736, 16.11809565095832, 15.95691469344874, 16.11809565095832, 16.11809565095832, 16.11809565095832, 16.11809565095832, 16.11809565095832, 16.11809565095832, 16.11809565095832, 16.11809565095832, 16.11809565095832, 16.11809565095832, 16.11809565095832, 16.11809565095832, 15.956914693448736, 15.95691469344874, 15.95691469344874, 15.95691469344874, 16.11809565095832, 16.11809565095832, 16.11809565095832, 16.11809565095832, 16.11809565095832, 16.11809565095832, 16.11809565095832, 16.11809565095832, 16.11809565095832, 16.11809565095832, 15.95691469344874, 16.11809565095832, 16.11809565095832, 15.956914693448734, 16.11809565095832, 16.11809565095832, 16.11809565095832, 15.95691469344874, 16.11809565095832, 16.11809565095832, 16.11809565095832, 16.11809565095832, 16.11809565095832, 15.95691469344874, 16.11809565095832, 15.95691469344874, 16.11809565095832, 16.11809565095832, 15.95691469344874, 15.956914693448736, 16.11809565095832, 16.11809565095832, 16.11809565095832, 15.95691469344874, 16.11809565095832, 16.11809565095832, 16.11809565095832, 15.956914693448734, 15.956914693448734, 16.11809565095832, 16.11809565095832, 16.11809565095832, 16.11809565095832, 16.11809565095832, 16.11809565095832, 16.11809565095832, 16.11809565095832, 16.11809565095832, 16.11809565095832, 16.11809565095832, 16.11809565095832, 16.11809565095832, 16.11809565095832, 16.11809565095832, 16.11809565095832, 16.11809565095832, 16.11809565095832, 16.11809565095832, 16.11809565095832, 16.11809565095832, 16.11809565095832, 16.11809565095832, 16.11809565095832, 15.956914693448736, 16.11809565095832, 15.95691469344874, 16.11809565095832, 16.11809565095832, 16.11809565095832, 16.11809565095832, 16.11809565095832, 16.11809565095832, 15.95691469344874, 16.11809565095832, 15.956914693448736, 16.11809565095832, 15.956914693448736, 16.11809565095832, 15.95691469344874, 16.11809565095832, 15.95691469344874, 15.95691469344874, 16.11809565095832, 16.11809565095832, 15.95691469344874, 16.11809565095832, 16.11809565095832, 16.11809565095832, 16.11809565095832, 16.11809565095832, 15.956914693448736, 15.95691469344874, 15.956914693448734, 15.95691469344874, 15.95691469344874, 16.11809565095832, 16.11809565095832, 16.11809565095832, 16.11809565095832, 16.11809565095832, 16.11809565095832, 16.11809565095832, 15.956914693448736, 15.956914693448736, 16.11809565095832, 16.11809565095832, 15.95691469344874, 16.11809565095832, 15.95691469344874, 15.956914693448736, 15.956914693448736, 16.11809565095832, 16.11809565095832, 15.956914693448736, 16.11809565095832, 16.11809565095832, 16.11809565095832, 16.11809565095832, 16.11809565095832, 16.11809565095832, 16.11809565095832, 16.11809565095832, 16.11809565095832, 16.11809565095832, 15.95691469344874, 16.11809565095832, 16.11809565095832, 15.95691469344874, 16.11809565095832, 16.11809565095832, 16.11809565095832, 16.11809565095832, 15.95691469344874, 16.11809565095832, 16.11809565095832, 15.956914693448736, 15.95691469344874, 16.11809565095832, 16.11809565095832, 15.95691469344874, 16.11809565095832, 15.95691469344874, 16.11809565095832, 15.956914693448736, 16.11809565095832, 16.11809565095832, 15.95691469344874, 15.956914693448736, 16.11809565095832, 16.11809565095832, 16.11809565095832, 16.11809565095832, 16.11809565095832, 16.11809565095832, 16.11809565095832, 16.11809565095832, 15.956914693448736, 15.956914693448736, 16.11809565095832, 15.956914693448736, 16.11809565095832, 16.11809565095832, 15.956914693448736, 15.956914693448736, 15.956914693448736, 16.11809565095832, 16.11809565095832, 16.11809565095832, 16.11809565095832, 15.956914693448736, 16.11809565095832, 15.956914693448736, 16.11809565095832, 15.956914693448736, 16.11809565095832, 16.11809565095832, 16.11809565095832, 16.11809565095832, 15.95691469344874, 16.11809565095832, 16.11809565095832, 16.11809565095832, 16.11809565095832, 16.11809565095832, 15.956914693448736, 16.11809565095832, 15.95691469344874, 15.956914693448736, 16.11809565095832, 16.11809565095832, 15.956914693448736, 16.11809565095832, 15.95691469344874, 16.11809565095832, 16.11809565095832, 16.11809565095832, 16.11809565095832, 15.956914693448736, 15.95691469344874, 15.956914693448736, 16.11809565095832, 16.11809565095832, 15.956914693448734, 16.11809565095832, 16.11809565095832, 15.956914693448736, 15.956914693448736, 15.956914693448736, 16.11809565095832, 16.11809565095832, 16.11809565095832, 15.95691469344874, 15.956914693448736, 16.11809565095832, 16.11809565095832, 15.95691469344874, 16.11809565095832, 16.11809565095832, 15.95691469344874, 16.11809565095832, 15.95691469344874, 16.11809565095832, 15.956914693448736, 16.11809565095832, 15.956914693448736, 16.11809565095832, 16.11809565095832, 15.956914693448736, 16.11809565095832, 16.11809565095832, 16.11809565095832, 15.95691469344874, 16.11809565095832, 16.11809565095832, 16.11809565095832, 15.956914693448736, 16.11809565095832, 16.11809565095832, 15.956914693448736, 16.11809565095832, 16.11809565095832, 16.11809565095832, 16.11809565095832, 16.11809565095832, 15.956914693448736, 16.11809565095832, 15.95691469344874, 16.11809565095832, 15.95691469344874, 16.11809565095832, 15.95691469344874, 16.11809565095832, 15.956914693448734, 16.11809565095832, 16.11809565095832, 15.95691469344874, 16.11809565095832, 16.11809565095832, 16.11809565095832, 16.11809565095832, 16.11809565095832, 16.11809565095832, 16.11809565095832, 16.11809565095832, 16.11809565095832, 15.956914693448736, 16.11809565095832, 16.11809565095832, 16.11809565095832, 16.11809565095832, 16.11809565095832, 16.11809565095832, 15.956914693448736, 16.11809565095832, 16.11809565095832, 15.956914693448736, 16.11809565095832, 16.11809565095832, 16.11809565095832, 16.11809565095832, 16.11809565095832, 16.11809565095832, 15.95691469344874, 15.956914693448736, 15.95691469344874, 16.11809565095832, 16.11809565095832, 16.11809565095832, 16.11809565095832, 16.11809565095832, 16.11809565095832, 16.11809565095832, 16.11809565095832, 16.11809565095832, 16.11809565095832, 16.11809565095832, 16.11809565095832, 16.11809565095832, 16.11809565095832, 16.11809565095832, 16.11809565095832, 16.11809565095832, 16.11809565095832, 16.11809565095832, 16.11809565095832, 16.11809565095832, 16.11809565095832, 16.11809565095832, 15.95691469344874, 16.11809565095832, 16.11809565095832, 16.11809565095832, 15.956914693448736, 16.11809565095832, 16.11809565095832, 16.11809565095832, 16.11809565095832, 15.95691469344874, 15.956914693448736, 16.11809565095832, 16.11809565095832, 16.11809565095832, 16.11809565095832, 16.11809565095832, 16.11809565095832, 15.95691469344874, 16.11809565095832, 16.11809565095832, 16.11809565095832, 15.95691469344874, 15.95691469344874, 16.11809565095832, 15.95691469344874, 16.11809565095832, 16.11809565095832, 16.11809565095832, 16.11809565095832, 15.956914693448736, 16.11809565095832, 15.95691469344874, 16.11809565095832, 16.11809565095832, 15.956914693448736, 16.11809565095832, 16.11809565095832, 15.956914693448736, 16.11809565095832, 16.11809565095832, 16.11809565095832, 16.11809565095832, 16.11809565095832, 16.11809565095832, 16.11809565095832, 16.11809565095832, 16.11809565095832, 16.11809565095832, 16.11809565095832, 16.11809565095832, 15.95691469344874, 15.956914693448736, 15.95691469344874, 15.95691469344874, 16.11809565095832, 16.11809565095832, 15.95691469344874, 16.11809565095832, 16.11809565095832, 16.11809565095832, 16.11809565095832, 16.11809565095832, 15.956914693448736, 16.11809565095832, 15.95691469344874, 16.11809565095832, 15.956914693448734, 15.956914693448734, 16.11809565095832, 16.11809565095832, 16.11809565095832, 16.11809565095832, 15.95691469344874, 16.11809565095832, 16.11809565095832, 15.95691469344874, 16.11809565095832, 16.11809565095832, 16.11809565095832, 16.11809565095832, 16.11809565095832, 15.95691469344874, 16.11809565095832, 16.11809565095832, 16.11809565095832, 15.95691469344874, 16.11809565095832, 16.11809565095832, 16.11809565095832, 16.11809565095832, 16.11809565095832, 15.956914693448736, 16.11809565095832, 15.956914693448736, 16.11809565095832, 15.95691469344874, 16.11809565095832, 15.956914693448736, 16.11809565095832, 16.11809565095832, 15.95691469344874, 15.956914693448736, 15.956914693448736, 16.11809565095832, 15.95691469344874, 15.95691469344874, 16.11809565095832, 16.11809565095832, 16.11809565095832, 15.95691469344874, 15.95691469344874, 16.11809565095832, 16.11809565095832, 16.11809565095832, 16.11809565095832, 16.11809565095832, 16.11809565095832, 15.95691469344874, 15.956914693448736, 16.11809565095832, 16.11809565095832, 16.11809565095832, 16.11809565095832, 15.95691469344874, 15.95691469344874, 16.11809565095832, 16.11809565095832, 15.95691469344874, 15.956914693448736, 16.11809565095832, 15.95691469344874, 16.11809565095832, 16.11809565095832, 16.11809565095832, 16.11809565095832, 16.11809565095832, 16.11809565095832, 16.11809565095832, 16.11809565095832, 16.11809565095832, 15.95691469344874, 16.11809565095832, 15.95691469344874, 16.11809565095832, 16.11809565095832, 16.11809565095832, 16.11809565095832, 16.11809565095832, 15.956914693448736, 16.11809565095832, 16.11809565095832, 16.11809565095832, 16.11809565095832, 15.95691469344874, 16.11809565095832, 16.11809565095832, 15.956914693448736, 16.11809565095832, 16.11809565095832, 15.956914693448736, 16.11809565095832, 15.956914693448736, 16.11809565095832, 16.11809565095832, 16.11809565095832, 16.11809565095832, 16.11809565095832, 15.95691469344874, 16.11809565095832, 16.11809565095832, 15.956914693448736, 16.11809565095832, 16.11809565095832, nan, nan, nan, nan, nan, nan, nan, nan, nan, nan, nan, nan, nan, nan, nan, nan, nan, nan, nan, nan, nan, nan, nan, nan, nan, nan, nan, nan, nan, nan, nan, nan, nan, nan, nan, nan, nan, nan, nan, nan, nan, nan, nan, nan, nan, nan, nan, nan, nan, nan, nan, nan, nan, nan, nan, nan, nan, nan, nan, nan, nan, nan, nan, nan, nan, nan, nan, nan, nan, nan, nan, nan, nan, nan, nan, nan, nan, nan, nan, nan, nan, nan, nan, nan, nan, nan, nan, nan, nan, nan, nan, nan, nan, nan, nan, nan, nan, nan, nan, nan, nan, nan, nan, nan, nan, nan, nan, nan, nan, nan, nan, nan, nan, nan, nan, nan, nan, nan, nan, nan, nan, nan, nan, nan, nan, nan, nan, nan, nan, nan, nan, nan, nan, nan, nan, nan, nan, nan, nan, nan, nan, nan, nan, nan, nan, nan, nan, nan, nan, nan, nan, nan, nan, nan, nan, nan, nan, nan, nan, nan, nan, nan, nan, nan, nan, nan, nan, nan, nan, nan, nan, nan, nan, nan, nan, nan, nan, nan, nan, nan, nan, nan, nan, nan, nan, nan, nan, nan, nan, nan, nan, nan, nan, nan, nan, nan, nan, nan, nan, nan, nan, nan, nan, nan, nan, nan, nan, nan, nan, nan, nan, nan, nan, nan, nan, nan, nan, nan, nan, nan, nan, nan, nan, nan, nan, nan, nan, nan, nan, nan, nan, nan, nan, nan, nan, nan, nan, nan, nan, nan, nan, nan, nan, nan, nan, nan, nan, nan, nan, nan, nan, nan, nan, nan, nan, nan, nan, nan, nan, nan, nan, nan, nan, nan, nan, nan, nan, nan, nan, nan, nan, nan, nan, nan, nan, nan, nan, nan, nan, nan, nan, nan, nan, nan, nan, nan, nan, nan, nan, nan, nan, nan, nan, nan, nan, nan, nan, nan, nan, nan, nan, nan, nan, nan, nan, nan, nan, nan, nan, nan, nan, nan, nan, nan, nan, nan, nan, nan, nan, nan, nan, nan, nan, nan, nan, nan, nan, nan, nan, nan, nan, nan, nan, nan, nan, nan, nan, nan, nan, nan, nan, nan, nan, nan, nan, nan, nan, nan, nan, nan, nan, nan, nan, nan, nan, nan, nan, nan, nan, nan, nan, nan, nan, nan, nan, nan, nan, nan, nan, nan, nan, nan, nan, nan, nan, nan, nan, nan, nan, nan, nan, nan, nan, nan, nan, nan, nan, nan, nan, nan, nan, nan, nan, nan, nan, nan, nan, nan, nan, nan, nan, nan, nan, nan, nan, nan, nan, nan, nan, nan, nan, nan, nan, nan, nan, nan, nan, nan, nan, nan, nan, nan, nan, nan, nan, nan, nan, nan, nan, nan, nan, nan, nan, nan, nan, nan, nan, nan, nan, nan, nan, nan, nan, nan, nan, nan, nan, nan, nan, nan, nan, nan, nan, nan, nan, nan, nan, nan, nan, nan, nan, nan, nan, nan, nan, nan, nan, nan, nan, nan, nan, nan, nan, nan, nan, nan, nan, nan, nan, nan, nan, nan, nan, nan, nan, nan, nan, nan, nan, nan, nan, nan, nan, nan, nan, nan, nan, nan, nan, nan, nan, nan, nan, nan, nan, nan, nan, nan, nan, nan, nan, nan, nan, nan, nan, nan, nan, nan, nan, nan, nan, nan, nan, nan, nan, nan, nan, nan, nan, nan, nan, nan, nan, nan, nan, nan, nan, nan, nan, nan, nan, nan, nan, nan, nan, nan, nan, nan, nan, nan, nan, nan, nan, nan, nan, nan, nan, nan, nan, nan, nan, nan, nan, nan, nan, nan, nan, nan, nan, nan, nan, nan, nan, nan, nan, nan, nan, nan, nan, nan, nan, nan, nan, nan, nan, nan, nan, nan, nan, nan, nan, nan, nan, nan, nan, nan, nan, nan, nan, nan, nan, nan, nan, nan, nan, nan, nan, nan, nan, nan, nan, nan, nan, nan, nan, nan, nan, nan, nan, nan, nan, nan, nan, nan, nan, nan, nan, nan, nan, nan, nan, nan, nan, nan, nan, nan, nan, nan, nan, nan, nan, nan, nan, nan, nan, nan, nan, nan, nan, nan, nan, nan, nan, nan, nan, nan, nan, nan, nan, nan, nan, nan, nan, nan, nan, nan, nan, nan, nan, nan, nan, nan, nan, nan, nan, nan, nan, nan, nan, nan, nan, nan, nan, nan, nan, nan, nan, nan, nan, nan, nan, nan, nan, nan, nan, nan, nan, nan, nan, nan, nan, nan, nan, nan, nan, nan, nan, nan, nan, nan, nan, nan, nan, nan, nan, nan, nan, nan, nan, nan, nan, nan, nan, nan, nan, nan, nan, nan, nan, nan, nan, nan, nan, nan, nan, nan, nan, nan, nan, nan, nan, nan, nan, nan, nan, nan, nan, nan, nan, nan, nan, nan, nan, nan, nan, nan, nan, nan, nan, nan, nan, nan, nan, nan, nan, nan, nan, nan, nan, nan, nan, nan, nan, nan, nan, nan, nan, nan, nan, nan, nan, nan, nan, nan, nan, nan, nan, nan, nan, nan, nan, nan, nan, nan, nan, nan, nan, nan, nan, nan, nan, nan, nan, nan, nan, nan, nan, nan, nan, nan, nan, nan, nan, nan, nan, nan, nan, nan, nan, nan, nan, nan, nan, nan, nan, nan, nan, nan, nan, nan, nan, nan, nan, nan, nan, nan, nan, nan, nan, nan, nan, nan, nan, nan, nan, nan, nan, nan, nan, nan, nan, nan, nan, nan, nan, nan, nan, nan, nan, nan, nan, nan, nan, nan, nan, nan, nan, nan, nan, nan, nan, nan, nan, nan, nan, nan, nan, nan, nan, nan, nan, nan, nan, nan, nan, nan, nan, nan, nan, nan, nan, nan, nan, nan, nan, nan, nan, nan, nan, nan, nan, nan, nan, nan, nan, nan, nan, nan, nan, nan, nan, nan, nan, nan, nan, nan, nan, nan, nan, nan, nan, nan, nan, nan, nan, nan, nan, nan, nan, nan, nan, nan, nan, nan, nan, nan, nan, nan, nan, nan, nan, nan, nan, nan, nan, nan, nan, nan, nan, nan, nan, nan, nan, nan, nan, nan, nan, nan, nan, nan, nan, nan, nan, nan, nan, nan, nan, nan, nan, nan, nan, nan, nan, nan, nan, nan, nan, nan, nan, nan, nan, nan, nan, nan, nan, nan, nan, nan, nan, nan, nan, nan, nan, nan, nan, nan, nan, nan, nan, nan, nan, nan, nan, nan, nan, nan, nan, nan, nan, nan, nan, nan, nan, nan, nan, nan, nan, nan, nan, nan, nan, nan, nan, nan, nan, nan, nan, nan, nan, nan, nan, nan, nan, nan, nan, nan, nan, nan, nan, nan, nan, nan, nan, nan, nan, nan, nan, nan, nan, nan, nan, nan, nan, nan, nan, nan, nan, nan, nan, nan, nan, nan, nan, nan, nan, nan, nan, nan, nan, nan, nan, nan, nan, nan, nan, nan, nan, nan, nan, nan, nan, nan, nan, nan, nan, nan, nan, nan, nan, nan, nan, nan, nan, nan, nan, nan, nan, nan, nan, nan, nan, nan, nan, nan, nan, nan, nan, nan, nan, nan, nan, nan, nan, nan, nan, nan, nan, nan, nan, nan, nan, nan, nan, nan, nan, nan, nan, nan, nan, nan, nan, nan, nan, nan, nan, nan, nan, nan, nan, nan, nan, nan, nan, nan, nan, nan, nan, nan, nan, nan, nan, nan, nan, nan, nan, nan, nan, nan, nan, nan, nan, nan, nan, nan, nan, nan, nan, nan, nan, nan, nan, nan, nan, nan, nan, nan, nan, nan, nan, nan, nan, nan, nan, nan, nan, nan, nan, nan, nan, nan, nan, nan, nan, nan, nan, nan, nan, nan, nan, nan, nan, nan, nan, nan, nan, nan, nan, nan, nan, nan, nan, nan, nan, nan, nan, nan, nan, nan, nan, nan, nan, nan, nan, nan, nan, nan, nan, nan, nan, nan, nan, nan, nan, nan, nan, nan, nan, nan, nan, nan, nan, nan, nan, nan, nan, nan, nan, nan, nan, nan, nan, nan, nan, nan, nan, nan, nan, nan, nan, nan, nan, nan, nan, nan, nan, nan, nan, nan, nan, nan, nan, nan, nan, nan, nan, nan, nan, nan, nan, nan, nan, nan, nan, nan, nan, nan, nan, nan, nan, nan, nan, nan, nan, nan, nan, nan, nan, nan, nan, nan, nan, nan, nan, nan, nan, nan, nan, nan, nan, nan, nan, nan, nan, nan, nan, nan, nan, nan, nan, nan, nan, nan, nan, nan, nan, nan, nan, nan, nan, nan, nan, nan, nan, nan, nan, nan, nan, nan, nan, nan, nan, nan, nan, nan, nan, nan, nan, nan, nan, nan, nan, nan, nan, nan, nan, nan, nan, nan, nan, nan, nan, nan, nan, nan, nan, nan, nan, nan, nan, nan, nan, nan, nan, nan, nan, nan, nan, nan, nan, nan, nan, nan, nan, nan, nan, nan, nan, nan, nan, nan, nan, nan, nan, nan, nan, nan, nan, nan, nan, nan, nan, nan, nan, nan, nan, nan, nan, nan, nan, nan, nan, nan, nan, nan, nan, nan, nan, nan, nan, nan, nan, nan, nan, nan, nan, nan, nan, nan, nan, nan, nan, nan, nan, nan, nan, nan, nan, nan, nan, nan, nan, nan, nan, nan, nan, nan, nan, nan, nan, nan, nan, nan, nan, nan, nan, nan, nan, nan, nan, nan, nan, nan, nan, nan, nan, nan, nan, nan, nan, nan, nan, nan, nan, nan, nan, nan, nan, nan, nan, nan, nan, nan, nan, nan, nan, nan, nan, nan, nan, nan, nan, nan, nan, nan, nan, nan, nan, nan, nan, nan, nan, nan, nan, nan, nan, nan, nan, nan, nan, nan, nan, nan, nan, nan, nan, nan, nan, nan, nan, nan, nan, nan, nan, nan, nan, nan, nan, nan, nan, nan, nan, nan, nan, nan, nan, nan, nan, nan, nan, nan, nan, nan, nan, nan, nan, nan, nan, nan, nan, nan, nan, nan, nan, nan, nan, nan, nan, nan, nan, nan, nan, nan, nan, nan, nan, nan, nan, nan, nan, nan, nan, nan, nan, nan, nan, nan, nan, nan, nan, nan, nan, nan, nan, nan, nan, nan, nan, nan, nan, nan, nan, nan, nan, nan, nan, nan, nan, nan, nan, nan, nan, nan, nan, nan, nan, nan, nan, nan, nan, nan, nan, nan, nan, nan, nan, nan, nan, nan, nan, nan, nan, nan, nan, nan, nan, nan, nan, nan, nan, nan, nan, nan, nan, nan, nan, nan, nan, nan, nan, nan, nan, nan, nan, nan, nan, nan, nan, nan, nan, nan, nan, nan, nan, nan, nan, nan, nan, nan, nan, nan, nan, nan, nan, nan, nan, nan, nan, nan, nan, nan, nan, nan, nan, nan, nan, nan, nan, nan, nan, nan, nan, nan, nan, nan, nan, nan, nan, nan, nan, nan, nan, nan, nan, nan, nan, nan, nan, nan, nan, nan, nan, nan, nan, nan, nan, nan, nan, nan, nan, nan, nan, nan, nan, nan, nan, nan, nan, nan, nan, nan, nan, nan, nan, nan, nan, nan, nan, nan, nan, nan, nan, nan, nan, nan, nan, nan, nan, nan, nan, nan, nan, nan, nan, nan, nan, nan, nan, nan, nan, nan, nan, nan, nan, nan, nan, nan, nan, nan, nan, nan, nan, nan, nan, nan, nan, nan, nan, nan, nan, nan, nan, nan, nan, nan, nan, nan, nan, nan, nan, nan, nan, nan, nan, nan, nan, nan, nan, nan, nan, nan, nan, nan, nan, nan, nan, nan, nan, nan, nan, nan, nan, nan, nan, nan, nan, nan, nan, nan, nan, nan, nan, nan, nan, nan, nan, nan, nan, nan, nan, nan, nan, nan, nan, nan, nan, nan, nan, nan, nan, nan, nan, nan, nan, nan, nan, nan, nan, nan, nan, nan, nan, nan, nan, nan, nan, nan, nan, nan, nan, nan, nan, nan, nan, nan, nan, nan, nan, nan, nan, nan, nan, nan, nan, nan, nan, nan, nan, nan, nan, nan, nan, nan, nan, nan, nan, nan, nan, nan, nan, nan, nan, nan, nan, nan, nan, nan, nan, nan, nan, nan, nan, nan, nan, nan, nan, nan, nan, nan, nan, nan, nan, nan, nan, nan, nan, nan, nan, nan, nan, nan, nan, nan, nan, nan, nan, nan, nan, nan, nan, nan, nan, nan, nan, nan, nan, nan, nan, nan, nan, nan, nan, nan, nan, nan, nan, nan, nan, nan, nan, nan, nan, nan, nan, nan, nan, nan, nan, nan, nan, nan, nan, nan, nan, nan, nan, nan, nan, nan, nan, nan, nan, nan, nan, nan, nan, nan, nan, nan, nan, nan, nan, nan, nan, nan, nan, nan, nan, nan, nan, nan, nan, nan, nan, nan, nan, nan, nan, nan, nan, nan, nan, nan, nan, nan, nan, nan, nan, nan, nan, nan, nan, nan, nan, nan, nan, nan, nan, nan, nan, nan, nan, nan, nan, nan, nan, nan, nan, nan, nan, nan, nan, nan, nan, nan, nan, nan, nan, nan, nan, nan, nan, nan, nan, nan, nan, nan, nan, nan, nan, nan, nan, nan, nan, nan, nan, nan, nan, nan, nan, nan, nan, nan, nan, nan, nan, nan, nan, nan, nan, nan, nan, nan, nan, nan, nan, nan, nan, nan, nan, nan, nan, nan, nan, nan, nan, nan, nan, nan, nan, nan, nan, nan, nan, nan, nan, nan, nan, nan, nan, nan, nan, nan, nan, nan, nan, nan, nan, nan, nan, nan, nan, nan, nan, nan, nan, nan, nan, nan, nan, nan, nan, nan, nan, nan, nan, nan, nan, nan, nan, nan, nan, nan, nan, nan, nan, nan, nan, nan, nan, nan, nan, nan, nan, nan, nan, nan, nan, nan, nan, nan, nan, nan, nan, nan, nan, nan, nan, nan, nan, nan, nan, nan, nan, nan, nan, nan, nan, nan, nan, nan, nan, nan, nan, nan, nan, nan, nan, nan, nan, nan, nan, nan, nan, nan, nan, nan, nan, nan, nan, nan, nan, nan, nan, nan, nan, nan, nan, nan, nan, nan, nan, nan, nan, nan, nan, nan, nan, nan, nan, nan, nan, nan, nan, nan, nan, nan, nan, nan, nan, nan, nan, nan, nan, nan, nan, nan, nan, nan, nan, nan, nan, nan, nan, nan, nan, nan, nan, nan, nan, nan, nan, nan, nan, nan, nan, nan, nan, nan, nan, nan, nan, nan, nan, nan, nan, nan, nan, nan, nan, nan, nan, nan, nan, nan, nan, nan, nan, nan, nan, nan, nan, nan, nan, nan, nan, nan, nan, nan, nan, nan, nan, nan, nan, nan, nan, nan, nan, nan, nan, nan, nan, nan, nan, nan, nan, nan, nan, nan, nan, nan, nan, nan, nan, nan, nan, nan, nan, nan, nan, nan, nan, nan, nan, nan, nan, nan, nan, nan, nan, nan, nan, nan, nan, nan, nan, nan, nan, nan, nan, nan, nan, nan, nan, nan, nan, nan, nan, nan, nan, nan, nan, nan, nan, nan, nan, nan, nan, nan, nan, nan, nan, nan, nan, nan, nan, nan, nan, nan, nan, nan, nan, nan, nan, nan, nan, nan, nan, nan, nan, nan, nan, nan, nan, nan, nan, nan, nan, nan, nan, nan, nan, nan, nan, nan, nan, nan, nan, nan, nan, nan, nan, nan, nan, nan, nan, nan, nan, nan, nan, nan, nan, nan, nan, nan, nan, nan, nan, nan, nan, nan, nan, nan, nan, nan, nan, nan, nan, nan, nan, nan, nan, nan, nan, nan, nan, nan, nan, nan, nan, nan, nan, nan, nan, nan, nan, nan, nan, nan, nan, nan, nan, nan, nan, nan, nan, nan, nan, nan, nan, nan, nan, nan, nan, nan, nan, nan, nan, nan, nan, nan, nan, nan, nan, nan, nan, nan, nan, nan, nan, nan, nan, nan, nan, nan, nan, nan, nan, nan, nan, nan, nan, nan, nan, nan, nan, nan, nan, nan, nan, nan, nan, nan, nan, nan, nan, nan, nan, nan, nan, nan, nan, nan, nan, nan, nan, nan, nan, nan, nan, nan, nan, nan, nan, nan, nan, nan, nan, nan, nan, nan, nan, nan, nan, nan, nan, nan, nan, nan, nan, nan, nan, nan, nan, nan, nan, nan, nan, nan, nan, nan, nan, nan, nan, nan, nan, nan, nan, nan, nan, nan, nan, nan, nan, nan, nan, nan, nan, nan, nan, nan, nan, nan, nan, nan, nan, nan, nan, nan, nan, nan, nan, nan, nan, nan, nan, nan, nan, nan, nan, nan, nan, nan, nan, nan, nan, nan, nan, nan, nan, nan, nan, nan, nan, nan, nan, nan, nan, nan, nan, nan, nan, nan, nan, nan, nan, nan, nan, nan, nan, nan, nan, nan, nan, nan, nan, nan, nan, nan, nan, nan, nan, nan, nan, nan, nan, nan, nan, nan, nan, nan, nan, nan, nan, nan, nan, nan, nan, nan, nan, nan, nan, nan, nan, nan, nan, nan, nan, nan, nan, nan, nan, nan, nan, nan, nan, nan, nan, nan, nan, nan, nan, nan, nan, nan, nan, nan, nan, nan, nan, nan, nan, nan, nan, nan, nan, nan, nan, nan, nan, nan, nan, nan, nan, nan, nan, nan, nan, nan, nan, nan, nan, nan, nan, nan, nan, nan, nan, nan, nan, nan, nan, nan, nan, nan, nan, nan, nan, nan, nan, nan, nan, nan, nan, nan, nan, nan, nan, nan, nan, nan, nan, nan, nan, nan, nan, nan, nan, nan, nan, nan, nan, nan, nan, nan, nan, nan, nan, nan, nan, nan, nan, nan, nan, nan, nan, nan, nan, nan, nan, nan, nan, nan, nan, nan, nan, nan, nan, nan, nan, nan, nan, nan, nan, nan, nan, nan, nan, nan, nan, nan, nan, nan, nan, nan, nan, nan, nan, nan, nan, nan, nan, nan, nan, nan, nan, nan, nan, nan, nan, nan, nan, nan, nan, nan, nan, nan, nan, nan, nan, nan, nan, nan, nan, nan, nan, nan, nan, nan, nan, nan, nan, nan, nan, nan, nan, nan, nan, nan, nan, nan, nan, nan, nan, nan, nan, nan, nan, nan, nan, nan, nan, nan, nan, nan, nan, nan, nan, nan, nan, nan, nan, nan, nan, nan, nan, nan, nan, nan, nan, nan, nan, nan, nan, nan, nan, nan, nan, nan, nan, nan, nan, nan, nan, nan, nan, nan, nan, nan, nan, nan, nan, nan, nan, nan, nan, nan, nan, nan, nan, nan, nan, nan, nan, nan, nan, nan, nan, nan, nan, nan, nan, nan, nan, nan, nan, nan, nan, nan, nan, nan, nan, nan, nan, nan, nan, nan, nan, nan, nan, nan, nan, nan, nan, nan, nan, nan, nan, nan, nan, nan, nan, nan, nan, nan, nan, nan, nan, nan, nan, nan, nan, nan, nan, nan, nan, nan, nan, nan, nan, nan, nan, nan, nan, nan, nan, nan, nan, nan, nan, nan, nan, nan, nan, nan, nan, nan, nan, nan, nan, nan, nan, nan, nan, nan, nan, nan, nan, nan, nan, nan, nan, nan, nan, nan, nan, nan, nan, nan, nan, nan, nan, nan, nan, nan, nan, nan, nan, nan, nan, nan, nan, nan, nan, nan, nan, nan, nan, nan, nan, nan, nan, nan, nan, nan, nan, nan, nan, nan, nan, nan, nan, nan, nan, nan, nan, nan, nan, nan, nan, nan, nan, nan, nan, nan, nan, nan, nan, nan, nan, nan, nan, nan, nan, nan, nan, nan, nan, nan, nan, nan, nan, nan, nan, nan, nan, nan, nan, nan, nan, nan, nan, nan, nan, nan, nan, nan, nan, nan, nan, nan, nan, nan, nan, nan, nan, nan, nan, nan, nan, nan, nan, nan, nan, nan, nan, nan, nan, nan, nan, nan, nan, nan, nan, nan, nan, nan, nan, nan, nan, nan, nan, nan, nan, nan, nan, nan, nan, nan, nan, nan, nan, nan, nan, nan, nan, nan, nan, nan, nan, nan, nan, nan, nan, nan, nan, nan, nan, nan, nan, nan, nan, nan, nan, nan, nan, nan, nan, nan, nan, nan, nan, nan, nan, nan, nan, nan, nan, nan, nan, nan, nan, nan, nan, nan, nan, nan, nan, nan, nan, nan, nan, nan, nan, nan, nan, nan, nan, nan, nan, nan, nan, nan, nan, nan, nan, nan, nan, nan, nan, nan, nan, nan, nan, nan, nan, nan, nan, nan, nan, nan, nan, nan, nan, nan, nan, nan, nan, nan, nan, nan, nan, nan, nan, nan, nan, nan, nan, nan, nan, nan, nan, nan, nan, nan, nan, nan, nan, nan, nan, nan, nan, nan, nan, nan, nan, nan, nan, nan, nan, nan, nan, nan, nan, nan, nan, nan, nan, nan, nan, nan, nan, nan, nan, nan, nan, nan, nan, nan, nan, nan, nan, nan, nan, nan, nan, nan, nan, nan, nan, nan, nan, nan, nan, nan, nan, nan, nan, nan, nan, nan, nan, nan, nan, nan, nan, nan, nan, nan, nan, nan, nan, nan, nan, nan, nan, nan, nan, nan, nan, nan, nan, nan, nan, nan, nan, nan, nan, nan, nan, nan, nan, nan, nan, nan, nan, nan, nan, nan, nan, nan, nan, nan, nan, nan, nan, nan, nan, nan, nan, nan, nan, nan, nan, nan, nan, nan, nan, nan, nan, nan, nan, nan, nan, nan, nan, nan, nan, nan, nan, nan, nan, nan, nan, nan, nan, nan, nan, nan, nan, nan, nan, nan, nan, nan, nan, nan, nan, nan, nan, nan, nan, nan, nan, nan, nan, nan, nan, nan, nan, nan, nan, nan, nan, nan, nan, nan, nan, nan, nan, nan, nan, nan, nan, nan, nan, nan, nan, nan, nan, nan, nan, nan, nan, nan, nan, nan, nan, nan, nan, nan, nan, nan, nan, nan, nan, nan, nan, nan, nan, nan, nan, nan, nan, nan, nan, nan, nan, nan, nan, nan, nan, nan, nan, nan, nan, nan, nan, nan, nan, nan, nan, nan, nan, nan, nan, nan, nan, nan, nan, nan, nan, nan, nan, nan, nan, nan, nan, nan, nan, nan, nan, nan, nan, nan, nan, nan, nan, nan, nan, nan, nan, nan, nan, nan, nan, nan, nan, nan, nan, nan, nan, nan, nan, nan, nan, nan, nan, nan, nan, nan, nan, nan, nan, nan, nan, nan, nan, nan, nan, nan, nan, nan, nan, nan, nan, nan, nan, nan, nan, nan, nan, nan, nan, nan, nan, nan, nan, nan, nan, nan, nan, nan, nan, nan, nan, nan, nan, nan, nan, nan, nan, nan, nan, nan, nan, nan, nan, nan, nan, nan, nan, nan, nan, nan, nan, nan, nan, nan, nan, nan, nan, nan, nan, nan, nan, nan, nan, nan, nan, nan, nan, nan, nan, nan, nan, nan, nan, nan, nan, nan, nan, nan, nan, nan, nan, nan, nan, nan, nan, nan, nan, nan, nan, nan, nan, nan, nan, nan, nan, nan, nan, nan, nan, nan, nan, nan, nan, nan, nan, nan, nan, nan, nan, nan, nan, nan, nan, nan, nan, nan, nan, nan, nan, nan, nan, nan, nan, nan, nan, nan, nan, nan, nan, nan, nan, nan, nan, nan, nan, nan, nan, nan, nan, nan, nan, nan, nan, nan, nan, nan, nan, nan, nan, nan, nan, nan, nan, nan, nan, nan, nan, nan, nan, nan, nan, nan, nan, nan, nan, nan, nan, nan, nan, nan, nan, nan, nan, nan, nan, nan, nan, nan, nan, nan, nan, nan, nan, nan, nan, nan, nan, nan, nan, nan, nan, nan, nan, nan, nan, nan, nan, nan, nan, nan, nan, nan, nan, nan, nan, nan, nan, nan, nan, nan, nan, nan, nan, nan, nan, nan, nan, nan, nan, nan, nan, nan, nan, nan, nan, nan, nan, nan, nan, nan, nan, nan, nan, nan, nan, nan, nan, nan, nan, nan, nan, nan, nan, nan, nan, nan, nan, nan, nan, nan, nan, nan, nan, nan, nan, nan, nan, nan, nan, nan, nan, nan, nan, nan, nan, nan, nan, nan, nan, nan, nan, nan, nan, nan, nan, nan, nan, nan, nan, nan, nan, nan, nan, nan, nan, nan, nan, nan, nan, nan, nan, nan, nan, nan, nan, nan, nan, nan, nan, nan, nan, nan, nan, nan, nan, nan, nan, nan, nan, nan, nan, nan, nan, nan, nan, nan, nan, nan, nan, nan, nan, nan, nan, nan, nan, nan, nan, nan, nan, nan, nan, nan, nan, nan, nan, nan, nan, nan, nan, nan, nan, nan, nan, nan, nan, nan, nan, nan, nan, nan, nan, nan, nan, nan, nan, nan, nan, nan, nan, nan, nan, nan, nan, nan, nan, nan, nan, nan, nan, nan, nan, nan, nan, nan, nan, nan, nan, nan, nan, nan, nan, nan, nan, nan, nan, nan, nan, nan, nan, nan, nan, nan, nan, nan, nan, nan, nan, nan, nan, nan, nan, nan, nan, nan, nan, nan, nan, nan, nan, nan, nan, nan, nan, nan, nan, nan, nan, nan, nan, nan, nan, nan, nan, nan, nan, nan, nan, nan, nan, nan, nan, nan, nan, nan, nan, nan, nan, nan, nan, nan, nan, nan, nan, nan, nan, nan, nan, nan, nan, nan, nan, nan, nan, nan, nan, nan, nan, nan, nan, nan, nan, nan, nan, nan, nan, nan, nan, nan, nan, nan, nan, nan, nan, nan, nan, nan, nan, nan, nan, nan, nan, nan, nan, nan, nan, nan, nan, nan, nan, nan, nan, nan, nan, nan, nan, nan, nan, nan, nan, nan, nan, nan, nan, nan, nan, nan, nan, nan, nan, nan, nan, nan, nan, nan, nan, nan, nan, nan, nan, nan, nan, nan, nan, nan, nan, nan, nan, nan, nan, nan, nan, nan, nan, nan, nan, nan, nan, nan, nan, nan, nan, nan, nan, nan, nan, nan, nan, nan, nan, nan, nan, nan, nan, nan, nan, nan, nan, nan, nan, nan, nan, nan, nan, nan, nan, nan, nan, nan, nan, nan, nan, nan, nan, nan, nan, nan, nan, nan, nan, nan, nan, nan, nan, nan, nan, nan, nan, nan, nan, nan, nan, nan, nan, nan, nan, nan, nan, nan, nan, nan, nan, nan, nan, nan, nan, nan, nan, nan, nan, nan, nan, nan, nan, nan, nan, nan, nan, nan, nan, nan, nan, nan, nan, nan, nan, nan, nan, nan, nan, nan, nan, nan, nan, nan, nan, nan, nan, nan, nan, nan, nan, nan, nan, nan, nan, nan, nan, nan, nan, nan, nan, nan, nan, nan, nan, nan, nan, nan, nan, nan, nan, nan, nan, nan, nan, nan, nan, nan, nan, nan, nan, nan, nan, nan, nan, nan, nan, nan, nan, nan, nan, nan, nan, nan, nan, nan, nan, nan, nan, nan, nan, nan, nan, nan, nan, nan, nan, nan, nan, nan, nan, nan, nan, nan, nan, nan, nan, nan, nan, nan, nan, nan, nan, nan, nan, nan, nan, nan, nan, nan, nan, nan, nan, nan, nan, nan, nan, nan, nan, nan, nan, nan, nan, nan, nan, nan, nan, nan, nan, nan, nan, nan, nan, nan, nan, nan, nan, nan, nan, nan, nan, nan, nan, nan, nan, nan, nan, nan, nan, nan, nan, nan, nan, nan, nan, nan, nan, nan, nan, nan, nan, nan, nan, nan, nan, nan, nan, nan, nan, nan, nan, nan, nan, nan, nan, nan, nan, nan, nan, nan, nan, nan, nan, nan, nan, nan, nan, nan, nan, nan, nan, nan, nan, nan, nan, nan, nan, nan, nan, nan, nan, nan, nan, nan, nan, nan, nan, nan, nan, nan, nan, nan, nan, nan, nan, nan, nan, nan, nan, nan, nan, nan, nan, nan, nan, nan, nan, nan, nan, nan, nan, nan, nan, nan, nan, nan, nan, nan, nan, nan, nan, nan, nan, nan, nan, nan, nan, nan, nan, nan, nan, nan, nan, nan, nan, nan, nan, nan, nan, nan, nan, nan, nan, nan, nan, nan, nan, nan, nan, nan, nan, nan, nan, nan, nan, nan, nan, nan, nan, nan, nan, nan, nan, nan, nan, nan, nan, nan, nan, nan, nan, nan, nan, nan, nan, nan, nan, nan, nan, nan, nan, nan, nan, nan, nan, nan, nan, nan, nan, nan, nan, nan, nan, nan, nan, nan, nan, nan, nan, nan, nan, nan, nan, nan, nan, nan, nan, nan, nan, nan, nan, nan, nan, nan, nan, nan, nan, nan, nan, nan, nan, nan, nan, nan, nan, nan, nan, nan, nan, nan, nan, nan, nan, nan, nan, nan, nan, nan, nan, nan, nan, nan, nan, nan, nan, nan, nan, nan, nan, nan, nan, nan, nan, nan, nan, nan, nan, nan, nan, nan, nan, nan, nan, nan, nan, nan, nan, nan, nan, nan, nan, nan, nan, nan, nan, nan, nan, nan, nan, nan, nan, nan, nan, nan, nan, nan, nan, nan, nan, nan, nan, nan, nan, nan, nan, nan, nan, nan, nan, nan, nan, nan, nan, nan, nan, nan, nan, nan, nan, nan, nan, nan, nan, nan, nan, nan, nan, nan, nan, nan, nan, nan, nan, nan, nan, nan, nan, nan, nan, nan, nan, nan, nan, nan, nan, nan, nan, nan, nan, nan, nan, nan, nan, nan, nan, nan, nan, nan, nan, nan, nan, nan, nan, nan, nan, nan, nan, nan, nan, nan, nan, nan, nan, nan, nan, nan, nan, nan, nan, nan, nan, nan, nan, nan, nan, nan, nan, nan, nan, nan, nan, nan, nan, nan, nan, nan, nan, nan, nan, nan, nan, nan, nan, nan, nan, nan, nan, nan, nan, nan, nan, nan, nan, nan, nan, nan, nan, nan, nan, nan, nan, nan, nan, nan, nan, nan, nan, nan, nan, nan, nan, nan, nan, nan, nan, nan, nan, nan, nan, nan, nan, nan, nan, nan, nan, nan, nan, nan, nan, nan, nan, nan, nan, nan, nan, nan, nan, nan, nan, nan, nan, nan, nan, nan, nan, nan, nan, nan, nan, nan, nan, nan, nan, nan, nan, nan, nan, nan, nan, nan, nan, nan, nan, nan, nan, nan, nan, nan, nan, nan, nan, nan, nan, nan, nan, nan, nan, nan, nan, nan, nan, nan, nan, nan, nan, nan, nan, nan, nan, nan, nan, nan, nan, nan, nan, nan, nan, nan, nan, nan, nan, nan, nan, nan, nan, nan, nan, nan, nan, nan, nan, nan, nan, nan, nan, nan, nan, nan, nan, nan, nan, nan, nan, nan, nan, nan, nan, nan, nan, nan, nan, nan, nan, nan, nan, nan, nan, nan, nan, nan, nan, nan, nan, nan, nan, nan, nan, nan, nan, nan, nan, nan, nan, nan, nan, nan, nan, nan, nan, nan, nan, nan, nan, nan, nan, nan, nan, nan, nan, nan, nan, nan, nan, nan, nan, nan, nan, nan, nan, nan, nan, nan, nan, nan, nan, nan, nan, nan, nan, nan, nan, nan, nan, nan, nan, nan, nan, nan, nan, nan, nan, nan, nan, nan, nan, nan, nan, nan, nan, nan, nan, nan, nan, nan, nan, nan, nan, nan, nan, nan, nan, nan, nan, nan, nan, nan, nan, nan, nan, nan, nan, nan, nan, nan, nan, nan, nan, nan, nan, nan, nan, nan, nan, nan, nan, nan, nan, nan, nan, nan, nan, nan, nan, nan, nan, nan, nan, nan, nan, nan, nan, nan, nan, nan, nan, nan, nan, nan, nan, nan, nan, nan, nan, nan, nan, nan, nan, nan, nan, nan, nan, nan, nan, nan, nan, nan, nan, nan, nan, nan, nan, nan, nan, nan, nan, nan, nan, nan, nan, nan, nan, nan, nan, nan, nan, nan, nan, nan, nan, nan, nan, nan, nan, nan, nan, nan, nan, nan, nan, nan, nan, nan, nan, nan, nan, nan, nan, nan, nan, nan, nan, nan, nan, nan, nan, nan, nan, nan, nan, nan, nan, nan, nan, nan, nan, nan, nan, nan, nan, nan, nan, nan, nan, nan, nan, nan, nan, nan, nan, nan, nan, nan, nan, nan, nan, nan, nan, nan, nan, nan, nan, nan, nan, nan, nan, nan, nan, nan, nan, nan, nan, nan, nan, nan, nan, nan, nan, nan, nan, nan, nan, nan, nan, nan, nan, nan, nan, nan, nan, nan, nan, nan, nan, nan, nan, nan, nan, nan, nan, nan, nan, nan, nan, nan, nan, nan, nan, nan, nan, nan, nan, nan, nan, nan, nan, nan, nan, nan, nan, nan, nan, nan, nan, nan, nan, nan, nan, nan, nan, nan, nan, nan, nan, nan, nan, nan, nan, nan, nan, nan, nan, nan, nan, nan, nan, nan, nan, nan, nan, nan, nan, nan, nan, nan, nan, nan, nan, nan, nan, nan, nan, nan, nan, nan, nan, nan, nan, nan, nan, nan, nan, nan, nan, nan, nan, nan, nan, nan, nan, nan, nan, nan, nan, nan, nan, nan, nan, nan, nan, nan, nan, nan, nan, nan, nan, nan, nan, nan, nan, nan, nan, nan, nan, nan, nan, nan, nan, nan, nan, nan, nan, nan, nan, nan, nan, nan, nan, nan, nan, nan, nan, nan, nan, nan, nan, nan, nan, nan, nan, nan, nan, nan, nan, nan, nan, nan, nan, nan, nan, nan, nan, nan, nan, nan, nan, nan, nan, nan, nan, nan, nan, nan, nan, nan, nan, nan, nan, nan, nan, nan, nan, nan, nan, nan, nan, nan, nan, nan, nan, nan, nan, nan, nan, nan, nan, nan, nan, nan, nan, nan, nan, nan, nan, nan, nan, nan, nan, nan, nan, nan, nan, nan, nan, nan, nan, nan, nan, nan, nan, nan, nan, nan, nan, nan, nan, nan, nan, nan, nan, nan, nan, nan, nan, nan, nan, nan, nan, nan, nan, nan, nan, nan, nan, nan, nan, nan, nan, nan, nan, nan, nan, nan, nan, nan, nan, nan, nan, nan, nan, nan, nan, nan, nan, nan, nan, nan, nan, nan, nan, nan, nan, nan, nan, nan, nan, nan, nan, nan, nan, nan, nan, nan, nan, nan, nan, nan, nan, nan, nan, nan, nan, nan, nan, nan, nan, nan, nan, nan, nan, nan, nan, nan, nan, nan, nan, nan, nan, nan, nan, nan, nan, nan, nan, nan, nan, nan, nan, nan, nan, nan, nan, nan, nan, nan, nan, nan, nan, nan, nan, nan, nan, nan, nan, nan, nan, nan, nan, nan, nan, nan, nan, nan, nan, nan, nan, nan, nan, nan, nan, nan, nan, nan, nan, nan, nan, nan, nan, nan, nan, nan, nan, nan, nan, nan, nan, nan, nan, nan, nan, nan, nan, nan, nan, nan, nan, nan, nan, nan, nan, nan, nan, nan, nan, nan, nan, nan, nan, nan, nan, nan, nan, nan, nan, nan, nan, nan, nan, nan, nan, nan, nan, nan, nan, nan, nan, nan, nan, nan, nan, nan, nan, nan, nan, nan, nan, nan, nan, nan, nan, nan, nan, nan, nan, nan, nan, nan, nan, nan, nan, nan, nan, nan, nan, nan, nan, nan, nan, nan, nan, nan, nan, nan, nan, nan, nan, nan, nan, nan, nan, nan, nan, nan, nan, nan, nan, nan, nan, nan, nan, nan, nan, nan, nan, nan, nan, nan, nan, nan, nan, nan, nan, nan, nan, nan, nan, nan, nan, nan, nan, nan, nan, nan, nan, nan, nan, nan, nan, nan, nan, nan, nan, nan, nan, nan, nan, nan, nan, nan, nan, nan, nan, nan, nan, nan, nan, nan, nan, nan, nan, nan, nan, nan, nan, nan, nan, nan, nan, nan, nan, nan, nan, nan, nan, nan, nan, nan, nan, nan, nan, nan, nan, nan, nan, nan, nan, nan, nan, nan, nan, nan, nan, nan, nan, nan, nan, nan, nan, nan, nan, nan, nan, nan, nan, nan, nan, nan, nan, nan, nan, nan, nan, nan, nan, nan, nan, nan, nan, nan, nan, nan, nan, nan, nan, nan, nan, nan, nan, nan, nan, nan, nan, nan, nan, nan, nan, nan, nan, nan, nan, nan, nan, nan, nan, nan, nan, nan, nan, nan, nan, nan, nan, nan, nan, nan, nan, nan, nan, nan, nan, nan, nan, nan, nan, nan, nan, nan, nan, nan, nan, nan, nan, nan, nan, nan, nan, nan, nan, nan, nan, nan, nan, nan, nan, nan, nan, nan, nan, nan, nan, nan, nan, nan, nan, nan, nan, nan, nan, nan, nan, nan, nan, nan, nan, nan, nan, nan, nan, nan, nan, nan, nan, nan, nan, nan, nan, nan, nan, nan, nan, nan, nan, nan, nan, nan, nan, nan, nan, nan, nan, nan, nan, nan, nan, nan, nan, nan, nan, nan, nan, nan, nan, nan, nan, nan, nan, nan, nan, nan, nan, nan, nan, nan, nan, nan, nan, nan, nan, nan, nan, nan, nan, nan, nan, nan, nan, nan, nan, nan, nan, nan, nan, nan, nan, nan, nan, nan, nan, nan, nan, nan, nan, nan, nan, nan, nan, nan, nan, nan, nan, nan, nan, nan, nan, nan, nan, nan, nan, nan, nan, nan, nan, nan, nan, nan, nan, nan, nan, nan, nan, nan, nan, nan, nan, nan, nan, nan, nan, nan, nan, nan, nan, nan, nan, nan, nan, nan, nan, nan, nan, nan, nan, nan, nan, nan, nan, nan, nan, nan, nan, nan, nan, nan, nan, nan, nan, nan, nan, nan, nan, nan, nan, nan, nan, nan, nan, nan, nan, nan, nan, nan, nan, nan, nan, nan, nan, nan, nan, nan, nan, nan, nan, nan, nan, nan, nan, nan, nan, nan, nan, nan, nan, nan, nan, nan, nan, nan, nan, nan, nan, nan, nan, nan, nan, nan, nan, nan, nan, nan, nan, nan, nan, nan, nan, nan, nan, nan, nan, nan, nan, nan, nan, nan, nan, nan, nan, nan, nan, nan, nan, nan, nan, nan, nan, nan, nan, nan, nan, nan, nan, nan, nan, nan, nan, nan, nan, nan, nan, nan, nan, nan, nan, nan, nan, nan, nan, nan, nan, nan, nan, nan, nan, nan, nan, nan, nan, nan, nan, nan, nan, nan, nan, nan, nan, nan, nan, nan, nan, nan, nan, nan, nan, nan, nan, nan, nan, nan, nan, nan, nan, nan, nan, nan, nan, nan, nan, nan, nan, nan, nan, nan, nan, nan, nan, nan, nan, nan, nan, nan, nan, nan, nan, nan, nan, nan, nan, nan, nan, nan, nan, nan, nan, nan, nan, nan, nan, nan, nan, nan, nan, nan, nan, nan, nan, nan, nan, nan, nan, nan, nan, nan, nan, nan, nan, nan, nan, nan, nan, nan, nan, nan, nan, nan, nan, nan, nan, nan, nan, nan, nan, nan, nan, nan, nan, nan, nan, nan, nan, nan, nan, nan, nan, nan, nan, nan, nan, nan, nan, nan, nan, nan, nan, nan, nan, nan, nan, nan, nan, nan, nan, nan, nan, nan, nan, nan, nan, nan, nan, nan, nan, nan, nan, nan, nan, nan, nan, nan, nan, nan, nan, nan, nan, nan, nan, nan, nan, nan, nan, nan, nan, nan, nan, nan, nan, nan, nan, nan, nan, nan, nan, nan, nan, nan, nan, nan, nan, nan, nan, nan, nan, nan, nan, nan, nan, nan, nan, nan, nan, nan, nan, nan, nan, nan, nan, nan, nan, nan, nan, nan, nan, nan, nan, nan, nan, nan, nan, nan, nan, nan, nan, nan, nan, nan, nan, nan, nan, nan, nan, nan, nan, nan, nan, nan, nan, nan, nan, nan, nan, nan, nan, nan, nan, nan, nan, nan, nan, nan, nan, nan, nan, nan, nan, nan, nan, nan, nan, nan, nan, nan, nan, nan, nan, nan, nan, nan, nan, nan, nan, nan, nan, nan, nan, nan, nan, nan, nan, nan, nan, nan, nan, nan, nan, nan, nan, nan, nan, nan, nan, nan, nan, nan, nan, nan, nan, nan, nan, nan, nan, nan, nan, nan, nan, nan, nan, nan, nan, nan, nan, nan, nan, nan, nan, nan, nan, nan, nan, nan, nan, nan, nan, nan, nan, nan, nan, nan, nan, nan, nan, nan, nan, nan, nan, nan, nan, nan, nan, nan, nan, nan, nan, nan, nan, nan, nan, nan, nan, nan, nan, nan, nan, nan, nan, nan, nan, nan, nan, nan, nan, nan, nan, nan, nan, nan, nan, nan, nan, nan, nan, nan, nan, nan, nan, nan, nan, nan, nan, nan, nan, nan, nan, nan, nan, nan, nan, nan, nan, nan, nan, nan, nan, nan, nan, nan, nan, nan, nan, nan, nan, nan, nan, nan, nan, nan, nan, nan, nan, nan, nan, nan, nan, nan, nan, nan, nan, nan, nan, nan, nan, nan, nan, nan, nan, nan, nan, nan, nan, nan, nan, nan, nan, nan, nan, nan, nan, nan, nan, nan, nan, nan, nan, nan, nan, nan, nan, nan, nan, nan, nan, nan, nan, nan, nan, nan, nan, nan, nan, nan, nan, nan, nan, nan, nan, nan, nan, nan, nan, nan, nan, nan, nan, nan, nan, nan, nan, nan, nan, nan, nan, nan, nan, nan, nan, nan, nan, nan, nan, nan, nan, nan, nan, nan, nan, nan, nan, nan, nan, nan, nan, nan, nan, nan, nan, nan, nan, nan, nan, nan, nan, nan, nan, nan, nan, nan, nan, nan, nan, nan, nan, nan, nan, nan, nan, nan, nan, nan, nan, nan, nan, nan, nan, nan, nan, nan, nan, nan, nan, nan, nan, nan, nan, nan, nan, nan, nan, nan, nan, nan, nan, nan, nan, nan, nan, nan, nan, nan, nan, nan, nan, nan, nan, nan, nan, nan, nan, nan, nan, nan, nan, nan, nan, nan, nan, nan, nan, nan, nan, nan, nan, nan, nan, nan, nan, nan, nan, nan, nan, nan, nan, nan, nan, nan, nan, nan, nan, nan, nan, nan, nan, nan, nan, nan, nan, nan, nan, nan, nan, nan, nan, nan, nan, nan, nan, nan, nan, nan, nan, nan, nan, nan, nan, nan, nan, nan, nan, nan, nan, nan, nan, nan, nan, nan, nan, nan, nan, nan, nan, nan, nan, nan, nan, nan, nan, nan, nan, nan, nan, nan, nan, nan, nan, nan, nan, nan, nan, nan, nan, nan, nan, nan, nan, nan, nan, nan, nan, nan, nan, nan, nan, nan, nan, nan, nan, nan, nan, nan, nan, nan, nan, nan, nan, nan, nan, nan, nan, nan, nan, nan, nan, nan, nan, nan, nan, nan, nan, nan, nan, nan, nan, nan, nan, nan, nan, nan, nan, nan, nan, nan, nan, nan, nan, nan, nan, nan, nan, nan, nan, nan, nan, nan, nan, nan, nan, nan, nan, nan, nan, nan, nan, nan, nan, nan, nan, nan, nan, nan, nan, nan, nan, nan, nan, nan, nan, nan, nan, nan, nan, nan, nan, nan, nan, nan, nan, nan, nan, nan, nan, nan, nan, nan, nan, nan, nan, nan, nan, nan, nan, nan, nan, nan, nan, nan, nan, nan, nan, nan, nan, nan, nan, nan, nan, nan, nan, nan, nan, nan, nan, nan, nan, nan, nan, nan, nan, nan, nan, nan, nan, nan, nan, nan, nan, nan, nan, nan, nan, nan, nan, nan, nan, nan, nan, nan, nan, nan, nan, nan, nan, nan, nan, nan, nan, nan, nan, nan, nan, nan, nan, nan, nan, nan, nan, nan, nan, nan, nan, nan, nan, nan, nan, nan, nan, nan, nan, nan, nan, nan, nan, nan, nan, nan, nan, nan, nan, nan, nan, nan, nan, nan, nan, nan, nan, nan, nan, nan, nan, nan, nan, nan, nan, nan, nan, nan, nan, nan, nan, nan, nan, nan, nan, nan, nan, nan, nan, nan, nan, nan, nan, nan, nan, nan, nan, nan, nan, nan, nan, nan, nan, nan, nan, nan, nan, nan, nan, nan, nan, nan, nan, nan, nan, nan, nan, nan, nan, nan, nan, nan, nan, nan, nan, nan, nan, nan, nan, nan, nan, nan, nan, nan, nan, nan, nan, nan, nan, nan, nan, nan, nan, nan, nan, nan, nan, nan, nan, nan, nan, nan, nan, nan, nan, nan, nan, nan, nan, nan, nan, nan, nan, nan, nan, nan, nan, nan, nan, nan, nan, nan, nan, nan, nan, nan, nan, nan, nan, nan, nan, nan, nan, nan, nan, nan, nan, nan, nan, nan, nan, nan, nan, nan, nan, nan, nan, nan, nan, nan, nan, nan, nan, nan, nan, nan, nan, nan, nan, nan, nan, nan, nan, nan, nan, nan, nan, nan, nan, nan, nan, nan, nan, nan, nan, nan, nan, nan, nan, nan, nan, nan, nan, nan, nan, nan, nan, nan, nan, nan, nan, nan, nan, nan, nan, nan, nan, nan, nan, nan, nan, nan, nan, nan, nan, nan, nan, nan, nan, nan, nan, nan, nan, nan, nan, nan, nan, nan, nan, nan, nan, nan, nan, nan, nan, nan, nan, nan, nan, nan, nan, nan, nan, nan, nan, nan, nan, nan, nan, nan, nan, nan, nan, nan, nan, nan, nan, nan, nan, nan, nan, nan, nan, nan, nan, nan, nan, nan, nan, nan, nan, nan, nan, nan, nan, nan, nan, nan, nan, nan, nan, nan, nan, nan, nan, nan, nan, nan, nan, nan, nan, nan, nan, nan, nan, nan, nan, nan, nan, nan, nan, nan, nan, nan, nan, nan, nan, nan, nan, nan, nan, nan, nan, nan, nan, nan, nan, nan, nan, nan, nan, nan, nan, nan, nan, nan, nan, nan, nan, nan, nan, nan, nan, nan, nan, nan, nan, nan, nan, nan, nan, nan, nan, nan, nan, nan, nan, nan, nan, nan, nan, nan, nan, nan, nan, nan, nan, nan, nan, nan, nan, nan, nan, nan, nan, nan, nan, nan, nan, nan, nan, nan, nan, nan, nan, nan, nan, nan, nan, nan, nan, nan, nan, nan, nan, nan, nan, nan, nan, nan, nan, nan, nan, nan, nan, nan, nan, nan, nan, nan, nan, nan, nan, nan, nan, nan, nan, nan, nan, nan, nan, nan, nan, nan, nan, nan, nan, nan, nan, nan, nan, nan, nan, nan, nan, nan, nan, nan, nan, nan, nan, nan, nan, nan, nan, nan, nan, nan, nan, nan, nan, nan, nan, nan, nan, nan, nan, nan, nan, nan, nan, nan, nan, nan, nan, nan, nan, nan, nan, nan, nan, nan, nan, nan, nan, nan, nan, nan, nan, nan, nan, nan, nan, nan, nan, nan, nan, nan, nan, nan, nan, nan, nan, nan, nan, nan, nan, nan, nan, nan, nan, nan, nan, nan, nan, nan, nan, nan, nan, nan, nan, nan, nan, nan, nan, nan, nan, nan, nan, nan, nan, nan, nan, nan, nan, nan, nan, nan, nan, nan, nan, nan, nan, nan, nan, nan, nan, nan, nan, nan, nan, nan, nan, nan, nan, nan, nan, nan, nan, nan, nan, nan, nan, nan, nan, nan, nan, nan, nan, nan, nan, nan, nan, nan, nan, nan, nan, nan, nan, nan, nan, nan, nan, nan, nan, nan, nan, nan, nan, nan, nan, nan, nan, nan, nan, nan, nan, nan, nan, nan, nan, nan, nan, nan, nan, nan, nan, nan, nan, nan, nan, nan, nan, nan, nan, nan, nan, nan, nan, nan, nan, nan, nan, nan, nan, nan, nan, nan, nan, nan, nan, nan, nan, nan, nan, nan, nan, nan, nan, nan, nan, nan, nan, nan, nan, nan, nan, nan, nan, nan, nan, nan, nan, nan, nan, nan, nan, nan, nan, nan, nan, nan, nan, nan, nan, nan, nan, nan, nan, nan, nan, nan, nan, nan, nan, nan, nan, nan, nan, nan, nan, nan, nan, nan, nan, nan, nan, nan, nan, nan, nan, nan, nan, nan, nan, nan, nan, nan, nan, nan, nan, nan, nan, nan, nan, nan, nan, nan, nan, nan, nan, nan, nan, nan, nan, nan, nan, nan, nan, nan, nan, nan, nan, nan, nan, nan, nan, nan, nan, nan, nan, nan, nan, nan, nan, nan, nan, nan, nan, nan, nan, nan, nan, nan, nan, nan, nan, nan, nan, nan, nan, nan, nan, nan, nan, nan, nan, nan, nan, nan, nan, nan, nan, nan, nan, nan, nan, nan, nan, nan, nan, nan, nan, nan, nan, nan, nan, nan, nan, nan, nan, nan, nan, nan, nan, nan, nan, nan, nan, nan, nan, nan, nan, nan, nan, nan, nan, nan, nan, nan, nan, nan, nan, nan, nan, nan, nan, nan, nan, nan, nan, nan, nan, nan, nan, nan, nan, nan, nan, nan, nan, nan, nan, nan, nan, nan, nan, nan, nan, nan, nan, nan, nan, nan, nan, nan, nan, nan, nan, nan, nan, nan, nan, nan, nan, nan, nan, nan, nan, nan, nan, nan, nan, nan, nan, nan, nan, nan, nan, nan, nan, nan, nan, nan, nan, nan, nan, nan, nan, nan, nan, nan, nan, nan, nan, nan, nan, nan, nan, nan, nan, nan, nan, nan, nan, nan, nan, nan, nan, nan, nan, nan, nan, nan, nan, nan, nan, nan, nan, nan, nan, nan, nan, nan, nan, nan, nan, nan, nan, nan, nan, nan, nan, nan, nan, nan, nan, nan, nan, nan, nan, nan, nan, nan, nan, nan, nan, nan, nan, nan, nan, nan, nan, nan, nan, nan, nan, nan, nan, nan, nan, nan, nan, nan, nan, nan, nan, nan, nan, nan, nan, nan, nan, nan, nan, nan, nan, nan, nan, nan, nan, nan, nan, nan, nan, nan, nan, nan, nan, nan, nan, nan, nan, nan, nan, nan, nan, nan, nan, nan, nan, nan, nan, nan, nan, nan, nan, nan, nan, nan, nan, nan, nan, nan, nan, nan, nan, nan, nan, nan, nan, nan, nan, nan, nan, nan, nan, nan, nan, nan, nan, nan, nan, nan, nan, nan, nan, nan, nan, nan, nan, nan, nan, nan, nan, nan, nan, nan, nan, nan, nan, nan, nan, nan, nan, nan, nan, nan, nan, nan, nan, nan, nan, nan, nan, nan, nan, nan, nan, nan, nan, nan, nan, nan, nan, nan, nan, nan, nan, nan, nan, nan, nan, nan, nan, nan, nan, nan, nan, nan, nan, nan, nan, nan, nan, nan, nan, nan, nan, nan, nan, nan, nan, nan, nan, nan, nan, nan, nan, nan, nan, nan, nan, nan, nan, nan, nan, nan, nan, nan, nan, nan, nan, nan, nan, nan, nan, nan, nan, nan, nan, nan, nan, nan, nan, nan, nan, nan, nan, nan, nan, nan, nan, nan, nan, nan, nan, nan, nan, nan, nan, nan, nan, nan, nan, nan, nan, nan, nan, nan, nan, nan, nan, nan, nan, nan, nan, nan, nan, nan, nan, nan, nan, nan, nan, nan, nan, nan, nan, nan, nan, nan, nan, nan, nan, nan, nan, nan, nan, nan, nan, nan, nan, nan, nan, nan, nan, nan, nan, nan, nan, nan, nan, nan, nan, nan, nan, nan, nan, nan, nan, nan, nan, nan, nan, nan, nan, nan, nan, nan, nan, nan, nan, nan, nan, nan, nan, nan, nan, nan, nan, nan, nan, nan, nan, nan, nan, nan, nan, nan, nan]\n"
          ]
        },
        {
          "output_type": "execute_result",
          "data": {
            "text/plain": [
              "[<matplotlib.lines.Line2D at 0x79b101b2bd90>]"
            ]
          },
          "metadata": {},
          "execution_count": 136
        },
        {
          "output_type": "display_data",
          "data": {
            "text/plain": [
              "<Figure size 640x480 with 1 Axes>"
            ],
            "image/png": "[encoded data removed]"
          },
          "metadata": {}
        }
      ]
    }
  ]
}