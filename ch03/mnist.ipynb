{
  "nbformat": 4,
  "nbformat_minor": 0,
  "metadata": {
    "colab": {
      "provenance": [],
      "authorship_tag": "ABX9TyMfZGjh+C5ShTKzyS/CWxUh",
      "include_colab_link": true
    },
    "kernelspec": {
      "name": "python3",
      "display_name": "Python 3"
    },
    "language_info": {
      "name": "python"
    }
  },
  "cells": [
    {
      "cell_type": "markdown",
      "metadata": {
        "id": "view-in-github",
        "colab_type": "text"
      },
      "source": [
        "<a href=\"https://colab.research.google.com/github/Qualot/deep-learning-from-scratch/blob/colab/ch03/mnist.ipynb\" target=\"_parent\"><img src=\"https://colab.research.google.com/assets/colab-badge.svg\" alt=\"Open In Colab\"/></a>"
      ]
    },
    {
      "cell_type": "code",
      "source": [
        "!pwd\n",
        "!git clone https://github.com/Qualot/deep-learning-from-scratch.git zerotsuku\n",
        "!ls zerotsuku"
      ],
      "metadata": {
        "colab": {
          "base_uri": "https://localhost:8080/"
        },
        "id": "s1OTW0CMuezq",
        "outputId": "b3e74bf6-b092-4b99-e577-99879446c613"
      },
      "execution_count": 1,
      "outputs": [
        {
          "output_type": "stream",
          "name": "stdout",
          "text": [
            "/content\n",
            "Cloning into 'zerotsuku'...\n",
            "remote: Enumerating objects: 594, done.\u001b[K\n",
            "remote: Counting objects: 100% (80/80), done.\u001b[K\n",
            "remote: Compressing objects: 100% (80/80), done.\u001b[K\n",
            "remote: Total 594 (delta 54), reused 0 (delta 0), pack-reused 514\u001b[K\n",
            "Receiving objects: 100% (594/594), 9.93 MiB | 28.88 MiB/s, done.\n",
            "Resolving deltas: 100% (331/331), done.\n",
            "ch01  ch03  ch05  ch07\tcommon\t environment.yml  notebooks\n",
            "ch02  ch04  ch06  ch08\tdataset  LICENSE.md\t  README.md\n"
          ]
        }
      ]
    },
    {
      "cell_type": "code",
      "execution_count": 2,
      "metadata": {
        "id": "c6N76g1m4Ltm"
      },
      "outputs": [],
      "source": [
        "import numpy as np\n",
        "import matplotlib.pyplot as plt\n",
        "import pickle"
      ]
    },
    {
      "cell_type": "markdown",
      "source": [
        "##dataset ... eliminated due to install problems"
      ],
      "metadata": {
        "id": "1AqtEnBo6SsE"
      }
    },
    {
      "cell_type": "code",
      "source": [
        "#!pip3 install dataset\n",
        "#from dataset.mnist import load_mnist"
      ],
      "metadata": {
        "id": "GtxPmW0zaap0"
      },
      "execution_count": 3,
      "outputs": []
    },
    {
      "cell_type": "code",
      "source": [
        "#https://marshmallow444.github.io/tech_blog/2021/08/09/zero-tsuku-chpt3.html\n",
        "from keras.datasets import mnist"
      ],
      "metadata": {
        "id": "oJ_JQVDIrc4_"
      },
      "execution_count": 4,
      "outputs": []
    },
    {
      "cell_type": "code",
      "source": [
        "np.set_printoptions(linewidth=10000)"
      ],
      "metadata": {
        "id": "7VfJVs5k7B3R"
      },
      "execution_count": 5,
      "outputs": []
    },
    {
      "cell_type": "code",
      "source": [
        "def step_function_numpy_not_available(x):\n",
        "  if x > 0:\n",
        "    return 1\n",
        "  else:\n",
        "    return 0"
      ],
      "metadata": {
        "id": "Q6gDQ4974P08"
      },
      "execution_count": 6,
      "outputs": []
    },
    {
      "cell_type": "code",
      "source": [
        "x = np.arange(-5, 5, 0.1)\n",
        "print(x)\n",
        "#y = step_function_numpy_not_available(x)"
      ],
      "metadata": {
        "colab": {
          "base_uri": "https://localhost:8080/"
        },
        "id": "vbou9txh4Uhf",
        "outputId": "0f8d3e1b-1891-4db5-dad8-f0c2fbe60402"
      },
      "execution_count": 7,
      "outputs": [
        {
          "output_type": "stream",
          "name": "stdout",
          "text": [
            "[-5.00000000e+00 -4.90000000e+00 -4.80000000e+00 -4.70000000e+00 -4.60000000e+00 -4.50000000e+00 -4.40000000e+00 -4.30000000e+00 -4.20000000e+00 -4.10000000e+00 -4.00000000e+00 -3.90000000e+00 -3.80000000e+00 -3.70000000e+00 -3.60000000e+00 -3.50000000e+00 -3.40000000e+00 -3.30000000e+00 -3.20000000e+00 -3.10000000e+00 -3.00000000e+00 -2.90000000e+00 -2.80000000e+00 -2.70000000e+00 -2.60000000e+00 -2.50000000e+00 -2.40000000e+00 -2.30000000e+00 -2.20000000e+00 -2.10000000e+00 -2.00000000e+00 -1.90000000e+00 -1.80000000e+00 -1.70000000e+00 -1.60000000e+00 -1.50000000e+00 -1.40000000e+00 -1.30000000e+00 -1.20000000e+00 -1.10000000e+00 -1.00000000e+00 -9.00000000e-01 -8.00000000e-01 -7.00000000e-01 -6.00000000e-01 -5.00000000e-01 -4.00000000e-01 -3.00000000e-01 -2.00000000e-01 -1.00000000e-01 -1.77635684e-14  1.00000000e-01  2.00000000e-01  3.00000000e-01  4.00000000e-01  5.00000000e-01  6.00000000e-01  7.00000000e-01  8.00000000e-01  9.00000000e-01  1.00000000e+00  1.10000000e+00  1.20000000e+00  1.30000000e+00  1.40000000e+00  1.50000000e+00  1.60000000e+00  1.70000000e+00  1.80000000e+00  1.90000000e+00  2.00000000e+00  2.10000000e+00  2.20000000e+00  2.30000000e+00  2.40000000e+00  2.50000000e+00  2.60000000e+00  2.70000000e+00  2.80000000e+00  2.90000000e+00  3.00000000e+00  3.10000000e+00  3.20000000e+00  3.30000000e+00  3.40000000e+00  3.50000000e+00  3.60000000e+00  3.70000000e+00  3.80000000e+00  3.90000000e+00  4.00000000e+00  4.10000000e+00  4.20000000e+00  4.30000000e+00  4.40000000e+00  4.50000000e+00  4.60000000e+00  4.70000000e+00  4.80000000e+00  4.90000000e+00]\n"
          ]
        }
      ]
    },
    {
      "cell_type": "code",
      "source": [
        "def step_function(x):\n",
        "  y = x > 0\n",
        "  return y.astype(np.int)"
      ],
      "metadata": {
        "id": "4UyDAqpz4eU5"
      },
      "execution_count": 8,
      "outputs": []
    },
    {
      "cell_type": "code",
      "source": [
        "x = np.array([-1.0, 1.0, 2.0])\n",
        "print(x)\n",
        "y = x > 0\n",
        "print(y)"
      ],
      "metadata": {
        "id": "r5cRBtY_AfMj",
        "colab": {
          "base_uri": "https://localhost:8080/"
        },
        "outputId": "a9bd6d4d-62d0-4c82-a194-0df6d8ac2dfc"
      },
      "execution_count": 9,
      "outputs": [
        {
          "output_type": "stream",
          "name": "stdout",
          "text": [
            "[-1.  1.  2.]\n",
            "[False  True  True]\n"
          ]
        }
      ]
    },
    {
      "cell_type": "code",
      "source": [
        "y = y.astype(int)\n",
        "print(y)"
      ],
      "metadata": {
        "id": "miSdCU7pAnLh",
        "colab": {
          "base_uri": "https://localhost:8080/"
        },
        "outputId": "3891dfd0-5dc3-40b3-c6fa-e6c63857c4c7"
      },
      "execution_count": 10,
      "outputs": [
        {
          "output_type": "stream",
          "name": "stdout",
          "text": [
            "[0 1 1]\n"
          ]
        }
      ]
    },
    {
      "cell_type": "code",
      "source": [
        "x = np.arange(-5,5,0.1)\n",
        "y = step_function(x)\n",
        "plt.plot(x, y)\n",
        "plt.ylim(-0.1, 1.1)\n",
        "plt.show()"
      ],
      "metadata": {
        "id": "iWPIqR4_AuXw",
        "colab": {
          "base_uri": "https://localhost:8080/",
          "height": 502
        },
        "outputId": "7f6e8c2f-43b4-4be0-c157-4c7d62b984a6"
      },
      "execution_count": 11,
      "outputs": [
        {
          "output_type": "stream",
          "name": "stderr",
          "text": [
            "<ipython-input-8-0fc41ff81b35>:3: DeprecationWarning: `np.int` is a deprecated alias for the builtin `int`. To silence this warning, use `int` by itself. Doing this will not modify any behavior and is safe. When replacing `np.int`, you may wish to use e.g. `np.int64` or `np.int32` to specify the precision. If you wish to review your current use, check the release note link for additional information.\n",
            "Deprecated in NumPy 1.20; for more details and guidance: https://numpy.org/devdocs/release/1.20.0-notes.html#deprecations\n",
            "  return y.astype(np.int)\n"
          ]
        },
        {
          "output_type": "display_data",
          "data": {
            "text/plain": [
              "<Figure size 640x480 with 1 Axes>"
            ],
            "image/png": "[encoded data removed]"
          },
          "metadata": {}
        }
      ]
    },
    {
      "cell_type": "code",
      "source": [
        "def sigmoid(x):\n",
        "  return 1 / (1 + np.exp(-x))"
      ],
      "metadata": {
        "id": "RrU26gMTBFNu"
      },
      "execution_count": 12,
      "outputs": []
    },
    {
      "cell_type": "code",
      "source": [
        "x = np.array([-1.0, 1.0, 2.0])\n",
        "sigmoid(x)"
      ],
      "metadata": {
        "id": "TEcchyI5BWOe",
        "colab": {
          "base_uri": "https://localhost:8080/"
        },
        "outputId": "93b7d667-4131-470f-b64c-f29e7a92ec65"
      },
      "execution_count": 13,
      "outputs": [
        {
          "output_type": "execute_result",
          "data": {
            "text/plain": [
              "array([0.26894142, 0.73105858, 0.88079708])"
            ]
          },
          "metadata": {},
          "execution_count": 13
        }
      ]
    },
    {
      "cell_type": "code",
      "source": [
        "t = np.array([1.0, 2.0, 3.0])\n",
        "print(1.0 + t)\n",
        "print(1.0 / t)"
      ],
      "metadata": {
        "id": "Yfkf67RLBaBx",
        "colab": {
          "base_uri": "https://localhost:8080/"
        },
        "outputId": "ee7bcd31-bfed-44a2-82b8-4513909c48d1"
      },
      "execution_count": 14,
      "outputs": [
        {
          "output_type": "stream",
          "name": "stdout",
          "text": [
            "[2. 3. 4.]\n",
            "[1.         0.5        0.33333333]\n"
          ]
        }
      ]
    },
    {
      "cell_type": "code",
      "source": [
        "x = np.arange(-5.0, 5.0, 0.1)\n",
        "y = sigmoid(x)\n",
        "plt.plot(x, y)\n",
        "plt.ylim(-0.1, 1.1)\n",
        "plt.show()"
      ],
      "metadata": {
        "id": "9AqYM4-OBjv9",
        "colab": {
          "base_uri": "https://localhost:8080/",
          "height": 430
        },
        "outputId": "6f37c81d-3f59-4ade-fbcd-609b51446aac"
      },
      "execution_count": 15,
      "outputs": [
        {
          "output_type": "display_data",
          "data": {
            "text/plain": [
              "<Figure size 640x480 with 1 Axes>"
            ],
            "image/png": "[encoded data removed]"
          },
          "metadata": {}
        }
      ]
    },
    {
      "cell_type": "code",
      "source": [
        "def relu(x):\n",
        "  return np.maximum(0, x)"
      ],
      "metadata": {
        "id": "cfyRPC6-BvLT"
      },
      "execution_count": 16,
      "outputs": []
    },
    {
      "cell_type": "code",
      "source": [
        "x = np.arange(-5, 5, 0.1)\n",
        "y = relu(x)\n",
        "plt.plot(x, y)\n",
        "plt.show()"
      ],
      "metadata": {
        "id": "Vv30152OCHlK",
        "colab": {
          "base_uri": "https://localhost:8080/",
          "height": 430
        },
        "outputId": "d0e9542c-6fec-4dab-bc9d-d940b6740a33"
      },
      "execution_count": 17,
      "outputs": [
        {
          "output_type": "display_data",
          "data": {
            "text/plain": [
              "<Figure size 640x480 with 1 Axes>"
            ],
            "image/png": "[encoded data removed]"
          },
          "metadata": {}
        }
      ]
    },
    {
      "cell_type": "code",
      "source": [
        "A = np.array([1, 2, 3, 4])\n",
        "print(A)\n",
        "print(np.ndim(A))\n",
        "print(A.shape)\n",
        "print(A.shape[0])"
      ],
      "metadata": {
        "id": "mKUWeOsiCRSG",
        "colab": {
          "base_uri": "https://localhost:8080/"
        },
        "outputId": "a4d97b9a-5dec-4d9c-a84c-2097ded9ef9a"
      },
      "execution_count": 18,
      "outputs": [
        {
          "output_type": "stream",
          "name": "stdout",
          "text": [
            "[1 2 3 4]\n",
            "1\n",
            "(4,)\n",
            "4\n"
          ]
        }
      ]
    },
    {
      "cell_type": "code",
      "source": [
        "B = np.array([[1, 2], [3, 4]])\n",
        "print(B)\n",
        "print(np.ndim(B))\n",
        "print(B.shape)\n",
        "print(B.shape[0])"
      ],
      "metadata": {
        "id": "hhB_U96OHI2h",
        "colab": {
          "base_uri": "https://localhost:8080/"
        },
        "outputId": "850f4aa8-4d4e-4843-a11d-94e7e83f0f41"
      },
      "execution_count": 19,
      "outputs": [
        {
          "output_type": "stream",
          "name": "stdout",
          "text": [
            "[[1 2]\n",
            " [3 4]]\n",
            "2\n",
            "(2, 2)\n",
            "2\n"
          ]
        }
      ]
    },
    {
      "cell_type": "code",
      "source": [
        "A = np.array([[1, 2], [3, 4]])\n",
        "B = np.array([[5, 6], [7, 8]])\n",
        "print(np.dot(A, B))"
      ],
      "metadata": {
        "id": "sjPyAfGFHP3r",
        "colab": {
          "base_uri": "https://localhost:8080/"
        },
        "outputId": "82bf8fb1-a810-4421-cfbb-57a95d9c3a54"
      },
      "execution_count": 20,
      "outputs": [
        {
          "output_type": "stream",
          "name": "stdout",
          "text": [
            "[[19 22]\n",
            " [43 50]]\n"
          ]
        }
      ]
    },
    {
      "cell_type": "code",
      "source": [
        "A = np.array([[1, 2, 3], [4, 5, 6]])\n",
        "print(A.shape)\n",
        "B = np.array([[1, 2], [3, 4], [5, 6]])\n",
        "print(B.shape)\n",
        "print(np.dot(A, B))"
      ],
      "metadata": {
        "id": "Npg1QHeDHt1C",
        "colab": {
          "base_uri": "https://localhost:8080/"
        },
        "outputId": "61482cc7-df8d-4f48-96c3-04c4eecdf9c6"
      },
      "execution_count": 21,
      "outputs": [
        {
          "output_type": "stream",
          "name": "stdout",
          "text": [
            "(2, 3)\n",
            "(3, 2)\n",
            "[[22 28]\n",
            " [49 64]]\n"
          ]
        }
      ]
    },
    {
      "cell_type": "code",
      "source": [
        "X = np.array([1, 2])\n",
        "print(X)\n",
        "print(X.shape)\n",
        "W = np.array([[1, 3, 5], [2, 4, 6]])\n",
        "print(W)\n",
        "print(W.shape)\n",
        "Y = np.dot(X, W)\n",
        "print(Y)\n",
        "print(Y.shape)"
      ],
      "metadata": {
        "id": "HLPKoYHDIJca",
        "colab": {
          "base_uri": "https://localhost:8080/"
        },
        "outputId": "b0474102-ee86-4d4e-e163-d654873ebd57"
      },
      "execution_count": 22,
      "outputs": [
        {
          "output_type": "stream",
          "name": "stdout",
          "text": [
            "[1 2]\n",
            "(2,)\n",
            "[[1 3 5]\n",
            " [2 4 6]]\n",
            "(2, 3)\n",
            "[ 5 11 17]\n",
            "(3,)\n"
          ]
        }
      ]
    },
    {
      "cell_type": "code",
      "source": [
        "X = np.array([1.0, 0.5])\n",
        "W1 = np.array([[0.1, 0.3, 0.5], [0.2, 0.4, 0.6]])\n",
        "B1 = np.array([0.1, 0.2, 0.3])\n",
        "\n",
        "print(W1.shape)\n",
        "print(X.shape)\n",
        "print(B1.shape)\n",
        "\n",
        "A1 = np.dot(X, W1) + B1\n",
        "print(A1)"
      ],
      "metadata": {
        "id": "2iiwcKIYJlVo",
        "colab": {
          "base_uri": "https://localhost:8080/"
        },
        "outputId": "0f9b7152-1627-454b-f7b8-f8767c1759d0"
      },
      "execution_count": 23,
      "outputs": [
        {
          "output_type": "stream",
          "name": "stdout",
          "text": [
            "(2, 3)\n",
            "(2,)\n",
            "(3,)\n",
            "[0.3 0.7 1.1]\n"
          ]
        }
      ]
    },
    {
      "cell_type": "code",
      "source": [
        "Z1 = sigmoid(A1)\n",
        "print(Z1)"
      ],
      "metadata": {
        "id": "iQdjioQyS5Ou",
        "colab": {
          "base_uri": "https://localhost:8080/"
        },
        "outputId": "5bad26e3-636a-4385-91c8-660b89cf015d"
      },
      "execution_count": 24,
      "outputs": [
        {
          "output_type": "stream",
          "name": "stdout",
          "text": [
            "[0.57444252 0.66818777 0.75026011]\n"
          ]
        }
      ]
    },
    {
      "cell_type": "code",
      "source": [
        "W2 = np.array([[0.1, 0.4], [0.2, 0.5], [0.3, 0.6]])\n",
        "B2 = np.array([0.1, 0.2])\n",
        "\n",
        "print(Z1.shape)\n",
        "print(W2.shape)\n",
        "print(B2.shape)"
      ],
      "metadata": {
        "id": "U5kSdzp7TG_9",
        "colab": {
          "base_uri": "https://localhost:8080/"
        },
        "outputId": "0750dcb5-0793-468e-8400-1c3462dc59f4"
      },
      "execution_count": 25,
      "outputs": [
        {
          "output_type": "stream",
          "name": "stdout",
          "text": [
            "(3,)\n",
            "(3, 2)\n",
            "(2,)\n"
          ]
        }
      ]
    },
    {
      "cell_type": "code",
      "source": [
        "A2 = np.dot(Z1, W2) + B2\n",
        "Z2 = sigmoid(A2)\n",
        "print(A2)\n",
        "print(Z2)"
      ],
      "metadata": {
        "id": "6DsmLITzTm4D",
        "colab": {
          "base_uri": "https://localhost:8080/"
        },
        "outputId": "99353c05-f1cb-4ca1-a834-41d49e3e9267"
      },
      "execution_count": 26,
      "outputs": [
        {
          "output_type": "stream",
          "name": "stdout",
          "text": [
            "[0.51615984 1.21402696]\n",
            "[0.62624937 0.7710107 ]\n"
          ]
        }
      ]
    },
    {
      "cell_type": "code",
      "source": [
        "def identity_function(x):\n",
        "  return x"
      ],
      "metadata": {
        "id": "rROP3P67T41z"
      },
      "execution_count": 27,
      "outputs": []
    },
    {
      "cell_type": "code",
      "source": [
        "W3 = np.array([[0.1, 0.3], [0.2, 0.4]])\n",
        "B3 = np.array([0.1, 0.2])"
      ],
      "metadata": {
        "id": "e5_OcsRZUA_R"
      },
      "execution_count": 28,
      "outputs": []
    },
    {
      "cell_type": "code",
      "source": [
        "A3 = np.dot(Z2, W3) + B3\n",
        "Y = identity_function(A3)\n",
        "print(Y)"
      ],
      "metadata": {
        "id": "adUBk6cuUILF",
        "colab": {
          "base_uri": "https://localhost:8080/"
        },
        "outputId": "2a8fd20b-7921-4bec-dd26-4b6462f8b09e"
      },
      "execution_count": 29,
      "outputs": [
        {
          "output_type": "stream",
          "name": "stdout",
          "text": [
            "[0.31682708 0.69627909]\n"
          ]
        }
      ]
    },
    {
      "cell_type": "code",
      "source": [
        "def init_network_example():\n",
        "  network = {}\n",
        "  network['W1'] = np.array([[0.1, 0.3, 0.5], [0.2, 0.4, 0.6]])\n",
        "  network['b1'] = np.array([0.1, 0.2, 0.3])\n",
        "  network['W2'] = np.array([[0.1, 0.4], [0.2, 0.5], [0.3, 0.6]])\n",
        "  network['b2'] = np.array([0.1, 0.2])\n",
        "  network['W3'] = np.array([[0.1, 0.3], [0.2, 0.4]])\n",
        "  network['b3'] = np.array([0.1, 0.2])\n",
        "\n",
        "  return network\n",
        "\n",
        "\n",
        "def forward_example(network, x):\n",
        "  W1, W2, W3 = network['W1'], network['W2'], network['W3']\n",
        "  b1, b2, b3 = network['b1'], network['b2'], network['b3']\n",
        "\n",
        "  a1 = np.dot(x, W1) + b1\n",
        "  z1 = sigmoid(a1)\n",
        "  a2 = np.dot(z1, W2) + b2\n",
        "  z2 = sigmoid(a2)\n",
        "  a3 = np.dot(z2, W3) + b3\n",
        "  y = identity_function(a3)\n",
        "\n",
        "  return y\n",
        "\n",
        "\n",
        "network = init_network_example()\n",
        "x = np.array([1.0, 0.5])\n",
        "y = forward_example(network, x)\n",
        "print(y)\n"
      ],
      "metadata": {
        "id": "L4DBng74UOCI",
        "colab": {
          "base_uri": "https://localhost:8080/"
        },
        "outputId": "d3e334f4-afd7-4ed7-bb5d-79a797777638"
      },
      "execution_count": 30,
      "outputs": [
        {
          "output_type": "stream",
          "name": "stdout",
          "text": [
            "[0.31682708 0.69627909]\n"
          ]
        }
      ]
    },
    {
      "cell_type": "code",
      "source": [
        "a = np.array([0.3, 2.9, 4.0])\n",
        "exp_a = np.exp(a)\n",
        "print(exp_a)\n",
        "sum_exp_a = np.sum(exp_a)\n",
        "print(sum_exp_a)\n",
        "y = exp_a / sum_exp_a\n",
        "print(y)"
      ],
      "metadata": {
        "id": "Zbj6kLbVXMDD",
        "colab": {
          "base_uri": "https://localhost:8080/"
        },
        "outputId": "77746008-6bc3-4170-d0f3-45fc266a6064"
      },
      "execution_count": 31,
      "outputs": [
        {
          "output_type": "stream",
          "name": "stdout",
          "text": [
            "[ 1.34985881 18.17414537 54.59815003]\n",
            "74.1221542101633\n",
            "[0.01821127 0.24519181 0.73659691]\n"
          ]
        }
      ]
    },
    {
      "cell_type": "code",
      "source": [
        "a = np.array([1010, 1000, 990])\n",
        "np.exp(a) / np.sum(np.exp(a))"
      ],
      "metadata": {
        "id": "B0bz0V5mYDmw",
        "colab": {
          "base_uri": "https://localhost:8080/"
        },
        "outputId": "d258447e-1cc5-4de9-eea3-29d0ffb1ac3e"
      },
      "execution_count": 32,
      "outputs": [
        {
          "output_type": "stream",
          "name": "stderr",
          "text": [
            "<ipython-input-32-23103c906500>:2: RuntimeWarning: overflow encountered in exp\n",
            "  np.exp(a) / np.sum(np.exp(a))\n",
            "<ipython-input-32-23103c906500>:2: RuntimeWarning: invalid value encountered in divide\n",
            "  np.exp(a) / np.sum(np.exp(a))\n"
          ]
        },
        {
          "output_type": "execute_result",
          "data": {
            "text/plain": [
              "array([nan, nan, nan])"
            ]
          },
          "metadata": {},
          "execution_count": 32
        }
      ]
    },
    {
      "cell_type": "code",
      "source": [
        "c = np.max(a)\n",
        "a - c"
      ],
      "metadata": {
        "id": "0ryjCwjWZKQw",
        "colab": {
          "base_uri": "https://localhost:8080/"
        },
        "outputId": "f96f7a17-b96d-4634-fdcd-e3a97eeb4ed0"
      },
      "execution_count": 33,
      "outputs": [
        {
          "output_type": "execute_result",
          "data": {
            "text/plain": [
              "array([  0, -10, -20])"
            ]
          },
          "metadata": {},
          "execution_count": 33
        }
      ]
    },
    {
      "cell_type": "code",
      "source": [
        "np.exp(a-c) / np.sum(np.exp(a-c))"
      ],
      "metadata": {
        "id": "ier0bKrvZOkf",
        "colab": {
          "base_uri": "https://localhost:8080/"
        },
        "outputId": "ee5cbfe8-e480-48b6-ec1b-36ecc768b0ec"
      },
      "execution_count": 34,
      "outputs": [
        {
          "output_type": "execute_result",
          "data": {
            "text/plain": [
              "array([9.99954600e-01, 4.53978686e-05, 2.06106005e-09])"
            ]
          },
          "metadata": {},
          "execution_count": 34
        }
      ]
    },
    {
      "cell_type": "code",
      "source": [
        "def softmax(a):\n",
        "  c = np.max(a)\n",
        "  exp_a = np.exp(a-c)\n",
        "  sum_exp_a = np.sum(exp_a)\n",
        "  y = exp_a / sum_exp_a\n",
        "  return y"
      ],
      "metadata": {
        "id": "SOtkYqmlZRd7"
      },
      "execution_count": 35,
      "outputs": []
    },
    {
      "cell_type": "code",
      "source": [
        "a = np.array([0.3, 2.9, 4.0])\n",
        "y =softmax(a)\n",
        "print(y)"
      ],
      "metadata": {
        "id": "jUg2r9f-ZfX4",
        "colab": {
          "base_uri": "https://localhost:8080/"
        },
        "outputId": "31e3ef8e-8b6a-4101-ade0-c87f46771363"
      },
      "execution_count": 36,
      "outputs": [
        {
          "output_type": "stream",
          "name": "stdout",
          "text": [
            "[0.01821127 0.24519181 0.73659691]\n"
          ]
        }
      ]
    },
    {
      "cell_type": "code",
      "source": [
        "sample_vector_1x2=np.array([1, 2])\n",
        "sample_vector_2x1=np.array([[1], [2]])\n",
        "print(sample_vector_1x2.shape)\n",
        "print(sample_vector_2x1.shape)"
      ],
      "metadata": {
        "id": "2dIFV36s78L-",
        "outputId": "f6da8a13-9925-4c62-cad0-c0ea6e5d15ca",
        "colab": {
          "base_uri": "https://localhost:8080/"
        }
      },
      "execution_count": 37,
      "outputs": [
        {
          "output_type": "stream",
          "name": "stdout",
          "text": [
            "(2,)\n",
            "(2, 1)\n"
          ]
        }
      ]
    },
    {
      "cell_type": "code",
      "source": [
        "(x_train, t_train), (x_test, t_test) = mnist.load_data()\n",
        "\n",
        "# それぞれのデータの形状を出力\n",
        "print(x_train.shape)\n",
        "print(t_train.shape)\n",
        "print(x_test.shape)\n",
        "print(t_test.shape)"
      ],
      "metadata": {
        "colab": {
          "base_uri": "https://localhost:8080/"
        },
        "id": "0qAYrKOt6mgh",
        "outputId": "cbbdb462-03c2-4e19-c826-81053b453051"
      },
      "execution_count": 38,
      "outputs": [
        {
          "output_type": "stream",
          "name": "stdout",
          "text": [
            "Downloading data from https://storage.googleapis.com/tensorflow/tf-keras-datasets/mnist.npz\n",
            "11490434/11490434 [==============================] - 0s 0us/step\n",
            "(60000, 28, 28)\n",
            "(60000,)\n",
            "(10000, 28, 28)\n",
            "(10000,)\n"
          ]
        }
      ]
    },
    {
      "cell_type": "code",
      "source": [
        "print(x_train[0])"
      ],
      "metadata": {
        "id": "-40TCueHZj7E",
        "colab": {
          "base_uri": "https://localhost:8080/"
        },
        "outputId": "5c2f8072-1407-480c-fe05-6c3539c9dcfd"
      },
      "execution_count": 39,
      "outputs": [
        {
          "output_type": "stream",
          "name": "stdout",
          "text": [
            "[[  0   0   0   0   0   0   0   0   0   0   0   0   0   0   0   0   0   0   0   0   0   0   0   0   0   0   0   0]\n",
            " [  0   0   0   0   0   0   0   0   0   0   0   0   0   0   0   0   0   0   0   0   0   0   0   0   0   0   0   0]\n",
            " [  0   0   0   0   0   0   0   0   0   0   0   0   0   0   0   0   0   0   0   0   0   0   0   0   0   0   0   0]\n",
            " [  0   0   0   0   0   0   0   0   0   0   0   0   0   0   0   0   0   0   0   0   0   0   0   0   0   0   0   0]\n",
            " [  0   0   0   0   0   0   0   0   0   0   0   0   0   0   0   0   0   0   0   0   0   0   0   0   0   0   0   0]\n",
            " [  0   0   0   0   0   0   0   0   0   0   0   0   3  18  18  18 126 136 175  26 166 255 247 127   0   0   0   0]\n",
            " [  0   0   0   0   0   0   0   0  30  36  94 154 170 253 253 253 253 253 225 172 253 242 195  64   0   0   0   0]\n",
            " [  0   0   0   0   0   0   0  49 238 253 253 253 253 253 253 253 253 251  93  82  82  56  39   0   0   0   0   0]\n",
            " [  0   0   0   0   0   0   0  18 219 253 253 253 253 253 198 182 247 241   0   0   0   0   0   0   0   0   0   0]\n",
            " [  0   0   0   0   0   0   0   0  80 156 107 253 253 205  11   0  43 154   0   0   0   0   0   0   0   0   0   0]\n",
            " [  0   0   0   0   0   0   0   0   0  14   1 154 253  90   0   0   0   0   0   0   0   0   0   0   0   0   0   0]\n",
            " [  0   0   0   0   0   0   0   0   0   0   0 139 253 190   2   0   0   0   0   0   0   0   0   0   0   0   0   0]\n",
            " [  0   0   0   0   0   0   0   0   0   0   0  11 190 253  70   0   0   0   0   0   0   0   0   0   0   0   0   0]\n",
            " [  0   0   0   0   0   0   0   0   0   0   0   0  35 241 225 160 108   1   0   0   0   0   0   0   0   0   0   0]\n",
            " [  0   0   0   0   0   0   0   0   0   0   0   0   0  81 240 253 253 119  25   0   0   0   0   0   0   0   0   0]\n",
            " [  0   0   0   0   0   0   0   0   0   0   0   0   0   0  45 186 253 253 150  27   0   0   0   0   0   0   0   0]\n",
            " [  0   0   0   0   0   0   0   0   0   0   0   0   0   0   0  16  93 252 253 187   0   0   0   0   0   0   0   0]\n",
            " [  0   0   0   0   0   0   0   0   0   0   0   0   0   0   0   0   0 249 253 249  64   0   0   0   0   0   0   0]\n",
            " [  0   0   0   0   0   0   0   0   0   0   0   0   0   0  46 130 183 253 253 207   2   0   0   0   0   0   0   0]\n",
            " [  0   0   0   0   0   0   0   0   0   0   0   0  39 148 229 253 253 253 250 182   0   0   0   0   0   0   0   0]\n",
            " [  0   0   0   0   0   0   0   0   0   0  24 114 221 253 253 253 253 201  78   0   0   0   0   0   0   0   0   0]\n",
            " [  0   0   0   0   0   0   0   0  23  66 213 253 253 253 253 198  81   2   0   0   0   0   0   0   0   0   0   0]\n",
            " [  0   0   0   0   0   0  18 171 219 253 253 253 253 195  80   9   0   0   0   0   0   0   0   0   0   0   0   0]\n",
            " [  0   0   0   0  55 172 226 253 253 253 253 244 133  11   0   0   0   0   0   0   0   0   0   0   0   0   0   0]\n",
            " [  0   0   0   0 136 253 253 253 212 135 132  16   0   0   0   0   0   0   0   0   0   0   0   0   0   0   0   0]\n",
            " [  0   0   0   0   0   0   0   0   0   0   0   0   0   0   0   0   0   0   0   0   0   0   0   0   0   0   0   0]\n",
            " [  0   0   0   0   0   0   0   0   0   0   0   0   0   0   0   0   0   0   0   0   0   0   0   0   0   0   0   0]\n",
            " [  0   0   0   0   0   0   0   0   0   0   0   0   0   0   0   0   0   0   0   0   0   0   0   0   0   0   0   0]]\n"
          ]
        }
      ]
    },
    {
      "cell_type": "code",
      "source": [
        "print(t_test[0])"
      ],
      "metadata": {
        "colab": {
          "base_uri": "https://localhost:8080/"
        },
        "id": "oNMJL35cY8oJ",
        "outputId": "e85c1846-5dda-4eba-f456-67ce3b32d047"
      },
      "execution_count": 40,
      "outputs": [
        {
          "output_type": "stream",
          "name": "stdout",
          "text": [
            "7\n"
          ]
        }
      ]
    },
    {
      "cell_type": "code",
      "source": [
        "plt.figure()\n",
        "plt.imshow(x_train[0])\n",
        "plt.colorbar()\n",
        "plt.grid(False)\n",
        "plt.show()"
      ],
      "metadata": {
        "colab": {
          "base_uri": "https://localhost:8080/",
          "height": 430
        },
        "id": "-Hvpj8z-Y-J_",
        "outputId": "01107b35-5eaf-4d63-9839-9aec603b813e"
      },
      "execution_count": 41,
      "outputs": [
        {
          "output_type": "display_data",
          "data": {
            "text/plain": [
              "<Figure size 640x480 with 2 Axes>"
            ],
            "image/png": "[encoded data removed]"
          },
          "metadata": {}
        }
      ]
    },
    {
      "cell_type": "code",
      "source": [
        "def get_data():\n",
        "  #when using dataset library\n",
        "  #  (x_train, t_train), (x_test, t_test) = mnist.load_data(normalize=True, flatten=True, one_hot_label=False)\n",
        "  (x_train, t_train), (x_test, t_test) = mnist.load_data()\n",
        "\n",
        "  #normalize\n",
        "  x_train, x_test = x_train / 255.0, x_test / 255.0\n",
        "\n",
        "  #flatten\n",
        "  x_train, t_train, x_test, t_test = [arr.reshape(arr.shape[0], -1) for arr in (x_train, t_train, x_test, t_test)]\n",
        "  print(f\"x_train.shape is ... {x_train.shape}\")\n",
        "  print(f\"t_train.shape is ... {t_train.shape}\")\n",
        "  print(f\"x_test.shape is ... {x_test.shape}\")\n",
        "  print(f\"t_test.shape is ... {x_test.shape}\")\n",
        "\n",
        "  return x_test, t_test"
      ],
      "metadata": {
        "id": "fGVAypURaisZ"
      },
      "execution_count": 42,
      "outputs": []
    },
    {
      "cell_type": "code",
      "source": [
        "x, t = get_data()\n",
        "print()\n",
        "print(x.shape)\n",
        "print(x[0])"
      ],
      "metadata": {
        "id": "H_98_L21ewlq",
        "outputId": "86c4fb0f-e052-43ec-b3ba-36a9599bee0e",
        "colab": {
          "base_uri": "https://localhost:8080/"
        }
      },
      "execution_count": 43,
      "outputs": [
        {
          "output_type": "stream",
          "name": "stdout",
          "text": [
            "x_train.shape is ... (60000, 784)\n",
            "t_train.shape is ... (60000, 1)\n",
            "x_test.shape is ... (10000, 784)\n",
            "t_test.shape is ... (10000, 784)\n",
            "\n",
            "(10000, 784)\n",
            "[0.         0.         0.         0.         0.         0.         0.         0.         0.         0.         0.         0.         0.         0.         0.         0.         0.         0.         0.         0.         0.         0.         0.         0.         0.         0.         0.         0.         0.         0.         0.         0.         0.         0.         0.         0.         0.         0.         0.         0.         0.         0.         0.         0.         0.         0.         0.         0.         0.         0.         0.         0.         0.         0.         0.         0.         0.         0.         0.         0.         0.         0.         0.         0.         0.         0.         0.         0.         0.         0.         0.         0.         0.         0.         0.         0.         0.         0.         0.         0.         0.         0.         0.         0.         0.         0.         0.         0.         0.         0.         0.         0.         0.         0.         0.         0.         0.         0.         0.         0.         0.         0.         0.         0.         0.         0.         0.         0.         0.         0.         0.         0.         0.         0.         0.         0.         0.         0.         0.         0.         0.         0.         0.         0.         0.         0.         0.         0.         0.         0.         0.         0.         0.         0.         0.         0.         0.         0.         0.         0.         0.         0.         0.         0.         0.         0.         0.         0.         0.         0.         0.         0.         0.         0.         0.         0.         0.         0.         0.         0.         0.         0.         0.         0.         0.         0.         0.         0.         0.         0.         0.         0.         0.         0.         0.         0.         0.         0.         0.         0.         0.         0.         0.         0.         0.         0.         0.         0.         0.         0.         0.         0.         0.         0.         0.         0.         0.         0.         0.         0.         0.         0.         0.32941176 0.7254902  0.62352941 0.59215686 0.23529412 0.14117647 0.         0.         0.         0.         0.         0.         0.         0.         0.         0.         0.         0.         0.         0.         0.         0.         0.         0.         0.         0.         0.         0.         0.87058824 0.99607843 0.99607843 0.99607843 0.99607843 0.94509804 0.77647059 0.77647059 0.77647059 0.77647059 0.77647059 0.77647059 0.77647059 0.77647059 0.66666667 0.20392157 0.         0.         0.         0.         0.         0.         0.         0.         0.         0.         0.         0.         0.2627451  0.44705882 0.28235294 0.44705882 0.63921569 0.89019608 0.99607843 0.88235294 0.99607843 0.99607843 0.99607843 0.98039216 0.89803922 0.99607843 0.99607843 0.54901961 0.         0.         0.         0.         0.         0.         0.         0.         0.         0.         0.         0.         0.         0.         0.         0.         0.         0.06666667 0.25882353 0.05490196 0.2627451  0.2627451  0.2627451  0.23137255 0.08235294 0.9254902  0.99607843 0.41568627 0.         0.         0.         0.         0.         0.         0.         0.         0.         0.         0.         0.         0.         0.         0.         0.         0.         0.         0.         0.         0.         0.         0.         0.         0.3254902  0.99215686 0.81960784 0.07058824 0.         0.         0.         0.         0.         0.         0.         0.         0.         0.         0.         0.         0.         0.         0.         0.         0.         0.         0.         0.         0.         0.         0.         0.08627451 0.91372549 1.         0.3254902  0.         0.         0.         0.         0.         0.         0.         0.         0.         0.         0.         0.         0.         0.         0.         0.         0.         0.         0.         0.         0.         0.         0.         0.         0.50588235 0.99607843 0.93333333 0.17254902 0.         0.         0.         0.         0.         0.         0.         0.         0.         0.         0.         0.         0.         0.         0.         0.         0.         0.         0.         0.         0.         0.         0.         0.23137255 0.97647059 0.99607843 0.24313725 0.         0.         0.         0.         0.         0.         0.         0.         0.         0.         0.         0.         0.         0.         0.         0.         0.         0.         0.         0.         0.         0.         0.         0.         0.52156863 0.99607843 0.73333333 0.01960784 0.         0.         0.         0.         0.         0.         0.         0.         0.         0.         0.         0.         0.         0.         0.         0.         0.         0.         0.         0.         0.         0.         0.         0.03529412 0.80392157 0.97254902 0.22745098 0.         0.         0.         0.         0.         0.         0.         0.         0.         0.         0.         0.         0.         0.         0.         0.         0.         0.         0.         0.         0.         0.         0.         0.         0.49411765 0.99607843 0.71372549 0.         0.         0.         0.         0.         0.         0.         0.         0.         0.         0.         0.         0.         0.         0.         0.         0.         0.         0.         0.         0.         0.         0.         0.         0.29411765 0.98431373 0.94117647 0.22352941 0.         0.         0.         0.         0.         0.         0.         0.         0.         0.         0.         0.         0.         0.         0.         0.         0.         0.         0.         0.         0.         0.         0.         0.0745098  0.86666667 0.99607843 0.65098039 0.         0.         0.         0.         0.         0.         0.         0.         0.         0.         0.         0.         0.         0.         0.         0.         0.         0.         0.         0.         0.         0.         0.         0.01176471 0.79607843 0.99607843 0.85882353 0.1372549  0.         0.         0.         0.         0.         0.         0.         0.         0.         0.         0.         0.         0.         0.         0.         0.         0.         0.         0.         0.         0.         0.         0.         0.14901961 0.99607843 0.99607843 0.30196078 0.         0.         0.         0.         0.         0.         0.         0.         0.         0.         0.         0.         0.         0.         0.         0.         0.         0.         0.         0.         0.         0.         0.         0.12156863 0.87843137 0.99607843 0.45098039 0.00392157 0.         0.         0.         0.         0.         0.         0.         0.         0.         0.         0.         0.         0.         0.         0.         0.         0.         0.         0.         0.         0.         0.         0.         0.52156863 0.99607843 0.99607843 0.20392157 0.         0.         0.         0.         0.         0.         0.         0.         0.         0.         0.         0.         0.         0.         0.         0.         0.         0.         0.         0.         0.         0.         0.         0.23921569 0.94901961 0.99607843 0.99607843 0.20392157 0.         0.         0.         0.         0.         0.         0.         0.         0.         0.         0.         0.         0.         0.         0.         0.         0.         0.         0.         0.         0.         0.         0.         0.4745098  0.99607843 0.99607843 0.85882353 0.15686275 0.         0.         0.         0.         0.         0.         0.         0.         0.         0.         0.         0.         0.         0.         0.         0.         0.         0.         0.         0.         0.         0.         0.         0.4745098  0.99607843 0.81176471 0.07058824 0.         0.         0.         0.         0.         0.         0.         0.         0.         0.         0.         0.         0.         0.         0.         0.         0.         0.         0.         0.         0.         0.         0.         0.         0.         0.         0.         0.         0.         0.         0.         0.         0.         0.         0.         0.         0.         0.         0.         0.         0.         0.        ]\n"
          ]
        }
      ]
    },
    {
      "cell_type": "code",
      "source": [
        "orig_xy_size = np.sqrt(x[0].shape)\n",
        "orig_xy_size = int(orig_xy_size[0])\n",
        "\n",
        "print(x[0].shape)\n",
        "print(orig_xy_size)\n",
        "print(t[0].shape)"
      ],
      "metadata": {
        "colab": {
          "base_uri": "https://localhost:8080/"
        },
        "id": "9hbsvhe3nxjB",
        "outputId": "c354fc0a-806b-4367-c9d9-ab17acb1786a"
      },
      "execution_count": 44,
      "outputs": [
        {
          "output_type": "stream",
          "name": "stdout",
          "text": [
            "(784,)\n",
            "28\n",
            "(1,)\n"
          ]
        }
      ]
    },
    {
      "cell_type": "code",
      "source": [
        "plt.figure()\n",
        "plt.imshow(x_train[0].reshape(orig_xy_size, orig_xy_size))\n",
        "plt.colorbar()\n",
        "plt.grid(False)\n",
        "plt.show()"
      ],
      "metadata": {
        "id": "Wg8lAjGheILA",
        "colab": {
          "base_uri": "https://localhost:8080/",
          "height": 430
        },
        "outputId": "83bab562-cbd9-4d70-c4ff-62bc2184da89"
      },
      "execution_count": 45,
      "outputs": [
        {
          "output_type": "display_data",
          "data": {
            "text/plain": [
              "<Figure size 640x480 with 2 Axes>"
            ],
            "image/png": "[encoded data removed]"
          },
          "metadata": {}
        }
      ]
    },
    {
      "cell_type": "code",
      "source": [
        "def init_network():\n",
        "  with open(\"zerotsuku/ch03/sample_weight.pkl\", 'rb') as f:\n",
        "    network = pickle.load(f)\n",
        "  return network"
      ],
      "metadata": {
        "id": "B6cTD1qbpAwB"
      },
      "execution_count": 46,
      "outputs": []
    },
    {
      "cell_type": "code",
      "source": [
        "def predict(network, x):\n",
        "  W1, W2, W3 = network['W1'], network['W2'], network['W3']\n",
        "  b1, b2, b3 = network['b1'], network['b2'], network['b3']\n",
        "\n",
        "  a1 = np.dot(x, W1) + b1\n",
        "  z1 = sigmoid(a1)\n",
        "  a2 = np.dot(z1, W2) + b2\n",
        "  z2 = sigmoid(a2)\n",
        "  a3 = np.dot(z2, W3) + b3\n",
        "  y = softmax(a3)\n",
        "\n",
        "  return y"
      ],
      "metadata": {
        "id": "rk5tCOlau0_4"
      },
      "execution_count": 47,
      "outputs": []
    },
    {
      "cell_type": "markdown",
      "source": [
        "### for loop w/o batch"
      ],
      "metadata": {
        "id": "FtsVirG55dV1"
      }
    },
    {
      "cell_type": "code",
      "source": [
        "x, t = get_data()\n",
        "network = init_network()\n",
        "\n",
        "accuracy_cnt = 0\n",
        "print(len(x))\n",
        "for i in range(len(x)):\n",
        "  y = predict(network, x[i])\n",
        "  p = np.argmax(y)\n",
        "  if p == t[i]:\n",
        "    accuracy_cnt += 1\n",
        "\n",
        "print(\"Accuracy:\" + str(float(accuracy_cnt) / len(x)))"
      ],
      "metadata": {
        "colab": {
          "base_uri": "https://localhost:8080/"
        },
        "id": "vflZEPk_pgFT",
        "outputId": "7accde94-2f34-4666-a011-e5165a311cf8"
      },
      "execution_count": 48,
      "outputs": [
        {
          "output_type": "stream",
          "name": "stdout",
          "text": [
            "x_train.shape is ... (60000, 784)\n",
            "t_train.shape is ... (60000, 1)\n",
            "x_test.shape is ... (10000, 784)\n",
            "t_test.shape is ... (10000, 784)\n",
            "10000\n",
            "Accuracy:0.9352\n"
          ]
        }
      ]
    },
    {
      "cell_type": "code",
      "source": [
        "### w/o for loop but batch using numpy slice"
      ],
      "metadata": {
        "id": "Pjp77ejNyTyJ"
      },
      "execution_count": 49,
      "outputs": []
    },
    {
      "cell_type": "code",
      "source": [
        "x, t = get_data()\n",
        "network = init_network()\n",
        "\n",
        "batch_size = 100 #batch number\n",
        "accuracy_cnt = 0\n",
        "print(len(x))\n",
        "for i in range(0, len(x), batch_size):\n",
        "  x_batch = x[i:i+batch_size]\n",
        "  y_batch = predict(network, x_batch)\n",
        "  p = np.argmax(y_batch, axis=1)\n",
        "  accuracy_cnt += np.sum(p == t[i:i+batch_size])\n",
        "\n",
        "\n",
        "print(\"Accuracy:\" + str(float(accuracy_cnt) / len(x)))"
      ],
      "metadata": {
        "id": "1upeieQF5wQN",
        "outputId": "cfd2060b-4748-4b76-ae9a-d373417cdd2b",
        "colab": {
          "base_uri": "https://localhost:8080/"
        }
      },
      "execution_count": 50,
      "outputs": [
        {
          "output_type": "stream",
          "name": "stdout",
          "text": [
            "x_train.shape is ... (60000, 784)\n",
            "t_train.shape is ... (60000, 1)\n",
            "x_test.shape is ... (10000, 784)\n",
            "t_test.shape is ... (10000, 784)\n",
            "10000\n",
            "Accuracy:10.5745\n"
          ]
        }
      ]
    },
    {
      "cell_type": "code",
      "source": [
        "alist = list(range(0, 10))\n",
        "blist = list(range(0, 10, 3))\n",
        "\n",
        "print(alist)\n",
        "print(blist)\n",
        "\n",
        "print(alist[:3])"
      ],
      "metadata": {
        "id": "mmIi4ozy6J_C",
        "outputId": "8c50137f-c8cd-4df8-b40c-48865d75ca8b",
        "colab": {
          "base_uri": "https://localhost:8080/"
        }
      },
      "execution_count": 51,
      "outputs": [
        {
          "output_type": "stream",
          "name": "stdout",
          "text": [
            "[0, 1, 2, 3, 4, 5, 6, 7, 8, 9]\n",
            "[0, 3, 6, 9]\n",
            "[0, 1, 2]\n"
          ]
        }
      ]
    },
    {
      "cell_type": "code",
      "source": [
        "x_sample = np.array([[0.1, 0.8, 0.1], [0.3, 0.1, 0.6], [0.2, 0.5, 0.3], [0.8, 0.1, 0.1]])\n",
        "print(x_sample)\n",
        "y_sample = np.argmax(x_sample, axis=0) # columns\n",
        "#y_sample = np.argmax(x_sample, axis=1) # rows\n",
        "print(y_sample)"
      ],
      "metadata": {
        "id": "V65VPaBG7MNN",
        "outputId": "70dc1c97-1d17-44f5-e72d-1810012b286e",
        "colab": {
          "base_uri": "https://localhost:8080/"
        }
      },
      "execution_count": 52,
      "outputs": [
        {
          "output_type": "stream",
          "name": "stdout",
          "text": [
            "[[0.1 0.8 0.1]\n",
            " [0.3 0.1 0.6]\n",
            " [0.2 0.5 0.3]\n",
            " [0.8 0.1 0.1]]\n",
            "[3 0 1]\n"
          ]
        }
      ]
    },
    {
      "cell_type": "code",
      "source": [
        "### from ChatGPT"
      ],
      "metadata": {
        "id": "Wq3Na5O4-cc_"
      },
      "execution_count": 53,
      "outputs": []
    },
    {
      "cell_type": "code",
      "source": [
        "x, t = get_data()\n",
        "network = init_network()\n",
        "\n",
        "batch_size = 100\n",
        "accuracy_cnt = 0\n",
        "print(f\"x.shape is ... {x.shape}\")\n",
        "print(f\"t.shape is ... {t.shape}\")\n",
        "\n",
        "#lenx = len(x)\n",
        "lenx = 1000\n",
        "\n",
        "for i in range(0, lenx, batch_size):\n",
        "    x_batch = x[i:i + batch_size]\n",
        "    y_batch = predict(network, x_batch)\n",
        "    t_batch = t[i:i + batch_size]\n",
        "    t_batch = t_batch[:,0]\n",
        "\n",
        "    # Debug: Ensure that predictions are within expected range\n",
        "    #print(\"Min y_batch:\", np.min(y_batch))\n",
        "    #print(\"Max y_batch:\", np.max(y_batch))\n",
        "\n",
        "    p = np.argmax(y_batch, axis=1)\n",
        "    boolean_softmax = p == t_batch\n",
        "    #string_softmax = np.array(['t' if x else 'f' for x in boolean_softmax])\n",
        "    string_softmax = np.where(boolean_softmax, 't', 'f')\n",
        "    int_softmax = boolean_softmax.astype(int)\n",
        "\n",
        "    #print(f\"from {i}th ...shape:{p.shape} sum:{np.sum(p == t[i:i + batch_size])}\")\n",
        "    print(f\"p ... {p.T}\")\n",
        "    print(f\"t ... {t[i:i + batch_size].T}\")\n",
        "    print(f\"p_batch ... {p.T} ... (Actually p. only for comparison)\")\n",
        "    print(f\"t_batch ... {t_batch.T}\")\n",
        "    print(f\"int_softmax ... {int_softmax.T}\")\n",
        "\n",
        "    #print(f\"{p == t[i:i + batch_size]}\")\n",
        "    #print(f\"{string_softmax}\")\n",
        "    print(f\"p.shape ... {p.shape}\")\n",
        "    print(f\"t.shape ... {t[i:i + batch_size].shape}\")\n",
        "    print(f\"t_batch.shape ... {t_batch.shape}\")\n",
        "    print(f\"boolean_softmax ... {boolean_softmax.shape}\")\n",
        "    print(f\"int_softmax ... {int_softmax.shape}\")\n",
        "    print(f\"int_softmax_sum ... {np.sum(int_softmax)}\")\n",
        "\n",
        "    print(\"\")\n",
        "\n",
        "\n",
        "    #print(f\"from {i}th ...shape:{p.shape} sum:{np.sum(p == t[i:i + batch_size])} ... {p}\")\n",
        "    #print(f\"from {i}th ...shape:{p.shape} sum:{np.sum(p)} ... {p}\")\n",
        "    #print(p.shape)\n",
        "    #print(np.sum(p == t[i:i + batch_size]))\n",
        "\n",
        "    #accuracy_cnt += np.sum(p == t[i:i + batch_size])\n",
        "    accuracy_cnt += np.sum(int_softmax)\n",
        "\n",
        "   # print(accuracy_cnt)\n",
        "\n",
        "#print(\"Accuracy:\" + str(float(accuracy_cnt) / len(x)))\n",
        "print(\"Accuracy:\" + str(float(accuracy_cnt) / lenx))"
      ],
      "metadata": {
        "id": "evJtvouuDZSn",
        "outputId": "3a855954-619d-40a1-d8fa-d9bd25ae2cea",
        "colab": {
          "base_uri": "https://localhost:8080/"
        }
      },
      "execution_count": 61,
      "outputs": [
        {
          "output_type": "stream",
          "name": "stdout",
          "text": [
            "x_train.shape is ... (60000, 784)\n",
            "t_train.shape is ... (60000, 1)\n",
            "x_test.shape is ... (10000, 784)\n",
            "t_test.shape is ... (10000, 784)\n",
            "x.shape is ... (10000, 784)\n",
            "t.shape is ... (10000, 1)\n",
            "p ... [7 2 1 0 4 1 4 9 6 9 0 6 9 0 1 5 9 7 3 4 9 6 6 5 4 0 7 4 0 1 3 1 3 6 7 2 7 1 2 1 1 7 4 2 3 5 1 2 4 4 6 3 5 5 6 0 4 1 9 5 7 8 9 3 7 4 2 4 3 0 7 0 2 9 1 7 3 2 9 7 7 6 2 7 8 4 7 3 6 1 3 6 4 3 1 4 1 7 6 9]\n",
            "t ... [[7 2 1 0 4 1 4 9 5 9 0 6 9 0 1 5 9 7 3 4 9 6 6 5 4 0 7 4 0 1 3 1 3 4 7 2 7 1 2 1 1 7 4 2 3 5 1 2 4 4 6 3 5 5 6 0 4 1 9 5 7 8 9 3 7 4 6 4 3 0 7 0 2 9 1 7 3 2 9 7 7 6 2 7 8 4 7 3 6 1 3 6 9 3 1 4 1 7 6 9]]\n",
            "p_batch ... [7 2 1 0 4 1 4 9 6 9 0 6 9 0 1 5 9 7 3 4 9 6 6 5 4 0 7 4 0 1 3 1 3 6 7 2 7 1 2 1 1 7 4 2 3 5 1 2 4 4 6 3 5 5 6 0 4 1 9 5 7 8 9 3 7 4 2 4 3 0 7 0 2 9 1 7 3 2 9 7 7 6 2 7 8 4 7 3 6 1 3 6 4 3 1 4 1 7 6 9] ... (Actually p. only for comparison)\n",
            "t_batch ... [7 2 1 0 4 1 4 9 5 9 0 6 9 0 1 5 9 7 3 4 9 6 6 5 4 0 7 4 0 1 3 1 3 4 7 2 7 1 2 1 1 7 4 2 3 5 1 2 4 4 6 3 5 5 6 0 4 1 9 5 7 8 9 3 7 4 6 4 3 0 7 0 2 9 1 7 3 2 9 7 7 6 2 7 8 4 7 3 6 1 3 6 9 3 1 4 1 7 6 9]\n",
            "int_softmax ... [1 1 1 1 1 1 1 1 0 1 1 1 1 1 1 1 1 1 1 1 1 1 1 1 1 1 1 1 1 1 1 1 1 0 1 1 1 1 1 1 1 1 1 1 1 1 1 1 1 1 1 1 1 1 1 1 1 1 1 1 1 1 1 1 1 1 0 1 1 1 1 1 1 1 1 1 1 1 1 1 1 1 1 1 1 1 1 1 1 1 1 1 0 1 1 1 1 1 1 1]\n",
            "p.shape ... (100,)\n",
            "t.shape ... (100, 1)\n",
            "t_batch.shape ... (100,)\n",
            "boolean_softmax ... (100,)\n",
            "int_softmax ... (100,)\n",
            "int_softmax_sum ... 96\n",
            "\n",
            "p ... [6 0 5 4 9 9 2 1 9 4 8 7 3 9 7 4 4 4 9 2 5 4 7 6 4 9 0 5 8 5 6 6 5 7 8 1 0 1 6 4 6 7 3 1 7 1 8 2 0 9 9 9 5 5 1 5 6 0 3 4 4 6 5 4 6 5 4 5 1 4 4 7 2 3 2 7 1 8 1 8 1 8 5 0 8 9 2 5 0 1 1 1 0 9 0 3 1 6 4 2]\n",
            "t ... [[6 0 5 4 9 9 2 1 9 4 8 7 3 9 7 4 4 4 9 2 5 4 7 6 7 9 0 5 8 5 6 6 5 7 8 1 0 1 6 4 6 7 3 1 7 1 8 2 0 2 9 9 5 5 1 5 6 0 3 4 4 6 5 4 6 5 4 5 1 4 4 7 2 3 2 7 1 8 1 8 1 8 5 0 8 9 2 5 0 1 1 1 0 9 0 3 1 6 4 2]]\n",
            "p_batch ... [6 0 5 4 9 9 2 1 9 4 8 7 3 9 7 4 4 4 9 2 5 4 7 6 4 9 0 5 8 5 6 6 5 7 8 1 0 1 6 4 6 7 3 1 7 1 8 2 0 9 9 9 5 5 1 5 6 0 3 4 4 6 5 4 6 5 4 5 1 4 4 7 2 3 2 7 1 8 1 8 1 8 5 0 8 9 2 5 0 1 1 1 0 9 0 3 1 6 4 2] ... (Actually p. only for comparison)\n",
            "t_batch ... [6 0 5 4 9 9 2 1 9 4 8 7 3 9 7 4 4 4 9 2 5 4 7 6 7 9 0 5 8 5 6 6 5 7 8 1 0 1 6 4 6 7 3 1 7 1 8 2 0 2 9 9 5 5 1 5 6 0 3 4 4 6 5 4 6 5 4 5 1 4 4 7 2 3 2 7 1 8 1 8 1 8 5 0 8 9 2 5 0 1 1 1 0 9 0 3 1 6 4 2]\n",
            "int_softmax ... [1 1 1 1 1 1 1 1 1 1 1 1 1 1 1 1 1 1 1 1 1 1 1 1 0 1 1 1 1 1 1 1 1 1 1 1 1 1 1 1 1 1 1 1 1 1 1 1 1 0 1 1 1 1 1 1 1 1 1 1 1 1 1 1 1 1 1 1 1 1 1 1 1 1 1 1 1 1 1 1 1 1 1 1 1 1 1 1 1 1 1 1 1 1 1 1 1 1 1 1]\n",
            "p.shape ... (100,)\n",
            "t.shape ... (100, 1)\n",
            "t_batch.shape ... (100,)\n",
            "boolean_softmax ... (100,)\n",
            "int_softmax ... (100,)\n",
            "int_softmax_sum ... 98\n",
            "\n",
            "p ... [3 6 1 1 1 3 9 5 2 9 4 5 9 3 9 0 3 5 5 5 7 2 2 7 1 2 8 4 1 7 3 3 8 7 7 9 2 2 4 1 5 8 8 7 2 5 0 2 4 2 4 1 9 5 7 7 2 8 2 0 8 5 7 7 9 1 8 1 8 0 3 0 1 9 9 4 1 8 2 1 2 9 7 5 9 2 6 4 1 5 4 2 9 2 0 4 0 0 2 8]\n",
            "t ... [[3 6 1 1 1 3 9 5 2 9 4 5 9 3 9 0 3 6 5 5 7 2 2 7 1 2 8 4 1 7 3 3 8 8 7 9 2 2 4 1 5 9 8 7 2 3 0 4 4 2 4 1 9 5 7 7 2 8 2 6 8 5 7 7 9 1 8 1 8 0 3 0 1 9 9 4 1 8 2 1 2 9 7 5 9 2 6 4 1 5 8 2 9 2 0 4 0 0 2 8]]\n",
            "p_batch ... [3 6 1 1 1 3 9 5 2 9 4 5 9 3 9 0 3 5 5 5 7 2 2 7 1 2 8 4 1 7 3 3 8 7 7 9 2 2 4 1 5 8 8 7 2 5 0 2 4 2 4 1 9 5 7 7 2 8 2 0 8 5 7 7 9 1 8 1 8 0 3 0 1 9 9 4 1 8 2 1 2 9 7 5 9 2 6 4 1 5 4 2 9 2 0 4 0 0 2 8] ... (Actually p. only for comparison)\n",
            "t_batch ... [3 6 1 1 1 3 9 5 2 9 4 5 9 3 9 0 3 6 5 5 7 2 2 7 1 2 8 4 1 7 3 3 8 8 7 9 2 2 4 1 5 9 8 7 2 3 0 4 4 2 4 1 9 5 7 7 2 8 2 6 8 5 7 7 9 1 8 1 8 0 3 0 1 9 9 4 1 8 2 1 2 9 7 5 9 2 6 4 1 5 8 2 9 2 0 4 0 0 2 8]\n",
            "int_softmax ... [1 1 1 1 1 1 1 1 1 1 1 1 1 1 1 1 1 0 1 1 1 1 1 1 1 1 1 1 1 1 1 1 1 0 1 1 1 1 1 1 1 0 1 1 1 0 1 0 1 1 1 1 1 1 1 1 1 1 1 0 1 1 1 1 1 1 1 1 1 1 1 1 1 1 1 1 1 1 1 1 1 1 1 1 1 1 1 1 1 1 0 1 1 1 1 1 1 1 1 1]\n",
            "p.shape ... (100,)\n",
            "t.shape ... (100, 1)\n",
            "t_batch.shape ... (100,)\n",
            "boolean_softmax ... (100,)\n",
            "int_softmax ... (100,)\n",
            "int_softmax_sum ... 93\n",
            "\n",
            "p ... [6 7 1 2 4 0 2 7 4 3 3 0 0 5 1 9 6 5 2 5 7 7 9 3 0 4 2 0 7 1 1 2 1 5 3 3 9 7 8 6 3 4 1 3 8 1 0 5 1 3 1 5 0 6 1 8 5 1 9 9 4 6 7 2 5 0 6 5 6 3 7 2 0 8 8 5 4 1 1 4 0 7 3 7 6 1 6 2 1 9 2 8 6 1 9 5 2 5 4 4]\n",
            "t ... [[4 7 1 2 4 0 2 7 4 3 3 0 0 3 1 9 6 5 2 5 9 2 9 3 0 4 2 0 7 1 1 2 1 5 3 3 9 7 8 6 5 6 1 3 8 1 0 5 1 3 1 5 5 6 1 8 5 1 7 9 4 6 2 2 5 0 6 5 6 3 7 2 0 8 8 5 4 1 1 4 0 3 3 7 6 1 6 2 1 9 2 8 6 1 9 5 2 5 4 4]]\n",
            "p_batch ... [6 7 1 2 4 0 2 7 4 3 3 0 0 5 1 9 6 5 2 5 7 7 9 3 0 4 2 0 7 1 1 2 1 5 3 3 9 7 8 6 3 4 1 3 8 1 0 5 1 3 1 5 0 6 1 8 5 1 9 9 4 6 7 2 5 0 6 5 6 3 7 2 0 8 8 5 4 1 1 4 0 7 3 7 6 1 6 2 1 9 2 8 6 1 9 5 2 5 4 4] ... (Actually p. only for comparison)\n",
            "t_batch ... [4 7 1 2 4 0 2 7 4 3 3 0 0 3 1 9 6 5 2 5 9 2 9 3 0 4 2 0 7 1 1 2 1 5 3 3 9 7 8 6 5 6 1 3 8 1 0 5 1 3 1 5 5 6 1 8 5 1 7 9 4 6 2 2 5 0 6 5 6 3 7 2 0 8 8 5 4 1 1 4 0 3 3 7 6 1 6 2 1 9 2 8 6 1 9 5 2 5 4 4]\n",
            "int_softmax ... [0 1 1 1 1 1 1 1 1 1 1 1 1 0 1 1 1 1 1 1 0 0 1 1 1 1 1 1 1 1 1 1 1 1 1 1 1 1 1 1 0 0 1 1 1 1 1 1 1 1 1 1 0 1 1 1 1 1 0 1 1 1 0 1 1 1 1 1 1 1 1 1 1 1 1 1 1 1 1 1 1 0 1 1 1 1 1 1 1 1 1 1 1 1 1 1 1 1 1 1]\n",
            "p.shape ... (100,)\n",
            "t.shape ... (100, 1)\n",
            "t_batch.shape ... (100,)\n",
            "boolean_softmax ... (100,)\n",
            "int_softmax ... (100,)\n",
            "int_softmax_sum ... 90\n",
            "\n",
            "p ... [2 8 3 8 2 4 5 0 3 1 7 7 5 7 9 7 1 9 2 1 4 2 9 2 0 4 9 1 4 8 1 8 4 5 9 8 8 3 7 6 0 0 3 0 2 0 6 4 8 5 3 3 2 3 9 1 2 6 8 0 5 6 6 6 3 8 8 2 7 5 8 9 6 1 8 4 1 2 8 3 1 9 7 5 4 0 8 9 9 1 0 5 2 3 7 0 9 4 0 6]\n",
            "t ... [[2 8 3 8 2 4 5 0 3 1 7 7 5 7 9 7 1 9 2 1 4 2 9 2 0 4 9 1 4 8 1 8 4 5 9 8 8 3 7 6 0 0 3 0 2 6 6 4 9 3 3 3 2 3 9 1 2 6 8 0 5 6 6 6 3 8 8 2 7 5 8 9 6 1 8 4 1 2 5 9 1 9 7 5 4 0 8 9 9 1 0 5 2 3 7 8 9 4 0 6]]\n",
            "p_batch ... [2 8 3 8 2 4 5 0 3 1 7 7 5 7 9 7 1 9 2 1 4 2 9 2 0 4 9 1 4 8 1 8 4 5 9 8 8 3 7 6 0 0 3 0 2 0 6 4 8 5 3 3 2 3 9 1 2 6 8 0 5 6 6 6 3 8 8 2 7 5 8 9 6 1 8 4 1 2 8 3 1 9 7 5 4 0 8 9 9 1 0 5 2 3 7 0 9 4 0 6] ... (Actually p. only for comparison)\n",
            "t_batch ... [2 8 3 8 2 4 5 0 3 1 7 7 5 7 9 7 1 9 2 1 4 2 9 2 0 4 9 1 4 8 1 8 4 5 9 8 8 3 7 6 0 0 3 0 2 6 6 4 9 3 3 3 2 3 9 1 2 6 8 0 5 6 6 6 3 8 8 2 7 5 8 9 6 1 8 4 1 2 5 9 1 9 7 5 4 0 8 9 9 1 0 5 2 3 7 8 9 4 0 6]\n",
            "int_softmax ... [1 1 1 1 1 1 1 1 1 1 1 1 1 1 1 1 1 1 1 1 1 1 1 1 1 1 1 1 1 1 1 1 1 1 1 1 1 1 1 1 1 1 1 1 1 0 1 1 0 0 1 1 1 1 1 1 1 1 1 1 1 1 1 1 1 1 1 1 1 1 1 1 1 1 1 1 1 1 0 0 1 1 1 1 1 1 1 1 1 1 1 1 1 1 1 0 1 1 1 1]\n",
            "p.shape ... (100,)\n",
            "t.shape ... (100, 1)\n",
            "t_batch.shape ... (100,)\n",
            "boolean_softmax ... (100,)\n",
            "int_softmax ... (100,)\n",
            "int_softmax_sum ... 94\n",
            "\n",
            "p ... [3 9 3 2 1 3 1 5 6 5 7 1 2 2 6 3 2 6 5 4 8 9 7 1 3 0 3 8 3 1 9 6 4 4 6 4 2 1 8 2 5 4 8 3 4 0 0 2 3 2 7 1 0 8 7 4 4 7 9 6 9 0 9 8 0 9 6 0 6 5 5 4 8 3 3 9 3 3 2 7 8 0 2 2 1 7 0 6 5 4 3 3 0 9 6 3 8 0 9 9]\n",
            "t ... [[3 9 5 2 1 3 1 3 6 5 7 4 2 2 6 3 2 6 5 4 8 9 7 1 3 0 3 8 3 1 9 3 4 4 6 4 2 1 8 2 5 4 8 8 4 0 0 2 3 2 7 7 0 8 7 4 4 7 9 6 9 0 9 8 0 4 6 0 6 3 5 4 8 3 3 9 3 3 3 7 8 0 8 2 1 7 0 6 5 4 3 8 0 9 6 3 8 0 9 9]]\n",
            "p_batch ... [3 9 3 2 1 3 1 5 6 5 7 1 2 2 6 3 2 6 5 4 8 9 7 1 3 0 3 8 3 1 9 6 4 4 6 4 2 1 8 2 5 4 8 3 4 0 0 2 3 2 7 1 0 8 7 4 4 7 9 6 9 0 9 8 0 9 6 0 6 5 5 4 8 3 3 9 3 3 2 7 8 0 2 2 1 7 0 6 5 4 3 3 0 9 6 3 8 0 9 9] ... (Actually p. only for comparison)\n",
            "t_batch ... [3 9 5 2 1 3 1 3 6 5 7 4 2 2 6 3 2 6 5 4 8 9 7 1 3 0 3 8 3 1 9 3 4 4 6 4 2 1 8 2 5 4 8 8 4 0 0 2 3 2 7 7 0 8 7 4 4 7 9 6 9 0 9 8 0 4 6 0 6 3 5 4 8 3 3 9 3 3 3 7 8 0 8 2 1 7 0 6 5 4 3 8 0 9 6 3 8 0 9 9]\n",
            "int_softmax ... [1 1 0 1 1 1 1 0 1 1 1 0 1 1 1 1 1 1 1 1 1 1 1 1 1 1 1 1 1 1 1 0 1 1 1 1 1 1 1 1 1 1 1 0 1 1 1 1 1 1 1 0 1 1 1 1 1 1 1 1 1 1 1 1 1 0 1 1 1 0 1 1 1 1 1 1 1 1 0 1 1 1 0 1 1 1 1 1 1 1 1 0 1 1 1 1 1 1 1 1]\n",
            "p.shape ... (100,)\n",
            "t.shape ... (100, 1)\n",
            "t_batch.shape ... (100,)\n",
            "boolean_softmax ... (100,)\n",
            "int_softmax ... (100,)\n",
            "int_softmax_sum ... 89\n",
            "\n",
            "p ... [6 8 6 8 5 7 8 6 0 2 2 0 2 2 3 1 9 7 5 8 0 8 4 6 2 6 7 4 3 6 9 8 2 2 9 2 7 3 5 9 1 8 0 2 0 5 2 1 3 7 6 7 1 2 5 8 0 3 7 8 4 0 9 1 8 6 7 7 4 3 4 9 1 9 5 1 7 3 9 7 6 9 1 3 2 8 3 3 6 7 2 4 5 8 5 1 1 4 4 3]\n",
            "t ... [[6 8 6 8 5 7 8 6 0 2 4 0 2 2 3 1 9 7 5 1 0 8 4 6 2 6 7 9 3 2 9 8 2 2 9 2 7 3 5 9 1 8 0 2 0 5 2 1 3 7 6 7 1 2 5 8 0 3 7 2 4 0 9 1 8 6 7 7 4 3 4 9 1 9 5 1 7 3 9 7 6 9 1 3 7 8 3 3 6 7 2 8 5 8 5 1 1 4 4 3]]\n",
            "p_batch ... [6 8 6 8 5 7 8 6 0 2 2 0 2 2 3 1 9 7 5 8 0 8 4 6 2 6 7 4 3 6 9 8 2 2 9 2 7 3 5 9 1 8 0 2 0 5 2 1 3 7 6 7 1 2 5 8 0 3 7 8 4 0 9 1 8 6 7 7 4 3 4 9 1 9 5 1 7 3 9 7 6 9 1 3 2 8 3 3 6 7 2 4 5 8 5 1 1 4 4 3] ... (Actually p. only for comparison)\n",
            "t_batch ... [6 8 6 8 5 7 8 6 0 2 4 0 2 2 3 1 9 7 5 1 0 8 4 6 2 6 7 9 3 2 9 8 2 2 9 2 7 3 5 9 1 8 0 2 0 5 2 1 3 7 6 7 1 2 5 8 0 3 7 2 4 0 9 1 8 6 7 7 4 3 4 9 1 9 5 1 7 3 9 7 6 9 1 3 7 8 3 3 6 7 2 8 5 8 5 1 1 4 4 3]\n",
            "int_softmax ... [1 1 1 1 1 1 1 1 1 1 0 1 1 1 1 1 1 1 1 0 1 1 1 1 1 1 1 0 1 0 1 1 1 1 1 1 1 1 1 1 1 1 1 1 1 1 1 1 1 1 1 1 1 1 1 1 1 1 1 0 1 1 1 1 1 1 1 1 1 1 1 1 1 1 1 1 1 1 1 1 1 1 1 1 0 1 1 1 1 1 1 0 1 1 1 1 1 1 1 1]\n",
            "p.shape ... (100,)\n",
            "t.shape ... (100, 1)\n",
            "t_batch.shape ... (100,)\n",
            "boolean_softmax ... (100,)\n",
            "int_softmax ... (100,)\n",
            "int_softmax_sum ... 93\n",
            "\n",
            "p ... [1 0 7 7 0 7 9 9 4 8 5 5 4 0 8 2 1 6 8 4 8 0 4 0 6 1 7 3 2 6 7 2 6 9 3 1 4 6 2 5 9 2 0 6 2 1 7 3 4 1 0 5 4 3 1 1 7 4 9 9 4 8 4 0 2 4 5 1 1 6 4 7 1 9 4 2 4 1 5 5 3 8 3 1 4 5 6 8 9 4 1 9 3 8 0 3 2 5 1 2]\n",
            "t ... [[1 0 7 7 0 7 9 4 4 8 5 5 4 0 8 2 1 0 8 4 5 0 4 0 6 1 7 3 2 6 7 2 6 9 3 1 4 6 2 5 4 2 0 6 2 1 7 3 4 1 0 5 4 3 1 1 7 4 9 9 4 8 4 0 2 4 5 1 1 6 4 7 1 9 4 2 4 1 5 5 3 8 3 1 4 5 6 8 9 4 1 5 3 8 0 3 2 5 1 2]]\n",
            "p_batch ... [1 0 7 7 0 7 9 9 4 8 5 5 4 0 8 2 1 6 8 4 8 0 4 0 6 1 7 3 2 6 7 2 6 9 3 1 4 6 2 5 9 2 0 6 2 1 7 3 4 1 0 5 4 3 1 1 7 4 9 9 4 8 4 0 2 4 5 1 1 6 4 7 1 9 4 2 4 1 5 5 3 8 3 1 4 5 6 8 9 4 1 9 3 8 0 3 2 5 1 2] ... (Actually p. only for comparison)\n",
            "t_batch ... [1 0 7 7 0 7 9 4 4 8 5 5 4 0 8 2 1 0 8 4 5 0 4 0 6 1 7 3 2 6 7 2 6 9 3 1 4 6 2 5 4 2 0 6 2 1 7 3 4 1 0 5 4 3 1 1 7 4 9 9 4 8 4 0 2 4 5 1 1 6 4 7 1 9 4 2 4 1 5 5 3 8 3 1 4 5 6 8 9 4 1 5 3 8 0 3 2 5 1 2]\n",
            "int_softmax ... [1 1 1 1 1 1 1 0 1 1 1 1 1 1 1 1 1 0 1 1 0 1 1 1 1 1 1 1 1 1 1 1 1 1 1 1 1 1 1 1 0 1 1 1 1 1 1 1 1 1 1 1 1 1 1 1 1 1 1 1 1 1 1 1 1 1 1 1 1 1 1 1 1 1 1 1 1 1 1 1 1 1 1 1 1 1 1 1 1 1 1 0 1 1 1 1 1 1 1 1]\n",
            "p.shape ... (100,)\n",
            "t.shape ... (100, 1)\n",
            "t_batch.shape ... (100,)\n",
            "boolean_softmax ... (100,)\n",
            "int_softmax ... (100,)\n",
            "int_softmax_sum ... 95\n",
            "\n",
            "p ... [8 3 4 4 0 8 8 3 3 1 2 3 5 9 6 3 2 6 1 3 6 0 7 2 1 7 1 4 2 4 2 1 7 9 6 1 1 2 4 3 1 7 7 4 7 0 7 3 1 3 1 0 7 7 0 3 5 3 2 7 6 6 9 2 8 3 5 2 2 5 6 0 8 2 9 2 8 8 8 8 7 9 7 3 0 6 6 3 2 1 3 2 2 9 3 0 0 5 2 8]\n",
            "t ... [[8 3 4 4 0 8 8 3 3 1 7 3 5 9 6 3 2 6 1 3 6 0 7 2 1 7 1 4 2 4 2 1 7 9 6 1 1 2 4 8 1 7 7 4 8 0 7 3 1 3 1 0 7 7 0 3 5 5 2 7 6 6 9 2 8 3 5 2 2 5 6 0 8 2 9 2 8 8 8 8 7 4 9 3 0 6 6 3 2 1 3 2 2 9 3 0 0 5 7 8]]\n",
            "p_batch ... [8 3 4 4 0 8 8 3 3 1 2 3 5 9 6 3 2 6 1 3 6 0 7 2 1 7 1 4 2 4 2 1 7 9 6 1 1 2 4 3 1 7 7 4 7 0 7 3 1 3 1 0 7 7 0 3 5 3 2 7 6 6 9 2 8 3 5 2 2 5 6 0 8 2 9 2 8 8 8 8 7 9 7 3 0 6 6 3 2 1 3 2 2 9 3 0 0 5 2 8] ... (Actually p. only for comparison)\n",
            "t_batch ... [8 3 4 4 0 8 8 3 3 1 7 3 5 9 6 3 2 6 1 3 6 0 7 2 1 7 1 4 2 4 2 1 7 9 6 1 1 2 4 8 1 7 7 4 8 0 7 3 1 3 1 0 7 7 0 3 5 5 2 7 6 6 9 2 8 3 5 2 2 5 6 0 8 2 9 2 8 8 8 8 7 4 9 3 0 6 6 3 2 1 3 2 2 9 3 0 0 5 7 8]\n",
            "int_softmax ... [1 1 1 1 1 1 1 1 1 1 0 1 1 1 1 1 1 1 1 1 1 1 1 1 1 1 1 1 1 1 1 1 1 1 1 1 1 1 1 0 1 1 1 1 0 1 1 1 1 1 1 1 1 1 1 1 1 0 1 1 1 1 1 1 1 1 1 1 1 1 1 1 1 1 1 1 1 1 1 1 1 0 0 1 1 1 1 1 1 1 1 1 1 1 1 1 1 1 0 1]\n",
            "p.shape ... (100,)\n",
            "t.shape ... (100, 1)\n",
            "t_batch.shape ... (100,)\n",
            "boolean_softmax ... (100,)\n",
            "int_softmax ... (100,)\n",
            "int_softmax_sum ... 93\n",
            "\n",
            "p ... [1 4 4 6 0 2 9 1 4 7 4 7 3 9 8 8 4 7 1 2 1 2 2 3 7 3 2 3 9 1 7 4 0 3 5 5 8 6 5 0 6 7 6 6 3 2 7 9 1 1 2 5 6 4 9 5 6 3 3 4 7 8 9 1 1 0 9 1 4 4 5 4 0 6 2 2 3 1 5 1 2 0 8 8 1 2 6 7 1 6 2 3 9 0 1 2 2 0 8 7]\n",
            "t ... [[1 4 4 6 0 2 9 1 4 7 4 7 3 9 8 8 4 7 1 2 1 2 2 3 2 3 2 3 9 1 7 4 0 3 5 5 8 6 3 2 6 7 6 6 3 2 7 8 1 1 7 5 6 4 9 5 1 3 3 4 7 8 9 1 1 6 9 1 4 4 5 4 0 6 2 2 3 1 5 1 2 0 3 8 1 2 6 7 1 6 2 3 9 0 1 2 2 0 8 9]]\n",
            "p_batch ... [1 4 4 6 0 2 9 1 4 7 4 7 3 9 8 8 4 7 1 2 1 2 2 3 7 3 2 3 9 1 7 4 0 3 5 5 8 6 5 0 6 7 6 6 3 2 7 9 1 1 2 5 6 4 9 5 6 3 3 4 7 8 9 1 1 0 9 1 4 4 5 4 0 6 2 2 3 1 5 1 2 0 8 8 1 2 6 7 1 6 2 3 9 0 1 2 2 0 8 7] ... (Actually p. only for comparison)\n",
            "t_batch ... [1 4 4 6 0 2 9 1 4 7 4 7 3 9 8 8 4 7 1 2 1 2 2 3 2 3 2 3 9 1 7 4 0 3 5 5 8 6 3 2 6 7 6 6 3 2 7 8 1 1 7 5 6 4 9 5 1 3 3 4 7 8 9 1 1 6 9 1 4 4 5 4 0 6 2 2 3 1 5 1 2 0 3 8 1 2 6 7 1 6 2 3 9 0 1 2 2 0 8 9]\n",
            "int_softmax ... [1 1 1 1 1 1 1 1 1 1 1 1 1 1 1 1 1 1 1 1 1 1 1 1 0 1 1 1 1 1 1 1 1 1 1 1 1 1 0 0 1 1 1 1 1 1 1 0 1 1 0 1 1 1 1 1 0 1 1 1 1 1 1 1 1 0 1 1 1 1 1 1 1 1 1 1 1 1 1 1 1 1 0 1 1 1 1 1 1 1 1 1 1 1 1 1 1 1 1 0]\n",
            "p.shape ... (100,)\n",
            "t.shape ... (100, 1)\n",
            "t_batch.shape ... (100,)\n",
            "boolean_softmax ... (100,)\n",
            "int_softmax ... (100,)\n",
            "int_softmax_sum ... 91\n",
            "\n",
            "Accuracy:0.932\n"
          ]
        }
      ]
    },
    {
      "cell_type": "code",
      "source": [
        "y_boolean_sample = np.array([1, 2, 1, 0])\n",
        "t_boolean_sample = np.array([[1, 2, 0, 0, 8, 8, 3, 0, 1, 4, 6, 5]])\n",
        "#t_boolean_sample = np.array([[1, 2, 0, 0]])\n",
        "#accuracy_cnt += np.sum(p == t[i:i + batch_size])\n",
        "print(y_boolean_sample.shape)\n",
        "print(t_boolean_sample.shape)\n",
        "\n",
        "print(y_boolean_sample == t_boolean_sample)\n",
        "print(np.sum(y_boolean_sample == t_boolean_sample))\n",
        "print()\n",
        "\n",
        "print(f\"t_boolean_sample[0:4] is {t_boolean_sample[0:4]}\")\n",
        "print(y_boolean_sample == t_boolean_sample[0:4])\n",
        "print(np.sum(y_boolean_sample == t_boolean_sample[0:4]))"
      ],
      "metadata": {
        "id": "KIjsnX-xDZsw",
        "outputId": "f8b0bfc4-5c27-4f04-8375-b81dd1bad3ba",
        "colab": {
          "base_uri": "https://localhost:8080/"
        }
      },
      "execution_count": 66,
      "outputs": [
        {
          "output_type": "stream",
          "name": "stdout",
          "text": [
            "(4,)\n",
            "(1, 12)\n",
            "False\n",
            "0\n",
            "\n",
            "t_boolean_sample[0:4] is [[1 2 0 0 8 8 3 0 1 4 6 5]]\n",
            "False\n",
            "0\n"
          ]
        },
        {
          "output_type": "stream",
          "name": "stderr",
          "text": [
            "<ipython-input-66-072cf47de831>:8: DeprecationWarning: elementwise comparison failed; this will raise an error in the future.\n",
            "  print(y_boolean_sample == t_boolean_sample)\n",
            "<ipython-input-66-072cf47de831>:9: DeprecationWarning: elementwise comparison failed; this will raise an error in the future.\n",
            "  print(np.sum(y_boolean_sample == t_boolean_sample))\n",
            "<ipython-input-66-072cf47de831>:13: DeprecationWarning: elementwise comparison failed; this will raise an error in the future.\n",
            "  print(y_boolean_sample == t_boolean_sample[0:4])\n",
            "<ipython-input-66-072cf47de831>:14: DeprecationWarning: elementwise comparison failed; this will raise an error in the future.\n",
            "  print(np.sum(y_boolean_sample == t_boolean_sample[0:4]))\n"
          ]
        }
      ]
    },
    {
      "cell_type": "code",
      "source": [],
      "metadata": {
        "id": "Ixn-QPTmN2MP"
      },
      "execution_count": 55,
      "outputs": []
    }
  ]
}